{
 "cells": [
  {
   "cell_type": "markdown",
   "metadata": {
    "collapsed": true,
    "id": "MEA8CG5vWQnb",
    "pycharm": {
     "name": "#%% md\n"
    }
   },
   "source": [
    "\n",
    "# Lab-7:\n",
    "In this lab, we will examine some classifiers and the regularization concept in the classification problem.\n",
    "Also, we will see\n",
    "\n",
    "### Objectives:\n",
    "1. Lasso and Ridge\n",
    "2. Regularization in Keras.\n",
    "2. PCA\n",
    "\n",
    "---\n",
    "<span style=\"color:red\">\n",
    "   L1, L2 regularization they act as a constraint region for the coefficients, where their values should reside in it.\n",
    "   It works by Adding to the cost function  a term of summation of all absolute values/squared values of the weights.\n",
    "\n",
    "   L2 constraint is spherical shape which is more felixible than the L1 constraint area\n",
    "   which is like rhombus\n",
    "\n",
    "   L1 may force some coeffeicient to be zero when lambda is large enough, so l1 regularization could be treated as kind of variable selection and it can produce sparse model.\n",
    "\n",
    "</span>\n",
    "\n",
    "## Lasso and Ridge\n",
    "Both models are the regularized forms of the linear regression.\n",
    "Lasso with L1 regularization and Ridge with L2 regularization.\n",
    "Both act as a constraint region for the coeffeicients/weight, where they must reside in.\n",
    "\n",
    "### Issues:\n",
    "1. When to use Lasso?\n",
    "<span style=\"color:blue\">\n",
    "\n",
    "    1. Used when there are only a few predictors actually impact the response.\n",
    "    2. It can be used as a feature selection algorithm, with the appropriate value of lambda, a sparse model can be produced.\n",
    "2. When to use Ridge?\n",
    "<span style=\"color:blue\">\n",
    "Used when there are many of predictors and most of them influence the response.\n",
    "\n",
    "3. Since it is hard to decide the parameters influence, How we can decide which regularization? and decide the value of lambda?\n",
    "<span style=\"color:blue\">\n",
    "Using the cross validation!\n",
    "    \n",
    "\n",
    "### Loading Boston dataset\n",
    "Housing-Prices Values in Suburbs of Boston."
   ]
  },
  {
   "cell_type": "code",
   "execution_count": 1,
   "metadata": {
    "id": "qjUZVz7VWQnd",
    "pycharm": {
     "name": "#%%\n"
    }
   },
   "outputs": [
    {
     "name": "stdout",
     "output_type": "stream",
     "text": [
      "(353, 13)\n"
     ]
    }
   ],
   "source": [
    "from sklearn.datasets import load_boston\n",
    "from sklearn.model_selection import train_test_split\n",
    "\n",
    "X, y = load_boston(return_X_y=True)\n",
    "x_train, x_test, y_train, y_test = train_test_split(X, y, test_size=0.2, random_state=123)\n",
    "x_train, x_val, y_train, y_val = train_test_split(x_train, y_train, test_size=1/8, random_state=123)\n",
    "print(x_train.shape)"
   ]
  },
  {
   "cell_type": "markdown",
   "metadata": {
    "id": "zCr51wZGWQne",
    "pycharm": {
     "name": "#%% md\n"
    }
   },
   "source": [
    "### Fitting both Lasso and Ridge\n",
    "Task:\n",
    "\n",
    "Fit two models: Lasso and Ridge - with the default alpha-.\n",
    "Then print their coefficients and notice the difference."
   ]
  },
  {
   "cell_type": "code",
   "execution_count": 3,
   "metadata": {
    "id": "4B5kprDUWQne",
    "pycharm": {
     "name": "#%%\n"
    }
   },
   "outputs": [
    {
     "name": "stdout",
     "output_type": "stream",
     "text": [
      "Lasso Coefficient: [-6.29657633e-02  3.50956640e-02  0.00000000e+00  0.00000000e+00\n",
      " -0.00000000e+00  2.26979134e+00  6.77955847e-04 -6.45065773e-01\n",
      "  1.93545727e-01 -1.35087027e-02 -6.45345873e-01  4.49042185e-03\n",
      " -6.73150676e-01]\n",
      "Ridge Coefficient [-1.11057981e-01  3.65852805e-02  4.69212854e-02  6.03824135e-01\n",
      " -6.97460565e+00  5.11864285e+00 -2.69870227e-02 -1.22824280e+00\n",
      "  2.49139807e-01 -1.39899765e-02 -8.47813312e-01  6.95422088e-03\n",
      " -4.68816487e-01]\n"
     ]
    }
   ],
   "source": [
    "from sklearn.linear_model import Lasso, Ridge\n",
    "\n",
    "lasso = Lasso()\n",
    "ridge = Ridge()\n",
    "\n",
    "lasso.fit(x_train, y_train)\n",
    "ridge.fit(x_train, y_train)\n",
    "\n",
    "print(\"Lasso Coefficient:\",lasso.coef_)\n",
    "print(\"Ridge Coefficient\",ridge.coef_)\n",
    "\n",
    "# the result of the coefficients show that some of the features of \n",
    "# lasso regression went to zero.\n"
   ]
  },
  {
   "cell_type": "markdown",
   "metadata": {
    "id": "UlA2KnJEWQnf",
    "pycharm": {
     "name": "#%% md\n"
    }
   },
   "source": [
    "Task: Let's try different values for alpha for Lasso regressor and plot the validation loss."
   ]
  },
  {
   "cell_type": "code",
   "execution_count": 6,
   "metadata": {
    "id": "8jS83H8RWQnf",
    "pycharm": {
     "name": "#%%\n"
    }
   },
   "outputs": [
    {
     "data": {
      "image/png": "[encoded data removed]",
      "text/plain": [
       "<Figure size 432x288 with 1 Axes>"
      ]
     },
     "metadata": {
      "needs_background": "light"
     },
     "output_type": "display_data"
    },
    {
     "name": "stdout",
     "output_type": "stream",
     "text": [
      "Best value of alpha: 1.3\n"
     ]
    }
   ],
   "source": [
    "import matplotlib.pylab as plt\n",
    "import numpy as np\n",
    "from sklearn.metrics import mean_squared_error\n",
    "%matplotlib inline\n",
    "\n",
    "alphas = [2.2, 2, 1.5, 1.3, 1.2, 1.1, 1, 0.3, 0.1]\n",
    "losses = []\n",
    "for alpha in alphas:\n",
    "    # Write (5 lines): create a Lasso regressor with the alpha value.\n",
    "    # Fit it to the training set, then get the prediction of the validation set (x_val).\n",
    "    # calculate the mean sqaured error loss, then append it to the losses array\n",
    "    lasso_model = Lasso(alpha=alpha)\n",
    "    lasso_model.fit(x_train, y_train)\n",
    "    lasso_pred = lasso_model.predict(x_val)\n",
    "    mse = mean_squared_error(y_val, lasso_pred)\n",
    "    losses.append(mse)\n",
    "    \n",
    "plt.plot(alphas, losses)\n",
    "plt.xlabel(\"alpha\")\n",
    "plt.ylabel(\"Mean squared error\")\n",
    "plt.show()\n",
    "\n",
    "best_alpha = alphas[np.argmin(losses)]\n",
    "print(\"Best value of alpha:\", best_alpha)\n",
    "\n",
    "\n",
    "# The plot shows that previously the model was overfitting due to small alpha value\n",
    "# and at some point, an higher alpha value makes the model to underfit the data"
   ]
  },
  {
   "cell_type": "markdown",
   "metadata": {
    "id": "ae1rr2bNWQng",
    "pycharm": {
     "name": "#%% md\n"
    }
   },
   "source": [
    "Measuring the loss on the testset with Lasso regressor with the best alpha."
   ]
  },
  {
   "cell_type": "code",
   "execution_count": 7,
   "metadata": {
    "id": "0zrYXIW7WQng",
    "pycharm": {
     "name": "#%%\n"
    }
   },
   "outputs": [
    {
     "name": "stdout",
     "output_type": "stream",
     "text": [
      "MSE on testset: 31.953762880829828\n"
     ]
    }
   ],
   "source": [
    "lasso = Lasso(best_alpha)\n",
    "lasso.fit(x_train, y_train)\n",
    "y_pred = lasso.predict(x_test)\n",
    "print(\"MSE on testset:\", mean_squared_error(y_test, y_pred))"
   ]
  },
  {
   "cell_type": "markdown",
   "metadata": {
    "id": "aPU_UatoXhQN"
   },
   "source": [
    "### How to Do it in Keras."
   ]
  },
  {
   "cell_type": "markdown",
   "metadata": {
    "id": "0n7FL614YZVY"
   },
   "source": [
    "Task: add regularization in the dense layers in the following model, with "
   ]
  },
  {
   "cell_type": "code",
   "execution_count": 8,
   "metadata": {
    "id": "5FykodPiXoHh"
   },
   "outputs": [
    {
     "name": "stdout",
     "output_type": "stream",
     "text": [
      "(60000, 28, 28) (10000, 28, 28)\n",
      "(60000, 784) (60000,) (10000, 784) (10000,)\n",
      "Epoch 1/5\n",
      "6000/6000 [==============================] - 6s 952us/step - loss: 0.8769 - accuracy: 0.7640\n",
      "Epoch 2/5\n",
      "6000/6000 [==============================] - 5s 870us/step - loss: 0.4325 - accuracy: 0.8822\n",
      "Epoch 3/5\n",
      "6000/6000 [==============================] - 6s 944us/step - loss: 0.4017 - accuracy: 0.8867\n",
      "Epoch 4/5\n",
      "6000/6000 [==============================] - 6s 925us/step - loss: 0.4137 - accuracy: 0.8844\n",
      "Epoch 5/5\n",
      "6000/6000 [==============================] - 5s 916us/step - loss: 0.3800 - accuracy: 0.8916\n",
      "313/313 [==============================] - 0s 785us/step - loss: 0.3601 - accuracy: 0.8977\n",
      "Loss: 0.36014288663864136 , Accuracy: 0.8977000117301941\n"
     ]
    }
   ],
   "source": [
    "#%%\n",
    "\n",
    "from tensorflow.keras.datasets import mnist\n",
    "from tensorflow.keras.models import Sequential\n",
    "from tensorflow.keras.layers import Dense, Dropout, Activation, BatchNormalization\n",
    "from tensorflow.keras.optimizers import Adam, SGD\n",
    "from tensorflow.keras import regularizers\n",
    "\n",
    "import matplotlib.pyplot as plt\n",
    "from math import sqrt, ceil\n",
    "\n",
    "(x_train, y_train), (x_test, y_test) = mnist.load_data() \n",
    "train_shape = x_train.shape\n",
    "test_shape = x_test.shape\n",
    "print(x_train.shape, x_test.shape)\n",
    "#Images are 2D. What's the difference in 3D images?\n",
    "x_train = x_train.reshape(train_shape[0], train_shape[1] * train_shape[2])\n",
    "x_test = x_test.reshape(test_shape[0], test_shape[1] * test_shape[2])\n",
    "print(x_train.shape, y_train.shape, x_test.shape, y_test.shape)\n",
    "\n",
    "\n",
    "\n",
    "# Some hyperparamters:\n",
    "\n",
    "\n",
    "epochs = 5\n",
    "batch_size = 10\n",
    "input_size = x_train.shape[1]\n",
    "num_classes = 10 \n",
    "\n",
    "# Define your regularizer here (1 line).\n",
    "\n",
    "l1_reg = regularizers.L1(1e-6)\n",
    "l2_reg = regularizers.L2(1e-5)\n",
    "l1_l2_reg = regularizers.L1L2(l1=1e-4,l2=1e-5)\n",
    "\n",
    "def get_model():\n",
    "    model = Sequential()\n",
    "\n",
    "    model.add(Dense(units=128,\n",
    "                    input_dim=input_size,\n",
    "                    activation='sigmoid',\n",
    "                   kernel_regularizer=l1_reg))\n",
    "\n",
    "    # Add 2 hidden layers with number of units: 32, 64 \n",
    "\n",
    "\n",
    "    model.add(Dense(units=num_classes, use_bias=True, activation='softmax',kernel_regularizer=l2_reg))\n",
    "    #Try to change the optimizer, visit: https://goo.gl/dHFJNy\n",
    "    #Try to change the loss func, visit: https://goo.gl/xMrooU\n",
    "    #Try to change learning rate (lr)\n",
    "    #In your free time take a look at different variations of GD: https://goo.gl/YFa6XY\n",
    "    sgd_optimizer = SGD(lr=.01)\n",
    "    adam_optimizer = Adam(lr=.001)\n",
    "    model.compile(optimizer=sgd_optimizer, loss='sparse_categorical_crossentropy', metrics=['accuracy'])\n",
    "    return model\n",
    "\n",
    "model = get_model()\n",
    "model.fit(x=x_train, y=y_train, batch_size=batch_size, epochs=epochs)\n",
    "\n",
    "loss, acc= model.evaluate(x_test, y_test)\n",
    "print(\"Loss:\", loss, \", Accuracy:\", acc)\n"
   ]
  },
  {
   "cell_type": "markdown",
   "metadata": {
    "id": "zgeDfUGOWQnh",
    "pycharm": {
     "name": "#%% md\n"
    }
   },
   "source": [
    "## PCA\n",
    "1. How does PCA reduce data dimensionality? <span style=\"color:blue\"> It linearly transforms initial data points by projecting them to new axes - the ones that explaim maximum amount of variance. </span>\n",
    "2. What is eigenvector? <span style=\"color:blue\">  Characteristic vector of a linear transformation - a nonzero vector that changes at most by a scalar factor (eigenvector) when that linear transformation is applied to it. </span>\n",
    "\n",
    "\n",
    "Task: Now you will implement basic steps of PCA: mean-centering, eigenvectors calculation using covariance matrix, projecting data to the first PC, and restoring it back."
   ]
  },
  {
   "cell_type": "markdown",
   "metadata": {
    "id": "ns8LzkluWQnh"
   },
   "source": [
    "### Generating data ###"
   ]
  },
  {
   "cell_type": "code",
   "execution_count": 9,
   "metadata": {
    "id": "-e7HmptwWQni",
    "pycharm": {
     "name": "#%%\n"
    }
   },
   "outputs": [
    {
     "data": {
      "image/png": "[encoded data removed]",
      "text/plain": [
       "<Figure size 432x288 with 1 Axes>"
      ]
     },
     "metadata": {
      "needs_background": "light"
     },
     "output_type": "display_data"
    }
   ],
   "source": [
    "# N is a sample size\n",
    "N = 25\n",
    "# we can fix a random seed. It allows us to get the same data\n",
    "np.random.seed(10)\n",
    "# form our data\n",
    "x = np.linspace(-5, -3, N)\n",
    "y = 10 + 2*x + np.random.random(size=(N,))\n",
    "data = np.stack([x,y], axis = 1)\n",
    "\n",
    "\n",
    "plt.title(\"Data\")\n",
    "plt.plot(data[:,0], data[:,1], '.', color=\"green\")\n",
    "plt.axis([-6, 2, -3, 6])\n",
    "plt.grid('True')"
   ]
  },
  {
   "cell_type": "markdown",
   "metadata": {
    "id": "YtQw3dQtWQni"
   },
   "source": [
    "### Center data###"
   ]
  },
  {
   "cell_type": "code",
   "execution_count": 11,
   "metadata": {
    "id": "AbQa4yj9WQnj",
    "pycharm": {
     "name": "#%%\n"
    }
   },
   "outputs": [
    {
     "data": {
      "image/png": "[encoded data removed]",
      "text/plain": [
       "<Figure size 432x288 with 1 Axes>"
      ]
     },
     "metadata": {
      "needs_background": "light"
     },
     "output_type": "display_data"
    }
   ],
   "source": [
    "# center data by subtracting mean value from each feature\n",
    "# pay attention to mean_vector <-- we need it later for restoring our data\n",
    "mean_vector = data.mean(axis=0)\n",
    "data_centered = data - mean_vector\n",
    "\n",
    "plt.title(\"Centered data\")\n",
    "plt.plot(data[:,0], data[:,1], '.', color=\"green\")\n",
    "plt.plot(data_centered[:,0], data_centered[:,1], '.', color=\"blue\")\n",
    "plt.axis([-6, 2, -3, 6])\n",
    "plt.grid('True')"
   ]
  },
  {
   "cell_type": "markdown",
   "metadata": {
    "id": "_9-LjVkqWQnj"
   },
   "source": [
    "### Covariance matrix ###"
   ]
  },
  {
   "cell_type": "code",
   "execution_count": 17,
   "metadata": {
    "id": "23QWMin6WQnj",
    "pycharm": {
     "name": "#%%\n"
    }
   },
   "outputs": [
    {
     "name": "stdout",
     "output_type": "stream",
     "text": [
      "Covariance matrix:\n",
      " [[0.37615741 0.76801889]\n",
      " [0.76801889 1.65019543]]\n",
      "cov(X,Y): 0.7680188927863001\n"
     ]
    }
   ],
   "source": [
    "# calculate covariance matrix for our centered data\n",
    "cov_mat = np.cov(data_centered, rowvar=False)\n",
    "print('Covariance matrix:\\n', cov_mat)\n",
    "\n",
    "# Cov(x, y) = (1 / (n - 1)) * Sum_i(x_i * y_i)\n",
    "# also, to make sure you understand how to calculate covariance, calculate and print cov(X,Y)\n",
    "# check that it is the same as in the covariance matrix\n",
    "cov_xy = 1/(N - 1) * np.sum(data_centered[:,0] * data_centered[:,1])\n",
    "print('cov(X,Y):', cov_xy)"
   ]
  },
  {
   "cell_type": "markdown",
   "metadata": {
    "id": "GLno4bPlWQnk"
   },
   "source": [
    "### Eigenvectors and eigenvalues"
   ]
  },
  {
   "cell_type": "code",
   "execution_count": 20,
   "metadata": {
    "id": "74Az2bqwWQnk",
    "pycharm": {
     "name": "#%%\n"
    }
   },
   "outputs": [
    {
     "name": "stdout",
     "output_type": "stream",
     "text": [
      "eig_values: [0.01535567 2.01099716]\n",
      "eig_vectors:\n",
      " [[-0.90509952 -0.42519979]\n",
      " [ 0.42519979 -0.90509952]]\n",
      "\n",
      "sorteed eig_values: [2.01099716 0.01535567]\n",
      "sorted eig_vectors:\n",
      " [[-0.42519979 -0.90509952]\n",
      " [-0.90509952  0.42519979]]\n",
      "\n",
      "retained variance: [0.99242201 0.00757799]\n"
     ]
    }
   ],
   "source": [
    "# compute eigenvectors and eigenvalues, print them\n",
    "eig_values, eig_vectors = np.linalg.eig(cov_mat)\n",
    "print('eig_values:', eig_values)\n",
    "print('eig_vectors:\\n', eig_vectors)\n",
    "\n",
    "# are they already in the needed order?\n",
    "# if not, order eigenvectors and eigenvalues by eigenvalues, descending (3 lines)\n",
    "# Note: the eig_vectors is a col vectors.\n",
    "\n",
    "idx = np.argsort(-eig_values)\n",
    "eig_values = eig_values[idx]\n",
    "eig_vectors = eig_vectors[:,idx]\n",
    "print('\\nsorteed eig_values:', eig_values)\n",
    "print('sorted eig_vectors:\\n', eig_vectors)\n",
    "\n",
    "# estimate variance retained by each principal component\n",
    "retained_var = eig_values / eig_values.sum()\n",
    "print('\\nretained variance:',   retained_var)"
   ]
  },
  {
   "cell_type": "markdown",
   "metadata": {
    "id": "TOs6hymtWQnk"
   },
   "source": [
    "### Project data ###"
   ]
  },
  {
   "cell_type": "code",
   "execution_count": 21,
   "metadata": {
    "id": "pSVR1uBeWQnl",
    "pycharm": {
     "name": "#%%\n"
    }
   },
   "outputs": [
    {
     "data": {
      "image/png": "[encoded data removed]",
      "text/plain": [
       "<Figure size 432x288 with 1 Axes>"
      ]
     },
     "metadata": {
      "needs_background": "light"
     },
     "output_type": "display_data"
    }
   ],
   "source": [
    "# project data to the first principal component\n",
    "first_pc = eig_vectors[:,:1]\n",
    "projected_data = np.matmul(data_centered,first_pc)\n",
    "\n",
    "plt.title(\"Projected data\")\n",
    "plt.plot(data[:,0], data[:,1], '.', color=\"green\")\n",
    "plt.plot(data_centered[:,0], data_centered[:,1], '.', color=\"blue\")\n",
    "plt.plot(projected_data, np.zeros(len(projected_data)), '.', color=\"red\")\n",
    "plt.axis([-6, 3, -3, 6])\n",
    "plt.grid('True')"
   ]
  },
  {
   "cell_type": "markdown",
   "metadata": {
    "id": "zLi5AUrVWQnm"
   },
   "source": [
    "### Restore data back ###"
   ]
  },
  {
   "cell_type": "code",
   "execution_count": 22,
   "metadata": {
    "id": "bQw2yirXWQnm",
    "pycharm": {
     "name": "#%%\n"
    }
   },
   "outputs": [
    {
     "data": {
      "image/png": "[encoded data removed]",
      "text/plain": [
       "<Figure size 432x288 with 1 Axes>"
      ]
     },
     "metadata": {
      "needs_background": "light"
     },
     "output_type": "display_data"
    }
   ],
   "source": [
    "# Projected_data . first_pc.T + means\n",
    "# project data back to initial space\n",
    "# remember to add a mean_vector to the restored data\n",
    "restored_data = np.matmul(projected_data,first_pc.T) + mean_vector\n",
    "\n",
    "plt.title(\"Restored data\")\n",
    "plt.plot(data[:,0], data[:,1], '.', color=\"green\")\n",
    "plt.plot(data_centered[:,0], data_centered[:,1], '.', color=\"blue\")\n",
    "plt.plot(restored_data[:,0], restored_data[:,1], '.', color=\"red\")\n",
    "plt.axis([-6, 2, -3, 6])\n",
    "plt.grid('True')\n",
    "plt.show()"
   ]
  },
  {
   "cell_type": "markdown",
   "metadata": {
    "id": "-h4FLs6jWQnm"
   },
   "source": [
    "### SKLEARN implementation ###"
   ]
  },
  {
   "cell_type": "code",
   "execution_count": 23,
   "metadata": {
    "id": "itFqJZL3WQnm",
    "pycharm": {
     "name": "#%%\n"
    }
   },
   "outputs": [
    {
     "name": "stdout",
     "output_type": "stream",
     "text": [
      "[-4.          2.50055666]\n",
      "[[-0.42519979 -0.90509952]]\n",
      "[2.01099716]\n",
      "[0.99242201]\n"
     ]
    },
    {
     "data": {
      "image/png": "[encoded data removed]",
      "text/plain": [
       "<Figure size 432x288 with 1 Axes>"
      ]
     },
     "metadata": {
      "needs_background": "light"
     },
     "output_type": "display_data"
    }
   ],
   "source": [
    "# this is to check your solution\n",
    "from sklearn.decomposition import PCA\n",
    "pca = PCA(n_components=1)\n",
    "x_PCA = pca.fit_transform(data)\n",
    "\n",
    "plt.title(\"Projected data\")\n",
    "plt.plot(data[:,0], data[:,1], '.', color=\"green\")\n",
    "plt.plot(data_centered[:,0], data_centered[:,1], '.', color=\"blue\")\n",
    "plt.plot(x_PCA, np.zeros(len(projected_data)), '.', color=\"red\")\n",
    "plt.axis([-6, 3, -3, 6])\n",
    "plt.grid('True')\n",
    "\n",
    "print(pca.mean_)\n",
    "print(pca.components_)\n",
    "print(pca.explained_variance_)\n",
    "print(pca.explained_variance_ratio_)"
   ]
  },
  {
   "cell_type": "code",
   "execution_count": null,
   "metadata": {},
   "outputs": [],
   "source": []
  }
 ],
 "metadata": {
  "colab": {
   "collapsed_sections": [],
   "name": "Lab-7.ipynb",
   "provenance": []
  },
  "kernelspec": {
   "display_name": "Python 3",
   "language": "python",
   "name": "python3"
  },
  "language_info": {
   "codemirror_mode": {
    "name": "ipython",
    "version": 3
   },
   "file_extension": ".py",
   "mimetype": "text/x-python",
   "name": "python",
   "nbconvert_exporter": "python",
   "pygments_lexer": "ipython3",
   "version": "3.8.5"
  }
 },
 "nbformat": 4,
 "nbformat_minor": 1
}
