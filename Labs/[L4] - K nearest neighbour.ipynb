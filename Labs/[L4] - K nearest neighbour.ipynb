{
 "cells": [
  {
   "cell_type": "markdown",
   "metadata": {
    "collapsed": true,
    "pycharm": {
     "name": "#%% md\n"
    }
   },
   "source": [
    "# Lab-4:\n",
    "In this lab, we will examine some classifiers and the regularization concept in the classification problem.\n",
    "Also, we will see\n",
    "\n",
    "### Objectives:\n",
    "1. KNN\n",
    "2. Cross Validation\n"
   ]
  },
  {
   "cell_type": "markdown",
   "source": [
    "## Loading the digits dataset\n",
    "Dataset of 10 classes, one for each digit (0-9) with (8*8) 64 features. Suitable for classification!"
   ],
   "metadata": {
    "collapsed": false
   }
  },
  {
   "cell_type": "code",
   "execution_count": 1,
   "outputs": [
    {
     "output_type": "stream",
     "name": "stdout",
     "text": [
      "(1437, 64)\n"
     ]
    }
   ],
   "source": [
    "from sklearn.datasets import load_digits\n",
    "from sklearn.model_selection import train_test_split\n",
    "\n",
    "X, y = load_digits(return_X_y=True)\n",
    "x_train, x_test, y_train, y_test = train_test_split(X, y, test_size=0.2)\n",
    "# We will show why we didn't split a validation set.\n",
    "print(x_train.shape)"
   ],
   "metadata": {
    "collapsed": false,
    "pycharm": {
     "name": "#%%\n"
    }
   }
  },
  {
   "cell_type": "markdown",
   "source": [
    "## K nearest neighbour classifier\n",
    "1. What are the pros and cons of KNN?\n",
    "\n",
    "2. To increase the variance of KNN model, should we increase or decrease the K?"
   ],
   "metadata": {
    "collapsed": false
   }
  },
  {
   "cell_type": "markdown",
   "source": [
    "___\n",
    "Let's do the same with KNN classifier.\n",
    "\n",
    "\n",
    "Task: Rescale the features first."
   ],
   "metadata": {
    "collapsed": false,
    "pycharm": {
     "name": "#%% md\n"
    }
   }
  },
  {
   "cell_type": "code",
   "execution_count": 2,
   "outputs": [],
   "source": [
    "from sklearn.preprocessing import StandardScaler\n",
    "\n",
    "scaler = StandardScaler()\n",
    "# Complete the following 2 lines to scale both train and test sets\n",
    "x_train = scaler.fit_transform(x_train)\n",
    "x_test = scaler.transform(x_test)"
   ],
   "metadata": {
    "collapsed": false,
    "pycharm": {
     "name": "#%%\n"
    }
   }
  },
  {
   "cell_type": "code",
   "execution_count": 3,
   "outputs": [
    {
     "output_type": "stream",
     "name": "stdout",
     "text": [
      "0.9805555555555555\n0.9811894003251374\n"
     ]
    }
   ],
   "source": [
    "from sklearn.neighbors import KNeighborsClassifier\n",
    "from sklearn.metrics import accuracy_score,f1_score\n",
    "\n",
    "# Write 4 lines to complete the task.\n",
    "model = KNeighborsClassifier()\n",
    "model.fit(x_train,y_train)\n",
    "y_pred = model.predict(x_test)\n",
    "accuracy = accuracy_score(y_test,y_pred)\n",
    "f_score = f1_score(y_test,y_pred,average='macro')\n",
    "\n",
    "print(accuracy)\n",
    "print(f_score)"
   ],
   "metadata": {
    "collapsed": false,
    "pycharm": {
     "name": "#%%\n"
    }
   }
  },
  {
   "cell_type": "markdown",
   "source": [
    "Task: Let's tune the hyperparameter $n\\_neighbors$ in the KNN classifier object using the cross-validation.\n",
    "\n",
    "___\n",
    "## Cross Validation\n",
    "Cross validation comes as an alternative for the validation set splitting.\n",
    "\n",
    "Note: that's why we didn't make a validation set."
   ],
   "metadata": {
    "collapsed": false,
    "pycharm": {
     "name": "#%% md\n"
    }
   }
  },
  {
   "cell_type": "code",
   "execution_count": 4,
   "outputs": [
    {
     "output_type": "display_data",
     "data": {
      "text/plain": "<Figure size 432x288 with 1 Axes>",
      "image/svg+xml": "<?xml version=\"1.0\" encoding=\"utf-8\" standalone=\"no\"?>\n<!DOCTYPE svg PUBLIC \"-//W3C//DTD SVG 1.1//EN\"\n  \"http://www.w3.org/Graphics/SVG/1.1/DTD/svg11.dtd\">\n<!-- Created with matplotlib (https://matplotlib.org/) -->\n<svg height=\"248.518125pt\" version=\"1.1\" viewBox=\"0 0 384.828125 248.518125\" width=\"384.828125pt\" xmlns=\"http://www.w3.org/2000/svg\" xmlns:xlink=\"http://www.w3.org/1999/xlink\">\n <metadata>\n  <rdf:RDF xmlns:cc=\"http://creativecommons.org/ns#\" xmlns:dc=\"http://purl.org/dc/elements/1.1/\" xmlns:rdf=\"http://www.w3.org/1999/02/22-rdf-syntax-ns#\">\n   <cc:Work>\n    <dc:type rdf:resource=\"http://purl.org/dc/dcmitype/StillImage\"/>\n    <dc:date>2021-03-15T04:28:53.716818</dc:date>\n    <dc:format>image/svg+xml</dc:format>\n    <dc:creator>\n     <cc:Agent>\n      <dc:title>Matplotlib v3.3.2, https://matplotlib.org/</dc:title>\n     </cc:Agent>\n    </dc:creator>\n   </cc:Work>\n  </rdf:RDF>\n </metadata>\n <defs>\n  <style type=\"text/css\">*{stroke-linecap:butt;stroke-linejoin:round;}</style>\n </defs>\n <g id=\"figure_1\">\n  <g id=\"patch_1\">\n   <path d=\"M 0 248.518125 \nL 384.828125 248.518125 \nL 384.828125 0 \nL 0 0 \nz\n\" style=\"fill:none;\"/>\n  </g>\n  <g id=\"axes_1\">\n   <g id=\"patch_2\">\n    <path d=\"M 42.828125 224.64 \nL 377.628125 224.64 \nL 377.628125 7.2 \nL 42.828125 7.2 \nz\n\" style=\"fill:#ffffff;\"/>\n   </g>\n   <g id=\"matplotlib.axis_1\">\n    <g id=\"xtick_1\">\n     <g id=\"line2d_1\">\n      <defs>\n       <path d=\"M 0 0 \nL 0 3.5 \n\" id=\"mcbedb0b8a5\" style=\"stroke:#000000;stroke-width:0.8;\"/>\n      </defs>\n      <g>\n       <use style=\"stroke:#000000;stroke-width:0.8;\" x=\"83.409943\" xlink:href=\"#mcbedb0b8a5\" y=\"224.64\"/>\n      </g>\n     </g>\n     <g id=\"text_1\">\n      <!-- 2.5 -->\n      <g transform=\"translate(75.458381 239.238437)scale(0.1 -0.1)\">\n       <defs>\n        <path d=\"M 19.1875 8.296875 \nL 53.609375 8.296875 \nL 53.609375 0 \nL 7.328125 0 \nL 7.328125 8.296875 \nQ 12.9375 14.109375 22.625 23.890625 \nQ 32.328125 33.6875 34.8125 36.53125 \nQ 39.546875 41.84375 41.421875 45.53125 \nQ 43.3125 49.21875 43.3125 52.78125 \nQ 43.3125 58.59375 39.234375 62.25 \nQ 35.15625 65.921875 28.609375 65.921875 \nQ 23.96875 65.921875 18.8125 64.3125 \nQ 13.671875 62.703125 7.8125 59.421875 \nL 7.8125 69.390625 \nQ 13.765625 71.78125 18.9375 73 \nQ 24.125 74.21875 28.421875 74.21875 \nQ 39.75 74.21875 46.484375 68.546875 \nQ 53.21875 62.890625 53.21875 53.421875 \nQ 53.21875 48.921875 51.53125 44.890625 \nQ 49.859375 40.875 45.40625 35.40625 \nQ 44.1875 33.984375 37.640625 27.21875 \nQ 31.109375 20.453125 19.1875 8.296875 \nz\n\" id=\"DejaVuSans-50\"/>\n        <path d=\"M 10.6875 12.40625 \nL 21 12.40625 \nL 21 0 \nL 10.6875 0 \nz\n\" id=\"DejaVuSans-46\"/>\n        <path d=\"M 10.796875 72.90625 \nL 49.515625 72.90625 \nL 49.515625 64.59375 \nL 19.828125 64.59375 \nL 19.828125 46.734375 \nQ 21.96875 47.46875 24.109375 47.828125 \nQ 26.265625 48.1875 28.421875 48.1875 \nQ 40.625 48.1875 47.75 41.5 \nQ 54.890625 34.8125 54.890625 23.390625 \nQ 54.890625 11.625 47.5625 5.09375 \nQ 40.234375 -1.421875 26.90625 -1.421875 \nQ 22.3125 -1.421875 17.546875 -0.640625 \nQ 12.796875 0.140625 7.71875 1.703125 \nL 7.71875 11.625 \nQ 12.109375 9.234375 16.796875 8.0625 \nQ 21.484375 6.890625 26.703125 6.890625 \nQ 35.15625 6.890625 40.078125 11.328125 \nQ 45.015625 15.765625 45.015625 23.390625 \nQ 45.015625 31 40.078125 35.4375 \nQ 35.15625 39.890625 26.703125 39.890625 \nQ 22.75 39.890625 18.8125 39.015625 \nQ 14.890625 38.140625 10.796875 36.28125 \nz\n\" id=\"DejaVuSans-53\"/>\n       </defs>\n       <use xlink:href=\"#DejaVuSans-50\"/>\n       <use x=\"63.623047\" xlink:href=\"#DejaVuSans-46\"/>\n       <use x=\"95.410156\" xlink:href=\"#DejaVuSans-53\"/>\n      </g>\n     </g>\n    </g>\n    <g id=\"xtick_2\">\n     <g id=\"line2d_2\">\n      <g>\n       <use style=\"stroke:#000000;stroke-width:0.8;\" x=\"125.68267\" xlink:href=\"#mcbedb0b8a5\" y=\"224.64\"/>\n      </g>\n     </g>\n     <g id=\"text_2\">\n      <!-- 5.0 -->\n      <g transform=\"translate(117.731108 239.238437)scale(0.1 -0.1)\">\n       <defs>\n        <path d=\"M 31.78125 66.40625 \nQ 24.171875 66.40625 20.328125 58.90625 \nQ 16.5 51.421875 16.5 36.375 \nQ 16.5 21.390625 20.328125 13.890625 \nQ 24.171875 6.390625 31.78125 6.390625 \nQ 39.453125 6.390625 43.28125 13.890625 \nQ 47.125 21.390625 47.125 36.375 \nQ 47.125 51.421875 43.28125 58.90625 \nQ 39.453125 66.40625 31.78125 66.40625 \nz\nM 31.78125 74.21875 \nQ 44.046875 74.21875 50.515625 64.515625 \nQ 56.984375 54.828125 56.984375 36.375 \nQ 56.984375 17.96875 50.515625 8.265625 \nQ 44.046875 -1.421875 31.78125 -1.421875 \nQ 19.53125 -1.421875 13.0625 8.265625 \nQ 6.59375 17.96875 6.59375 36.375 \nQ 6.59375 54.828125 13.0625 64.515625 \nQ 19.53125 74.21875 31.78125 74.21875 \nz\n\" id=\"DejaVuSans-48\"/>\n       </defs>\n       <use xlink:href=\"#DejaVuSans-53\"/>\n       <use x=\"63.623047\" xlink:href=\"#DejaVuSans-46\"/>\n       <use x=\"95.410156\" xlink:href=\"#DejaVuSans-48\"/>\n      </g>\n     </g>\n    </g>\n    <g id=\"xtick_3\">\n     <g id=\"line2d_3\">\n      <g>\n       <use style=\"stroke:#000000;stroke-width:0.8;\" x=\"167.955398\" xlink:href=\"#mcbedb0b8a5\" y=\"224.64\"/>\n      </g>\n     </g>\n     <g id=\"text_3\">\n      <!-- 7.5 -->\n      <g transform=\"translate(160.003835 239.238437)scale(0.1 -0.1)\">\n       <defs>\n        <path d=\"M 8.203125 72.90625 \nL 55.078125 72.90625 \nL 55.078125 68.703125 \nL 28.609375 0 \nL 18.3125 0 \nL 43.21875 64.59375 \nL 8.203125 64.59375 \nz\n\" id=\"DejaVuSans-55\"/>\n       </defs>\n       <use xlink:href=\"#DejaVuSans-55\"/>\n       <use x=\"63.623047\" xlink:href=\"#DejaVuSans-46\"/>\n       <use x=\"95.410156\" xlink:href=\"#DejaVuSans-53\"/>\n      </g>\n     </g>\n    </g>\n    <g id=\"xtick_4\">\n     <g id=\"line2d_4\">\n      <g>\n       <use style=\"stroke:#000000;stroke-width:0.8;\" x=\"210.228125\" xlink:href=\"#mcbedb0b8a5\" y=\"224.64\"/>\n      </g>\n     </g>\n     <g id=\"text_4\">\n      <!-- 10.0 -->\n      <g transform=\"translate(199.095313 239.238437)scale(0.1 -0.1)\">\n       <defs>\n        <path d=\"M 12.40625 8.296875 \nL 28.515625 8.296875 \nL 28.515625 63.921875 \nL 10.984375 60.40625 \nL 10.984375 69.390625 \nL 28.421875 72.90625 \nL 38.28125 72.90625 \nL 38.28125 8.296875 \nL 54.390625 8.296875 \nL 54.390625 0 \nL 12.40625 0 \nz\n\" id=\"DejaVuSans-49\"/>\n       </defs>\n       <use xlink:href=\"#DejaVuSans-49\"/>\n       <use x=\"63.623047\" xlink:href=\"#DejaVuSans-48\"/>\n       <use x=\"127.246094\" xlink:href=\"#DejaVuSans-46\"/>\n       <use x=\"159.033203\" xlink:href=\"#DejaVuSans-48\"/>\n      </g>\n     </g>\n    </g>\n    <g id=\"xtick_5\">\n     <g id=\"line2d_5\">\n      <g>\n       <use style=\"stroke:#000000;stroke-width:0.8;\" x=\"252.500852\" xlink:href=\"#mcbedb0b8a5\" y=\"224.64\"/>\n      </g>\n     </g>\n     <g id=\"text_5\">\n      <!-- 12.5 -->\n      <g transform=\"translate(241.36804 239.238437)scale(0.1 -0.1)\">\n       <use xlink:href=\"#DejaVuSans-49\"/>\n       <use x=\"63.623047\" xlink:href=\"#DejaVuSans-50\"/>\n       <use x=\"127.246094\" xlink:href=\"#DejaVuSans-46\"/>\n       <use x=\"159.033203\" xlink:href=\"#DejaVuSans-53\"/>\n      </g>\n     </g>\n    </g>\n    <g id=\"xtick_6\">\n     <g id=\"line2d_6\">\n      <g>\n       <use style=\"stroke:#000000;stroke-width:0.8;\" x=\"294.77358\" xlink:href=\"#mcbedb0b8a5\" y=\"224.64\"/>\n      </g>\n     </g>\n     <g id=\"text_6\">\n      <!-- 15.0 -->\n      <g transform=\"translate(283.640767 239.238437)scale(0.1 -0.1)\">\n       <use xlink:href=\"#DejaVuSans-49\"/>\n       <use x=\"63.623047\" xlink:href=\"#DejaVuSans-53\"/>\n       <use x=\"127.246094\" xlink:href=\"#DejaVuSans-46\"/>\n       <use x=\"159.033203\" xlink:href=\"#DejaVuSans-48\"/>\n      </g>\n     </g>\n    </g>\n    <g id=\"xtick_7\">\n     <g id=\"line2d_7\">\n      <g>\n       <use style=\"stroke:#000000;stroke-width:0.8;\" x=\"337.046307\" xlink:href=\"#mcbedb0b8a5\" y=\"224.64\"/>\n      </g>\n     </g>\n     <g id=\"text_7\">\n      <!-- 17.5 -->\n      <g transform=\"translate(325.913494 239.238437)scale(0.1 -0.1)\">\n       <use xlink:href=\"#DejaVuSans-49\"/>\n       <use x=\"63.623047\" xlink:href=\"#DejaVuSans-55\"/>\n       <use x=\"127.246094\" xlink:href=\"#DejaVuSans-46\"/>\n       <use x=\"159.033203\" xlink:href=\"#DejaVuSans-53\"/>\n      </g>\n     </g>\n    </g>\n   </g>\n   <g id=\"matplotlib.axis_2\">\n    <g id=\"ytick_1\">\n     <g id=\"line2d_8\">\n      <defs>\n       <path d=\"M 0 0 \nL -3.5 0 \n\" id=\"m04700e113b\" style=\"stroke:#000000;stroke-width:0.8;\"/>\n      </defs>\n      <g>\n       <use style=\"stroke:#000000;stroke-width:0.8;\" x=\"42.828125\" xlink:href=\"#m04700e113b\" y=\"180.472688\"/>\n      </g>\n     </g>\n     <g id=\"text_8\">\n      <!-- 0.960 -->\n      <g transform=\"translate(7.2 184.271906)scale(0.1 -0.1)\">\n       <defs>\n        <path d=\"M 10.984375 1.515625 \nL 10.984375 10.5 \nQ 14.703125 8.734375 18.5 7.8125 \nQ 22.3125 6.890625 25.984375 6.890625 \nQ 35.75 6.890625 40.890625 13.453125 \nQ 46.046875 20.015625 46.78125 33.40625 \nQ 43.953125 29.203125 39.59375 26.953125 \nQ 35.25 24.703125 29.984375 24.703125 \nQ 19.046875 24.703125 12.671875 31.3125 \nQ 6.296875 37.9375 6.296875 49.421875 \nQ 6.296875 60.640625 12.9375 67.421875 \nQ 19.578125 74.21875 30.609375 74.21875 \nQ 43.265625 74.21875 49.921875 64.515625 \nQ 56.59375 54.828125 56.59375 36.375 \nQ 56.59375 19.140625 48.40625 8.859375 \nQ 40.234375 -1.421875 26.421875 -1.421875 \nQ 22.703125 -1.421875 18.890625 -0.6875 \nQ 15.09375 0.046875 10.984375 1.515625 \nz\nM 30.609375 32.421875 \nQ 37.25 32.421875 41.125 36.953125 \nQ 45.015625 41.5 45.015625 49.421875 \nQ 45.015625 57.28125 41.125 61.84375 \nQ 37.25 66.40625 30.609375 66.40625 \nQ 23.96875 66.40625 20.09375 61.84375 \nQ 16.21875 57.28125 16.21875 49.421875 \nQ 16.21875 41.5 20.09375 36.953125 \nQ 23.96875 32.421875 30.609375 32.421875 \nz\n\" id=\"DejaVuSans-57\"/>\n        <path d=\"M 33.015625 40.375 \nQ 26.375 40.375 22.484375 35.828125 \nQ 18.609375 31.296875 18.609375 23.390625 \nQ 18.609375 15.53125 22.484375 10.953125 \nQ 26.375 6.390625 33.015625 6.390625 \nQ 39.65625 6.390625 43.53125 10.953125 \nQ 47.40625 15.53125 47.40625 23.390625 \nQ 47.40625 31.296875 43.53125 35.828125 \nQ 39.65625 40.375 33.015625 40.375 \nz\nM 52.59375 71.296875 \nL 52.59375 62.3125 \nQ 48.875 64.0625 45.09375 64.984375 \nQ 41.3125 65.921875 37.59375 65.921875 \nQ 27.828125 65.921875 22.671875 59.328125 \nQ 17.53125 52.734375 16.796875 39.40625 \nQ 19.671875 43.65625 24.015625 45.921875 \nQ 28.375 48.1875 33.59375 48.1875 \nQ 44.578125 48.1875 50.953125 41.515625 \nQ 57.328125 34.859375 57.328125 23.390625 \nQ 57.328125 12.15625 50.6875 5.359375 \nQ 44.046875 -1.421875 33.015625 -1.421875 \nQ 20.359375 -1.421875 13.671875 8.265625 \nQ 6.984375 17.96875 6.984375 36.375 \nQ 6.984375 53.65625 15.1875 63.9375 \nQ 23.390625 74.21875 37.203125 74.21875 \nQ 40.921875 74.21875 44.703125 73.484375 \nQ 48.484375 72.75 52.59375 71.296875 \nz\n\" id=\"DejaVuSans-54\"/>\n       </defs>\n       <use xlink:href=\"#DejaVuSans-48\"/>\n       <use x=\"63.623047\" xlink:href=\"#DejaVuSans-46\"/>\n       <use x=\"95.410156\" xlink:href=\"#DejaVuSans-57\"/>\n       <use x=\"159.033203\" xlink:href=\"#DejaVuSans-54\"/>\n       <use x=\"222.65625\" xlink:href=\"#DejaVuSans-48\"/>\n      </g>\n     </g>\n    </g>\n    <g id=\"ytick_2\">\n     <g id=\"line2d_9\">\n      <g>\n       <use style=\"stroke:#000000;stroke-width:0.8;\" x=\"42.828125\" xlink:href=\"#m04700e113b\" y=\"136.123845\"/>\n      </g>\n     </g>\n     <g id=\"text_9\">\n      <!-- 0.965 -->\n      <g transform=\"translate(7.2 139.923064)scale(0.1 -0.1)\">\n       <use xlink:href=\"#DejaVuSans-48\"/>\n       <use x=\"63.623047\" xlink:href=\"#DejaVuSans-46\"/>\n       <use x=\"95.410156\" xlink:href=\"#DejaVuSans-57\"/>\n       <use x=\"159.033203\" xlink:href=\"#DejaVuSans-54\"/>\n       <use x=\"222.65625\" xlink:href=\"#DejaVuSans-53\"/>\n      </g>\n     </g>\n    </g>\n    <g id=\"ytick_3\">\n     <g id=\"line2d_10\">\n      <g>\n       <use style=\"stroke:#000000;stroke-width:0.8;\" x=\"42.828125\" xlink:href=\"#m04700e113b\" y=\"91.775002\"/>\n      </g>\n     </g>\n     <g id=\"text_10\">\n      <!-- 0.970 -->\n      <g transform=\"translate(7.2 95.574221)scale(0.1 -0.1)\">\n       <use xlink:href=\"#DejaVuSans-48\"/>\n       <use x=\"63.623047\" xlink:href=\"#DejaVuSans-46\"/>\n       <use x=\"95.410156\" xlink:href=\"#DejaVuSans-57\"/>\n       <use x=\"159.033203\" xlink:href=\"#DejaVuSans-55\"/>\n       <use x=\"222.65625\" xlink:href=\"#DejaVuSans-48\"/>\n      </g>\n     </g>\n    </g>\n    <g id=\"ytick_4\">\n     <g id=\"line2d_11\">\n      <g>\n       <use style=\"stroke:#000000;stroke-width:0.8;\" x=\"42.828125\" xlink:href=\"#m04700e113b\" y=\"47.42616\"/>\n      </g>\n     </g>\n     <g id=\"text_11\">\n      <!-- 0.975 -->\n      <g transform=\"translate(7.2 51.225379)scale(0.1 -0.1)\">\n       <use xlink:href=\"#DejaVuSans-48\"/>\n       <use x=\"63.623047\" xlink:href=\"#DejaVuSans-46\"/>\n       <use x=\"95.410156\" xlink:href=\"#DejaVuSans-57\"/>\n       <use x=\"159.033203\" xlink:href=\"#DejaVuSans-55\"/>\n       <use x=\"222.65625\" xlink:href=\"#DejaVuSans-53\"/>\n      </g>\n     </g>\n    </g>\n   </g>\n   <g id=\"line2d_12\">\n    <path clip-path=\"url(#p3e1f39b9ca)\" d=\"M 58.046307 54.079762 \nL 74.955398 121.981003 \nL 91.864489 66.441808 \nL 108.77358 17.083636 \nL 125.68267 23.234655 \nL 142.591761 47.988753 \nL 159.500852 48.018758 \nL 176.409943 91.225912 \nL 193.319034 66.561828 \nL 210.228125 109.708972 \nL 227.137216 85.044888 \nL 244.046307 122.131028 \nL 260.955398 122.101023 \nL 277.864489 122.131028 \nL 294.77358 159.187163 \nL 311.68267 202.364312 \nL 328.591761 183.821242 \nL 345.500852 214.756364 \nL 362.409943 208.51533 \n\" style=\"fill:none;stroke:#1f77b4;stroke-linecap:square;stroke-width:1.5;\"/>\n   </g>\n   <g id=\"patch_3\">\n    <path d=\"M 42.828125 224.64 \nL 42.828125 7.2 \n\" style=\"fill:none;stroke:#000000;stroke-linecap:square;stroke-linejoin:miter;stroke-width:0.8;\"/>\n   </g>\n   <g id=\"patch_4\">\n    <path d=\"M 377.628125 224.64 \nL 377.628125 7.2 \n\" style=\"fill:none;stroke:#000000;stroke-linecap:square;stroke-linejoin:miter;stroke-width:0.8;\"/>\n   </g>\n   <g id=\"patch_5\">\n    <path d=\"M 42.828125 224.64 \nL 377.628125 224.64 \n\" style=\"fill:none;stroke:#000000;stroke-linecap:square;stroke-linejoin:miter;stroke-width:0.8;\"/>\n   </g>\n   <g id=\"patch_6\">\n    <path d=\"M 42.828125 7.2 \nL 377.628125 7.2 \n\" style=\"fill:none;stroke:#000000;stroke-linecap:square;stroke-linejoin:miter;stroke-width:0.8;\"/>\n   </g>\n  </g>\n </g>\n <defs>\n  <clipPath id=\"p3e1f39b9ca\">\n   <rect height=\"217.44\" width=\"334.8\" x=\"42.828125\" y=\"7.2\"/>\n  </clipPath>\n </defs>\n</svg>\n",
      "image/png": "[encoded data removed]"
     },
     "metadata": {
      "needs_background": "light"
     }
    },
    {
     "output_type": "stream",
     "name": "stdout",
     "text": [
      "[0.9742498562294915, 0.9665944995094888, 0.9728561280064951, 0.9784208923920029, 0.9777274111159974, 0.9749365718345117, 0.9749331889990189, 0.9700619058895166, 0.9728425966645242, 0.9679780792260072, 0.9707587700010148, 0.9665775853320253, 0.966580968167518, 0.9665775853320253, 0.9623997834985285, 0.9575318832245188, 0.9596224755590136, 0.9561347721660295, 0.9568384019485132]\nBest K: 4\n"
     ]
    }
   ],
   "source": [
    "from sklearn.model_selection import cross_val_score\n",
    "import matplotlib.pylab as plt\n",
    "import numpy as np\n",
    "%matplotlib inline\n",
    "\n",
    "Ks = list(range(1, 20))\n",
    "cv_scores = []\n",
    "for K in Ks:\n",
    "    knn = KNeighborsClassifier(n_neighbors=K)\n",
    "    # Write 2 lines of code, one to compute the CV scores.\n",
    "    # And another to calculate the average.\n",
    "    scores = cross_val_score(knn,x_train,y_train,cv=7,scoring='accuracy')\n",
    "    avg_score = scores.mean()\n",
    "    # Task ends\n",
    "\n",
    "    cv_scores.append(avg_score)\n",
    "\n",
    "plt.plot(Ks, cv_scores)\n",
    "plt.show()\n",
    "print(cv_scores)\n",
    "print(\"Best K:\", Ks[np.argmax(cv_scores)])"
   ],
   "metadata": {
    "collapsed": false,
    "pycharm": {
     "name": "#%%\n"
    }
   }
  },
  {
   "cell_type": "markdown",
   "source": [
    "In KNN classifier, there're several hyperparamters to tune, tuning them one by one is exhaustive approach.\n",
    "Let's try a better approach called GridSearchCV.\n",
    "\n",
    "\n",
    "### GridSearchCV\n",
    "In GridSearch Cross-validation, you give different values for each hyperparamter and it will try all combinations for you.\n",
    "At the end, it will return the best combination of hyperparamters that got the best cross-validation score.\n",
    "\n",
    "Task:\n",
    "Use gridsearch to tune 3 hyperparameters:\n",
    "\n",
    "1. $n\\_neighbors$: [1, 2, . . ., 10]\n",
    "2. $weights$: ['uniform', 'distance']\n",
    "3. $metric$: ['euclidean', 'manhattan', 'chebyshev', 'cosine']\n",
    "\n",
    "Check this [link](https://scikit-learn.org/stable/auto_examples/model_selection/plot_grid_search_digits.html) for help.\n",
    "\n",
    "Then measure the accuracy on the testset."
   ],
   "metadata": {
    "collapsed": false,
    "pycharm": {
     "name": "#%% md\n"
    }
   }
  },
  {
   "cell_type": "code",
   "execution_count": 5,
   "outputs": [
    {
     "output_type": "stream",
     "name": "stdout",
     "text": [
      "0.974 (+/-0.013) for {'metric': 'euclidean', 'n_neighbors': 1, 'weights': 'uniform'}\n0.974 (+/-0.013) for {'metric': 'euclidean', 'n_neighbors': 1, 'weights': 'distance'}\n0.967 (+/-0.010) for {'metric': 'euclidean', 'n_neighbors': 2, 'weights': 'uniform'}\n0.974 (+/-0.013) for {'metric': 'euclidean', 'n_neighbors': 2, 'weights': 'distance'}\n0.973 (+/-0.010) for {'metric': 'euclidean', 'n_neighbors': 3, 'weights': 'uniform'}\n0.976 (+/-0.014) for {'metric': 'euclidean', 'n_neighbors': 3, 'weights': 'distance'}\n0.978 (+/-0.007) for {'metric': 'euclidean', 'n_neighbors': 4, 'weights': 'uniform'}\n0.980 (+/-0.012) for {'metric': 'euclidean', 'n_neighbors': 4, 'weights': 'distance'}\n0.978 (+/-0.007) for {'metric': 'euclidean', 'n_neighbors': 5, 'weights': 'uniform'}\n0.979 (+/-0.009) for {'metric': 'euclidean', 'n_neighbors': 5, 'weights': 'distance'}\n0.975 (+/-0.019) for {'metric': 'euclidean', 'n_neighbors': 6, 'weights': 'uniform'}\n0.981 (+/-0.013) for {'metric': 'euclidean', 'n_neighbors': 6, 'weights': 'distance'}\n0.975 (+/-0.017) for {'metric': 'euclidean', 'n_neighbors': 7, 'weights': 'uniform'}\n0.977 (+/-0.013) for {'metric': 'euclidean', 'n_neighbors': 7, 'weights': 'distance'}\n0.970 (+/-0.016) for {'metric': 'euclidean', 'n_neighbors': 8, 'weights': 'uniform'}\n0.978 (+/-0.019) for {'metric': 'euclidean', 'n_neighbors': 8, 'weights': 'distance'}\n0.973 (+/-0.024) for {'metric': 'euclidean', 'n_neighbors': 9, 'weights': 'uniform'}\n0.976 (+/-0.022) for {'metric': 'euclidean', 'n_neighbors': 9, 'weights': 'distance'}\n0.968 (+/-0.023) for {'metric': 'euclidean', 'n_neighbors': 10, 'weights': 'uniform'}\n0.976 (+/-0.021) for {'metric': 'euclidean', 'n_neighbors': 10, 'weights': 'distance'}\n0.974 (+/-0.020) for {'metric': 'manhattan', 'n_neighbors': 1, 'weights': 'uniform'}\n0.974 (+/-0.020) for {'metric': 'manhattan', 'n_neighbors': 1, 'weights': 'distance'}\n0.966 (+/-0.022) for {'metric': 'manhattan', 'n_neighbors': 2, 'weights': 'uniform'}\n0.974 (+/-0.020) for {'metric': 'manhattan', 'n_neighbors': 2, 'weights': 'distance'}\n0.978 (+/-0.021) for {'metric': 'manhattan', 'n_neighbors': 3, 'weights': 'uniform'}\n0.978 (+/-0.021) for {'metric': 'manhattan', 'n_neighbors': 3, 'weights': 'distance'}\n0.978 (+/-0.022) for {'metric': 'manhattan', 'n_neighbors': 4, 'weights': 'uniform'}\n0.983 (+/-0.016) for {'metric': 'manhattan', 'n_neighbors': 4, 'weights': 'distance'}\n0.977 (+/-0.018) for {'metric': 'manhattan', 'n_neighbors': 5, 'weights': 'uniform'}\n0.979 (+/-0.020) for {'metric': 'manhattan', 'n_neighbors': 5, 'weights': 'distance'}\n0.971 (+/-0.022) for {'metric': 'manhattan', 'n_neighbors': 6, 'weights': 'uniform'}\n0.981 (+/-0.018) for {'metric': 'manhattan', 'n_neighbors': 6, 'weights': 'distance'}\n0.976 (+/-0.021) for {'metric': 'manhattan', 'n_neighbors': 7, 'weights': 'uniform'}\n0.977 (+/-0.021) for {'metric': 'manhattan', 'n_neighbors': 7, 'weights': 'distance'}\n0.971 (+/-0.021) for {'metric': 'manhattan', 'n_neighbors': 8, 'weights': 'uniform'}\n0.979 (+/-0.021) for {'metric': 'manhattan', 'n_neighbors': 8, 'weights': 'distance'}\n0.969 (+/-0.023) for {'metric': 'manhattan', 'n_neighbors': 9, 'weights': 'uniform'}\n0.975 (+/-0.019) for {'metric': 'manhattan', 'n_neighbors': 9, 'weights': 'distance'}\n0.969 (+/-0.026) for {'metric': 'manhattan', 'n_neighbors': 10, 'weights': 'uniform'}\n0.974 (+/-0.021) for {'metric': 'manhattan', 'n_neighbors': 10, 'weights': 'distance'}\n0.941 (+/-0.018) for {'metric': 'chebyshev', 'n_neighbors': 1, 'weights': 'uniform'}\n0.941 (+/-0.018) for {'metric': 'chebyshev', 'n_neighbors': 1, 'weights': 'distance'}\n0.921 (+/-0.020) for {'metric': 'chebyshev', 'n_neighbors': 2, 'weights': 'uniform'}\n0.940 (+/-0.022) for {'metric': 'chebyshev', 'n_neighbors': 2, 'weights': 'distance'}\n0.935 (+/-0.021) for {'metric': 'chebyshev', 'n_neighbors': 3, 'weights': 'uniform'}\n0.942 (+/-0.017) for {'metric': 'chebyshev', 'n_neighbors': 3, 'weights': 'distance'}\n0.931 (+/-0.019) for {'metric': 'chebyshev', 'n_neighbors': 4, 'weights': 'uniform'}\n0.941 (+/-0.012) for {'metric': 'chebyshev', 'n_neighbors': 4, 'weights': 'distance'}\n0.932 (+/-0.026) for {'metric': 'chebyshev', 'n_neighbors': 5, 'weights': 'uniform'}\n0.944 (+/-0.019) for {'metric': 'chebyshev', 'n_neighbors': 5, 'weights': 'distance'}\n0.926 (+/-0.029) for {'metric': 'chebyshev', 'n_neighbors': 6, 'weights': 'uniform'}\n0.937 (+/-0.022) for {'metric': 'chebyshev', 'n_neighbors': 6, 'weights': 'distance'}\n0.928 (+/-0.029) for {'metric': 'chebyshev', 'n_neighbors': 7, 'weights': 'uniform'}\n0.931 (+/-0.021) for {'metric': 'chebyshev', 'n_neighbors': 7, 'weights': 'distance'}\n0.923 (+/-0.028) for {'metric': 'chebyshev', 'n_neighbors': 8, 'weights': 'uniform'}\n0.933 (+/-0.022) for {'metric': 'chebyshev', 'n_neighbors': 8, 'weights': 'distance'}\n0.917 (+/-0.033) for {'metric': 'chebyshev', 'n_neighbors': 9, 'weights': 'uniform'}\n0.926 (+/-0.021) for {'metric': 'chebyshev', 'n_neighbors': 9, 'weights': 'distance'}\n0.913 (+/-0.033) for {'metric': 'chebyshev', 'n_neighbors': 10, 'weights': 'uniform'}\n0.924 (+/-0.023) for {'metric': 'chebyshev', 'n_neighbors': 10, 'weights': 'distance'}\n0.969 (+/-0.015) for {'metric': 'cosine', 'n_neighbors': 1, 'weights': 'uniform'}\n0.969 (+/-0.015) for {'metric': 'cosine', 'n_neighbors': 1, 'weights': 'distance'}\n0.960 (+/-0.015) for {'metric': 'cosine', 'n_neighbors': 2, 'weights': 'uniform'}\n0.969 (+/-0.015) for {'metric': 'cosine', 'n_neighbors': 2, 'weights': 'distance'}\n0.967 (+/-0.014) for {'metric': 'cosine', 'n_neighbors': 3, 'weights': 'uniform'}\n0.969 (+/-0.019) for {'metric': 'cosine', 'n_neighbors': 3, 'weights': 'distance'}\n0.962 (+/-0.014) for {'metric': 'cosine', 'n_neighbors': 4, 'weights': 'uniform'}\n0.970 (+/-0.020) for {'metric': 'cosine', 'n_neighbors': 4, 'weights': 'distance'}\n0.962 (+/-0.010) for {'metric': 'cosine', 'n_neighbors': 5, 'weights': 'uniform'}\n0.968 (+/-0.012) for {'metric': 'cosine', 'n_neighbors': 5, 'weights': 'distance'}\n0.958 (+/-0.017) for {'metric': 'cosine', 'n_neighbors': 6, 'weights': 'uniform'}\n0.968 (+/-0.014) for {'metric': 'cosine', 'n_neighbors': 6, 'weights': 'distance'}\n0.958 (+/-0.024) for {'metric': 'cosine', 'n_neighbors': 7, 'weights': 'uniform'}\n0.965 (+/-0.023) for {'metric': 'cosine', 'n_neighbors': 7, 'weights': 'distance'}\n0.958 (+/-0.016) for {'metric': 'cosine', 'n_neighbors': 8, 'weights': 'uniform'}\n0.967 (+/-0.020) for {'metric': 'cosine', 'n_neighbors': 8, 'weights': 'distance'}\n0.960 (+/-0.022) for {'metric': 'cosine', 'n_neighbors': 9, 'weights': 'uniform'}\n0.965 (+/-0.022) for {'metric': 'cosine', 'n_neighbors': 9, 'weights': 'distance'}\n0.958 (+/-0.023) for {'metric': 'cosine', 'n_neighbors': 10, 'weights': 'uniform'}\n0.965 (+/-0.025) for {'metric': 'cosine', 'n_neighbors': 10, 'weights': 'distance'}\n\nBest parameters set found on development set:\n\n{'metric': 'manhattan', 'n_neighbors': 4, 'weights': 'distance'}\n0.9805555555555555\n"
     ]
    }
   ],
   "source": [
    "from sklearn.model_selection import GridSearchCV\n",
    "\n",
    "# Write 2 lines of code to run GridSearchCV with cv=7 to tune the above hyperparams.\n",
    "param_grid = {'n_neighbors':range(1,11),\n",
    "'weights':['uniform','distance'],\n",
    "'metric':['euclidean','manhattan','chebyshev','cosine']\n",
    "}\n",
    "\n",
    "grid_search_clf = GridSearchCV(KNeighborsClassifier(), param_grid, cv=7,scoring='accuracy')\n",
    "\n",
    "# Task ends here!\n",
    "\n",
    "grid_search_clf.fit(x_train, y_train)\n",
    "means = grid_search_clf.cv_results_['mean_test_score']\n",
    "stds = grid_search_clf.cv_results_['std_test_score']\n",
    "for mean, std, params in zip(means, stds, grid_search_clf.cv_results_['params']):\n",
    "    print(\"%0.3f (+/-%0.03f) for %r\"\n",
    "        % (mean, std * 2, params))\n",
    "print()\n",
    "print(\"Best parameters set found on development set:\")\n",
    "print()\n",
    "print(grid_search_clf.best_params_)\n",
    "\n",
    "y_pred = grid_search_clf.predict(x_test)\n",
    "print(accuracy_score(y_test, y_pred))"
   ],
   "metadata": {
    "collapsed": false,
    "pycharm": {
     "name": "#%%\n"
    }
   }
  },
  {
   "cell_type": "code",
   "execution_count": null,
   "metadata": {},
   "outputs": [],
   "source": []
  }
 ],
 "metadata": {
  "kernelspec": {
   "display_name": "Python 3",
   "language": "python",
   "name": "python3"
  },
  "language_info": {
   "codemirror_mode": {
    "name": "ipython",
    "version": 2
   },
   "file_extension": ".py",
   "mimetype": "text/x-python",
   "name": "python",
   "nbconvert_exporter": "python",
   "pygments_lexer": "ipython2",
   "version": "3.8.5-final"
  }
 },
 "nbformat": 4,
 "nbformat_minor": 0
}