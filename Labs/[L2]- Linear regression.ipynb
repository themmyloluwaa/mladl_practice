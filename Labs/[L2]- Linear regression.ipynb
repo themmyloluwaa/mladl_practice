{
 "cells": [
  {
   "cell_type": "markdown",
   "metadata": {},
   "source": [
    "# Lab-2: Linear Regression.\n",
    "_____\n",
    "##### In this lab, you will Practice applying different Regression algorithms, and play with models to experiece underfitting vs. overfitting.\n",
    "\n",
    "### Objectives:\n",
    "\n",
    "1. Simple Linear Regression\n",
    "2. Multiple Linear Regression\n",
    "3. Polynomial Regression\n",
    "\n",
    "### Linear Regression\n",
    "1. What is regression? What's Linear Regression?\n",
    "2. When Do We Need Regression?\n",
    "\n",
    "</span>\n",
    "\n",
    "####  In this regression task we will predict the percentage of marks that a student is expected to score based upon the number of hours they studied. This is a simple linear regression task as it involves just one explanatory variables."
   ]
  },
  {
   "cell_type": "markdown",
   "metadata": {},
   "source": [
    "##### Import Libraries"
   ]
  },
  {
   "cell_type": "code",
   "execution_count": 4,
   "metadata": {
    "pycharm": {
     "name": "#%%\n"
    }
   },
   "outputs": [],
   "source": [
    "import pandas as pd\n",
    "import numpy as np\n",
    "import matplotlib.pyplot as plt\n",
    "%matplotlib inline"
   ]
  },
  {
   "cell_type": "markdown",
   "metadata": {},
   "source": [
    "#### Load and Explore the dataset"
   ]
  },
  {
   "cell_type": "code",
   "execution_count": 5,
   "metadata": {
    "pycharm": {
     "name": "#%%\n"
    }
   },
   "outputs": [
    {
     "data": {
      "text/plain": [
       "(25, 2)"
      ]
     },
     "execution_count": 5,
     "metadata": {},
     "output_type": "execute_result"
    }
   ],
   "source": [
    "dataset = pd.read_csv('student_scores.csv')\n",
    "dataset.shape"
   ]
  },
  {
   "cell_type": "code",
   "execution_count": 6,
   "metadata": {
    "pycharm": {
     "name": "#%%\n"
    }
   },
   "outputs": [
    {
     "data": {
      "text/html": [
       "<div>\n",
       "<style scoped>\n",
       "    .dataframe tbody tr th:only-of-type {\n",
       "        vertical-align: middle;\n",
       "    }\n",
       "\n",
       "    .dataframe tbody tr th {\n",
       "        vertical-align: top;\n",
       "    }\n",
       "\n",
       "    .dataframe thead th {\n",
       "        text-align: right;\n",
       "    }\n",
       "</style>\n",
       "<table border=\"1\" class=\"dataframe\">\n",
       "  <thead>\n",
       "    <tr style=\"text-align: right;\">\n",
       "      <th></th>\n",
       "      <th>Hours</th>\n",
       "      <th>Scores</th>\n",
       "    </tr>\n",
       "  </thead>\n",
       "  <tbody>\n",
       "    <tr>\n",
       "      <th>0</th>\n",
       "      <td>2.5</td>\n",
       "      <td>21</td>\n",
       "    </tr>\n",
       "    <tr>\n",
       "      <th>1</th>\n",
       "      <td>5.1</td>\n",
       "      <td>47</td>\n",
       "    </tr>\n",
       "    <tr>\n",
       "      <th>2</th>\n",
       "      <td>3.2</td>\n",
       "      <td>27</td>\n",
       "    </tr>\n",
       "    <tr>\n",
       "      <th>3</th>\n",
       "      <td>8.5</td>\n",
       "      <td>75</td>\n",
       "    </tr>\n",
       "    <tr>\n",
       "      <th>4</th>\n",
       "      <td>3.5</td>\n",
       "      <td>30</td>\n",
       "    </tr>\n",
       "  </tbody>\n",
       "</table>\n",
       "</div>"
      ],
      "text/plain": [
       "   Hours  Scores\n",
       "0    2.5      21\n",
       "1    5.1      47\n",
       "2    3.2      27\n",
       "3    8.5      75\n",
       "4    3.5      30"
      ]
     },
     "execution_count": 6,
     "metadata": {},
     "output_type": "execute_result"
    }
   ],
   "source": [
    "dataset.head(5)"
   ]
  },
  {
   "cell_type": "code",
   "execution_count": 7,
   "metadata": {
    "pycharm": {
     "is_executing": true,
     "name": "#%%\n"
    }
   },
   "outputs": [
    {
     "data": {
      "text/html": [
       "<div>\n",
       "<style scoped>\n",
       "    .dataframe tbody tr th:only-of-type {\n",
       "        vertical-align: middle;\n",
       "    }\n",
       "\n",
       "    .dataframe tbody tr th {\n",
       "        vertical-align: top;\n",
       "    }\n",
       "\n",
       "    .dataframe thead th {\n",
       "        text-align: right;\n",
       "    }\n",
       "</style>\n",
       "<table border=\"1\" class=\"dataframe\">\n",
       "  <thead>\n",
       "    <tr style=\"text-align: right;\">\n",
       "      <th></th>\n",
       "      <th>Hours</th>\n",
       "      <th>Scores</th>\n",
       "    </tr>\n",
       "  </thead>\n",
       "  <tbody>\n",
       "    <tr>\n",
       "      <th>count</th>\n",
       "      <td>25.000000</td>\n",
       "      <td>25.000000</td>\n",
       "    </tr>\n",
       "    <tr>\n",
       "      <th>mean</th>\n",
       "      <td>5.012000</td>\n",
       "      <td>51.480000</td>\n",
       "    </tr>\n",
       "    <tr>\n",
       "      <th>std</th>\n",
       "      <td>2.525094</td>\n",
       "      <td>25.286887</td>\n",
       "    </tr>\n",
       "    <tr>\n",
       "      <th>min</th>\n",
       "      <td>1.100000</td>\n",
       "      <td>17.000000</td>\n",
       "    </tr>\n",
       "    <tr>\n",
       "      <th>25%</th>\n",
       "      <td>2.700000</td>\n",
       "      <td>30.000000</td>\n",
       "    </tr>\n",
       "    <tr>\n",
       "      <th>50%</th>\n",
       "      <td>4.800000</td>\n",
       "      <td>47.000000</td>\n",
       "    </tr>\n",
       "    <tr>\n",
       "      <th>75%</th>\n",
       "      <td>7.400000</td>\n",
       "      <td>75.000000</td>\n",
       "    </tr>\n",
       "    <tr>\n",
       "      <th>max</th>\n",
       "      <td>9.200000</td>\n",
       "      <td>95.000000</td>\n",
       "    </tr>\n",
       "  </tbody>\n",
       "</table>\n",
       "</div>"
      ],
      "text/plain": [
       "           Hours     Scores\n",
       "count  25.000000  25.000000\n",
       "mean    5.012000  51.480000\n",
       "std     2.525094  25.286887\n",
       "min     1.100000  17.000000\n",
       "25%     2.700000  30.000000\n",
       "50%     4.800000  47.000000\n",
       "75%     7.400000  75.000000\n",
       "max     9.200000  95.000000"
      ]
     },
     "execution_count": 7,
     "metadata": {},
     "output_type": "execute_result"
    }
   ],
   "source": [
    "dataset.describe()"
   ]
  },
  {
   "cell_type": "markdown",
   "metadata": {},
   "source": [
    "##### Data Plotting:\n",
    "Task:\n",
    "plot the data points on 2-D graph to view our dataset and see if we can manually find any relationship between the data:"
   ]
  },
  {
   "cell_type": "code",
   "execution_count": 10,
   "metadata": {
    "pycharm": {
     "is_executing": true,
     "name": "#%%\n"
    }
   },
   "outputs": [
    {
     "data": {
      "text/plain": [
       "<matplotlib.legend.Legend at 0x7fc100936b50>"
      ]
     },
     "execution_count": 10,
     "metadata": {},
     "output_type": "execute_result"
    },
    {
     "data": {
      "image/png": "[encoded data removed]",
      "text/plain": [
       "<Figure size 432x288 with 1 Axes>"
      ]
     },
     "metadata": {
      "needs_background": "light"
     },
     "output_type": "display_data"
    }
   ],
   "source": [
    "# Write the plotting code here, support it with title, axes labels and legend. (5 lines)\n",
    "plt.scatter(dataset['Hours'], dataset['Scores'], marker='.')\n",
    "plt.xlabel('Hours Studied')\n",
    "plt.ylabel('Scores Obtained')\n",
    "plt.title('Hours vs Scores')\n",
    "plt.legend(['Data point'])"
   ]
  },
  {
   "cell_type": "markdown",
   "metadata": {},
   "source": [
    "#### Data Preparation\n",
    "Task: for learning model in sklearn lib, the X (regressors/input matrix) should be of 2 dimensions (num_samples x num_features). Your 1st task is to add another dimension for X variable to conver it from a vector (num_samples,) to matrix (num_samples x 1).\n",
    "\n",
    "Task: Split the data to train and test with ratios 80% and 20% respectively."
   ]
  },
  {
   "cell_type": "code",
   "execution_count": 11,
   "metadata": {
    "pycharm": {
     "name": "#%%\n"
    }
   },
   "outputs": [
    {
     "name": "stdout",
     "output_type": "stream",
     "text": [
      "(25, 1)\n"
     ]
    }
   ],
   "source": [
    "from sklearn.model_selection import train_test_split\n",
    "\n",
    "X = dataset['Hours'].values\n",
    "y = dataset['Scores'].values\n",
    "\n",
    "# Write one line to add one more dimension for X.\n",
    "X = np.expand_dims(X,axis=1) # (25, 1, 7, 8)\n",
    "\n",
    "#other options to add one dimension\n",
    "# X=X[:, np.newaxis] --- answer (25, 1)\n",
    "# X=X[....,np.newaxis] --- answer(25, 7, 8, 1)\n",
    "\n",
    "# print the values\n",
    "print(X.shape)\n",
    "\n",
    "# Write one line to split the dataset using train_test_split function.\n",
    "x_train, x_test, y_train, y_test = train_test_split(X, y, test_size=0.2, random_state=0)"
   ]
  },
  {
   "cell_type": "code",
   "execution_count": 12,
   "metadata": {},
   "outputs": [
    {
     "name": "stdout",
     "output_type": "stream",
     "text": [
      "(25, 7, 8, 1)\n"
     ]
    }
   ],
   "source": [
    "ones = np.ones((25, 7, 8))\n",
    "print(ones[...,np.newaxis].shape)"
   ]
  },
  {
   "cell_type": "markdown",
   "metadata": {},
   "source": [
    "#### Build Linear Regression Model\n",
    "Task: train linear regression model with the fit function.\n",
    "Then print the coefficient and the intercept term."
   ]
  },
  {
   "cell_type": "code",
   "execution_count": 13,
   "metadata": {
    "pycharm": {
     "is_executing": true,
     "name": "#%%\n"
    }
   },
   "outputs": [
    {
     "name": "stdout",
     "output_type": "stream",
     "text": [
      "[9.91065648]\n",
      "2.018160041434683\n"
     ]
    }
   ],
   "source": [
    "from sklearn.linear_model import LinearRegression\n",
    "regressor = LinearRegression()\n",
    "\n",
    "# Write code here (3 lines) fit the model and print the coefficient and the intercept.\n",
    "regressor.fit(x_train, y_train)\n",
    "print(regressor.coef_)\n",
    "print(regressor.intercept_)"
   ]
  },
  {
   "cell_type": "markdown",
   "metadata": {},
   "source": [
    "#### Evaluate the performance of the linear regression model on test dataset\n",
    "Task: Use the predict function in the model to predict the output of the testset and call it $y\\_pred$."
   ]
  },
  {
   "cell_type": "code",
   "execution_count": 14,
   "metadata": {
    "pycharm": {
     "is_executing": true,
     "name": "#%%\n"
    }
   },
   "outputs": [],
   "source": [
    "# Write one line to predict the response of the X_test of the fitted LR model.\n",
    "# all sk models have fit and predict, fit for training and predict for ..\n",
    "y_pred = regressor.predict(x_test)"
   ]
  },
  {
   "cell_type": "markdown",
   "metadata": {
    "pycharm": {
     "name": "#%% md\n"
    }
   },
   "source": [
    "Task: Measure the performance of the model using the (1) root mean squared error, (2) mean absolute error and coefficient of determination $R^2$.\n",
    "\n",
    "Issues:\n",
    "\n",
    "1- What RMSE, MAE and R-squared coefficient tell us?"
   ]
  },
  {
   "cell_type": "code",
   "execution_count": 17,
   "metadata": {
    "pycharm": {
     "is_executing": true,
     "name": "#%%\n"
    }
   },
   "outputs": [
    {
     "name": "stdout",
     "output_type": "stream",
     "text": [
      "MAE 4.183859899002975\n",
      "RMSE 21.5987693072174\n",
      "r2_score 0.9454906892105356\n"
     ]
    }
   ],
   "source": [
    "from sklearn.metrics import mean_absolute_error, mean_squared_error, r2_score\n",
    "print('MAE', mean_absolute_error(y_test, y_pred))\n",
    "print('RMSE', mean_squared_error(y_test, y_pred, squared=True)) #always pass the truth\n",
    "print('r2_score', r2_score(y_test, y_pred))"
   ]
  },
  {
   "cell_type": "markdown",
   "metadata": {},
   "source": [
    "### P-Value\n",
    "What is p-value and how can we use it?"
   ]
  },
  {
   "cell_type": "code",
   "execution_count": 18,
   "metadata": {
    "pycharm": {
     "name": "#%%\n"
    }
   },
   "outputs": [
    {
     "name": "stdout",
     "output_type": "stream",
     "text": [
      "const    5.174991e-01\n",
      "x1       2.789440e-13\n",
      "Name: P>|t|, dtype: float64\n"
     ]
    }
   ],
   "source": [
    "import statsmodels.api as sm\n",
    "\n",
    "x_train_w_const = sm.add_constant(x_train)\n",
    "mod = sm.OLS(y_train, x_train_w_const)\n",
    "fit_result = mod.fit()\n",
    "p_values = fit_result.summary2().tables[1]['P>|t|']\n",
    "print(p_values)"
   ]
  },
  {
   "cell_type": "markdown",
   "metadata": {},
   "source": [
    "### Multiple Linear Regression\n",
    "Linear regression involving multiple variables is called \"multiple linear regression\"\n",
    "We will use multiple linear regression to predict the gas consumptions (in millions of gallons) in 48 US states based upon gas taxes (in cents), per capita income (dollars), paved highways (in miles) and the proportion of population that has a drivers license.\n",
    "We seek a model of the form:\n",
    "\n",
    "     B = A0 + A1 * X1 + A2 * X2 + A3 * X3 + A4 * X4."
   ]
  },
  {
   "cell_type": "markdown",
   "metadata": {},
   "source": [
    "#### Load and Explore the dataset"
   ]
  },
  {
   "cell_type": "code",
   "execution_count": 19,
   "metadata": {
    "pycharm": {
     "name": "#%%\n"
    }
   },
   "outputs": [],
   "source": [
    "%matplotlib inline\n",
    "dataset = pd.read_csv('petrol_consumption.csv')\n"
   ]
  },
  {
   "cell_type": "code",
   "execution_count": 20,
   "metadata": {
    "pycharm": {
     "name": "#%%\n"
    }
   },
   "outputs": [
    {
     "data": {
      "text/html": [
       "<div>\n",
       "<style scoped>\n",
       "    .dataframe tbody tr th:only-of-type {\n",
       "        vertical-align: middle;\n",
       "    }\n",
       "\n",
       "    .dataframe tbody tr th {\n",
       "        vertical-align: top;\n",
       "    }\n",
       "\n",
       "    .dataframe thead th {\n",
       "        text-align: right;\n",
       "    }\n",
       "</style>\n",
       "<table border=\"1\" class=\"dataframe\">\n",
       "  <thead>\n",
       "    <tr style=\"text-align: right;\">\n",
       "      <th></th>\n",
       "      <th>Petrol_tax</th>\n",
       "      <th>Average_income</th>\n",
       "      <th>Paved_Highways</th>\n",
       "      <th>Population_Driver_licence(%)</th>\n",
       "      <th>Petrol_Consumption</th>\n",
       "    </tr>\n",
       "  </thead>\n",
       "  <tbody>\n",
       "    <tr>\n",
       "      <th>0</th>\n",
       "      <td>9.0</td>\n",
       "      <td>3571</td>\n",
       "      <td>1976</td>\n",
       "      <td>0.525</td>\n",
       "      <td>541</td>\n",
       "    </tr>\n",
       "    <tr>\n",
       "      <th>1</th>\n",
       "      <td>9.0</td>\n",
       "      <td>4092</td>\n",
       "      <td>1250</td>\n",
       "      <td>0.572</td>\n",
       "      <td>524</td>\n",
       "    </tr>\n",
       "    <tr>\n",
       "      <th>2</th>\n",
       "      <td>9.0</td>\n",
       "      <td>3865</td>\n",
       "      <td>1586</td>\n",
       "      <td>0.580</td>\n",
       "      <td>561</td>\n",
       "    </tr>\n",
       "    <tr>\n",
       "      <th>3</th>\n",
       "      <td>7.5</td>\n",
       "      <td>4870</td>\n",
       "      <td>2351</td>\n",
       "      <td>0.529</td>\n",
       "      <td>414</td>\n",
       "    </tr>\n",
       "    <tr>\n",
       "      <th>4</th>\n",
       "      <td>8.0</td>\n",
       "      <td>4399</td>\n",
       "      <td>431</td>\n",
       "      <td>0.544</td>\n",
       "      <td>410</td>\n",
       "    </tr>\n",
       "  </tbody>\n",
       "</table>\n",
       "</div>"
      ],
      "text/plain": [
       "   Petrol_tax  Average_income  Paved_Highways  Population_Driver_licence(%)  \\\n",
       "0         9.0            3571            1976                         0.525   \n",
       "1         9.0            4092            1250                         0.572   \n",
       "2         9.0            3865            1586                         0.580   \n",
       "3         7.5            4870            2351                         0.529   \n",
       "4         8.0            4399             431                         0.544   \n",
       "\n",
       "   Petrol_Consumption  \n",
       "0                 541  \n",
       "1                 524  \n",
       "2                 561  \n",
       "3                 414  \n",
       "4                 410  "
      ]
     },
     "execution_count": 20,
     "metadata": {},
     "output_type": "execute_result"
    }
   ],
   "source": [
    "dataset.head()\n"
   ]
  },
  {
   "cell_type": "markdown",
   "metadata": {},
   "source": [
    "#### Data preparation\n",
    "Task: Split the data to train and test with ratios 80% and 20% respectively."
   ]
  },
  {
   "cell_type": "code",
   "execution_count": 6,
   "metadata": {
    "pycharm": {
     "name": "#%%\n"
    }
   },
   "outputs": [
    {
     "output_type": "error",
     "ename": "NameError",
     "evalue": "name 'dataset' is not defined",
     "traceback": [
      "\u001b[0;31m---------------------------------------------------------------------------\u001b[0m",
      "\u001b[0;31mNameError\u001b[0m                                 Traceback (most recent call last)",
      "\u001b[0;32m<ipython-input-6-d326765ce7d7>\u001b[0m in \u001b[0;36m<module>\u001b[0;34m\u001b[0m\n\u001b[0;32m----> 1\u001b[0;31m X = dataset[['Petrol_tax', 'Average_income', 'Paved_Highways',\n\u001b[0m\u001b[1;32m      2\u001b[0m        'Population_Driver_licence(%)']]\n\u001b[1;32m      3\u001b[0m \u001b[0my\u001b[0m \u001b[0;34m=\u001b[0m \u001b[0mdataset\u001b[0m\u001b[0;34m[\u001b[0m\u001b[0;34m'Petrol_Consumption'\u001b[0m\u001b[0;34m]\u001b[0m\u001b[0;34m\u001b[0m\u001b[0;34m\u001b[0m\u001b[0m\n\u001b[1;32m      4\u001b[0m \u001b[0mprint\u001b[0m\u001b[0;34m(\u001b[0m\u001b[0mX\u001b[0m\u001b[0;34m.\u001b[0m\u001b[0mshape\u001b[0m\u001b[0;34m)\u001b[0m\u001b[0;34m\u001b[0m\u001b[0;34m\u001b[0m\u001b[0m\n\u001b[1;32m      5\u001b[0m \u001b[0;32mfrom\u001b[0m \u001b[0msklearn\u001b[0m\u001b[0;34m.\u001b[0m\u001b[0mmodel_selection\u001b[0m \u001b[0;32mimport\u001b[0m \u001b[0mtrain_test_split\u001b[0m\u001b[0;34m\u001b[0m\u001b[0;34m\u001b[0m\u001b[0m\n",
      "\u001b[0;31mNameError\u001b[0m: name 'dataset' is not defined"
     ]
    }
   ],
   "source": [
    "\n",
    "X = dataset[['Petrol_tax', 'Average_income', 'Paved_Highways',\n",
    "       'Population_Driver_licence(%)']]\n",
    "y = dataset['Petrol_Consumption']\n",
    "print(X.shape)\n",
    "from sklearn.model_selection import train_test_split\n",
    "\n",
    "# write the splitting code here (1 line).\n",
    "x_train, x_test, y_train, y_test = train_test_split(X, y, test_size=0.2, random_state=0)"
   ]
  },
  {
   "cell_type": "markdown",
   "metadata": {},
   "source": [
    "#### Building Linear Regression model\n",
    "Task: train linear regression model with the fit function.\n",
    "Then print the coefficient and the intercept term."
   ]
  },
  {
   "cell_type": "code",
   "execution_count": 24,
   "metadata": {
    "pycharm": {
     "name": "#%%\n"
    }
   },
   "outputs": [
    {
     "name": "stdout",
     "output_type": "stream",
     "text": [
      "[-4.00166602e+01 -6.54126674e-02 -4.74073380e-03  1.34186212e+03]\n",
      "425.5993322032417\n"
     ]
    }
   ],
   "source": [
    "from sklearn.linear_model import LinearRegression\n",
    "regressor = LinearRegression()\n",
    "\n",
    "# Write code here (3 lines) fit the model and print the coefficient and the intercept.\n",
    "# they are only 4\n",
    "regressor.fit(x_train, y_train)\n",
    "print(regressor.coef_)\n",
    "print(regressor.intercept_)"
   ]
  },
  {
   "cell_type": "markdown",
   "metadata": {},
   "source": [
    "#### Evaluate the performance of the linear regression model on test dataset\n",
    "Task: Use the predict function in the model to predict the output of the testset and call it $y\\_pred$.\n",
    "And print it."
   ]
  },
  {
   "cell_type": "code",
   "execution_count": 30,
   "metadata": {
    "pycharm": {
     "is_executing": true,
     "name": "#%%\n"
    }
   },
   "outputs": [],
   "source": [
    "# Write one line to predict the response of the X_test of the fitted LR model.\n",
    "y_pred = regressor.predict(x_test)"
   ]
  },
  {
   "cell_type": "markdown",
   "metadata": {},
   "source": [
    "Measure the performance of the model using the (1) root mean squared error, (2) mean absolute error and coefficient of determination $R^2$."
   ]
  },
  {
   "cell_type": "code",
   "execution_count": 34,
   "metadata": {
    "pycharm": {
     "is_executing": true,
     "name": "#%%\n"
    }
   },
   "outputs": [
    {
     "name": "stdout",
     "output_type": "stream",
     "text": [
      "Mean Absolute Error: 56.822247478964684\n",
      "Mean Squared Error: 68.31064915215165\n",
      "r2 0.2036193241012182\n"
     ]
    }
   ],
   "source": [
    "# from sklearn.metrics import mean_absolute_error, mean_squared_error, r2_score\n",
    "from sklearn import metrics\n",
    "print('Mean Absolute Error:', metrics.mean_absolute_error(y_test, y_pred))\n",
    "print('Mean Squared Error:', metrics.mean_squared_error(y_test, y_pred, squared=False))\n",
    "# print('Root Mean Squared:', np.sqrt(metrics.mean_squared_error(y_test, y_pred)))\n",
    "print('r2', metrics.r2_score(y_test, y_pred))\n"
   ]
  },
  {
   "cell_type": "code",
   "execution_count": 35,
   "metadata": {
    "pycharm": {
     "name": "#%%\n"
    }
   },
   "outputs": [
    {
     "name": "stdout",
     "output_type": "stream",
     "text": [
      "const                           4.296987e-02\n",
      "Petrol_tax                      6.694352e-03\n",
      "Average_income                  3.248926e-03\n",
      "Paved_Highways                  2.071597e-01\n",
      "Population_Driver_licence(%)    2.902663e-07\n",
      "Name: P>|t|, dtype: float64\n"
     ]
    }
   ],
   "source": [
    "import statsmodels.api as sm\n",
    "\n",
    "x_train_w_const = sm.add_constant(x_train)\n",
    "mod = sm.OLS(y_train, x_train_w_const)\n",
    "fit_result = mod.fit()\n",
    "p_values = fit_result.summary2().tables[1]['P>|t|']\n",
    "print(p_values)"
   ]
  },
  {
   "cell_type": "markdown",
   "metadata": {},
   "source": [
    "### Polynomial Regression\n",
    "Polynomial Regression, is simply a transformation for the explanatory variables to higher polynomial orders and maybe with interactive variables.\n",
    "1. Why do we need it?\n",
    "2. Which order of the polynomial should we choose?\n",
    "3. should we always pick the most complex model?\n",
    "\n",
    "#### We will create a synthetic dataset by adding some random gaussian noise to a cosinusoidal function."
   ]
  },
  {
   "cell_type": "markdown",
   "metadata": {},
   "source": [
    "#### Import Libraries"
   ]
  },
  {
   "cell_type": "code",
   "execution_count": 1,
   "metadata": {
    "pycharm": {
     "name": "#%%\n"
    }
   },
   "outputs": [
    {
     "output_type": "stream",
     "name": "stdout",
     "text": [
      "Automatically created module for IPython interactive environment\n"
     ]
    }
   ],
   "source": [
    "# why we need it? -> we are raising the relationship to some high order, based on linear regression, therefore polynomial regression\n",
    "print(__doc__)\n",
    "\n",
    "from sklearn.pipeline import Pipeline #pipeline to run different things together\n",
    "from sklearn.preprocessing import PolynomialFeatures\n",
    "from sklearn.linear_model import LinearRegression\n"
   ]
  },
  {
   "cell_type": "markdown",
   "metadata": {},
   "source": [
    "#### Create sinusoidal function"
   ]
  },
  {
   "cell_type": "code",
   "execution_count": 2,
   "metadata": {
    "pycharm": {
     "name": "#%%\n"
    }
   },
   "outputs": [],
   "source": [
    "\n",
    "def true_fun(X):\n",
    "    return np.cos(1.5 * np.pi * X)\n"
   ]
  },
  {
   "cell_type": "markdown",
   "metadata": {},
   "source": [
    "#### Create a synthetic dataset by adding some random gaussian noise to a cosinusoidal function"
   ]
  },
  {
   "cell_type": "code",
   "execution_count": 8,
   "metadata": {
    "pycharm": {
     "name": "#%%\n"
    }
   },
   "outputs": [],
   "source": [
    "\n",
    "np.random.seed(0)\n",
    "\n",
    "# to generate 30 samples\n",
    "n_samples = 30\n",
    "degrees = [1, 4, 15]\n",
    "\n",
    "X = np.sort(np.random.rand(n_samples))\n",
    "\n",
    "# eps is some noise on the end added to the true function\n",
    "y = true_fun(X) + np.random.randn(n_samples) * 0.1\n",
    "\n",
    "# next split it into training set and validation set\n",
    "x_train, x_val, y_train, y_val = train_test_split(X, y, test_size=0.2, random_state=42)"
   ]
  },
  {
   "cell_type": "markdown",
   "metadata": {},
   "source": [
    "#### We will build three polynomial models with degrees [1, 4, 15] and observe the effect of increasing the degree of complixity of the model on how well it suits the data.\n",
    "\n",
    "\n",
    "Task: Write a pipeline of PolynomialFeatures transformation then, LinearRegression mode to be applied on X & y.\n",
    "Then get the validation score with the MSE metric.\n",
    "\n",
    "Q: What's your observation?"
   ]
  },
  {
   "cell_type": "code",
   "execution_count": 11,
   "metadata": {
    "pycharm": {
     "name": "#%%\n"
    }
   },
   "outputs": [
    {
     "output_type": "stream",
     "name": "stdout",
     "text": [
      "(6, 1)\n(6, 1)\n(6, 1)\n"
     ]
    },
    {
     "output_type": "display_data",
     "data": {
      "text/plain": "<Figure size 1008x360 with 3 Axes>",
      "image/svg+xml": "<?xml version=\"1.0\" encoding=\"utf-8\" standalone=\"no\"?>\n<!DOCTYPE svg PUBLIC \"-//W3C//DTD SVG 1.1//EN\"\n  \"http://www.w3.org/Graphics/SVG/1.1/DTD/svg11.dtd\">\n<!-- Created with matplotlib (https://matplotlib.org/) -->\n<svg height=\"328.433625pt\" version=\"1.1\" viewBox=\"0 0 809.278125 328.433625\" width=\"809.278125pt\" xmlns=\"http://www.w3.org/2000/svg\" xmlns:xlink=\"http://www.w3.org/1999/xlink\">\n <metadata>\n  <rdf:RDF xmlns:cc=\"http://creativecommons.org/ns#\" xmlns:dc=\"http://purl.org/dc/elements/1.1/\" xmlns:rdf=\"http://www.w3.org/1999/02/22-rdf-syntax-ns#\">\n   <cc:Work>\n    <dc:type rdf:resource=\"http://purl.org/dc/dcmitype/StillImage\"/>\n    <dc:date>2021-03-13T05:15:27.591707</dc:date>\n    <dc:format>image/svg+xml</dc:format>\n    <dc:creator>\n     <cc:Agent>\n      <dc:title>Matplotlib v3.3.2, https://matplotlib.org/</dc:title>\n     </cc:Agent>\n    </dc:creator>\n   </cc:Work>\n  </rdf:RDF>\n </metadata>\n <defs>\n  <style type=\"text/css\">*{stroke-linecap:butt;stroke-linejoin:round;}</style>\n </defs>\n <g id=\"figure_1\">\n  <g id=\"patch_1\">\n   <path d=\"M 0 328.433625 \nL 809.278125 328.433625 \nL 809.278125 0 \nL 0 0 \nz\n\" style=\"fill:none;\"/>\n  </g>\n  <g id=\"axes_1\">\n   <g id=\"patch_2\">\n    <path d=\"M 20.878125 307.5555 \nL 250.642831 307.5555 \nL 250.642831 35.7555 \nL 20.878125 35.7555 \nz\n\" style=\"fill:#ffffff;\"/>\n   </g>\n   <g id=\"PathCollection_1\">\n    <defs>\n     <path d=\"M 0 2.236068 \nC 0.593012 2.236068 1.161816 2.000462 1.581139 1.581139 \nC 2.000462 1.161816 2.236068 0.593012 2.236068 0 \nC 2.236068 -0.593012 2.000462 -1.161816 1.581139 -1.581139 \nC 1.161816 -2.000462 0.593012 -2.236068 0 -2.236068 \nC -0.593012 -2.236068 -1.161816 -2.000462 -1.581139 -1.581139 \nC -2.000462 -1.161816 -2.236068 -0.593012 -2.236068 0 \nC -2.236068 0.593012 -2.000462 1.161816 -1.581139 1.581139 \nC -1.161816 2.000462 -0.593012 2.236068 0 2.236068 \nz\n\" id=\"mf0e4e57b72\" style=\"stroke:#0000ff;\"/>\n    </defs>\n    <g clip-path=\"url(#p548717b778)\">\n     <use style=\"fill:#1f77b4;stroke:#0000ff;\" x=\"25.523599\" xlink:href=\"#mf0e4e57b72\" y=\"98.139838\"/>\n     <use style=\"fill:#1f77b4;stroke:#0000ff;\" x=\"37.199704\" xlink:href=\"#mf0e4e57b72\" y=\"112.520237\"/>\n     <use style=\"fill:#1f77b4;stroke:#0000ff;\" x=\"40.897363\" xlink:href=\"#mf0e4e57b72\" y=\"93.930071\"/>\n     <use style=\"fill:#1f77b4;stroke:#0000ff;\" x=\"48.053414\" xlink:href=\"#mf0e4e57b72\" y=\"123.871666\"/>\n     <use style=\"fill:#1f77b4;stroke:#0000ff;\" x=\"53.815651\" xlink:href=\"#mf0e4e57b72\" y=\"118.31832\"/>\n     <use style=\"fill:#1f77b4;stroke:#0000ff;\" x=\"108.979453\" xlink:href=\"#mf0e4e57b72\" y=\"188.823709\"/>\n     <use style=\"fill:#1f77b4;stroke:#0000ff;\" x=\"116.152804\" xlink:href=\"#mf0e4e57b72\" y=\"186.64939\"/>\n     <use style=\"fill:#1f77b4;stroke:#0000ff;\" x=\"118.219045\" xlink:href=\"#mf0e4e57b72\" y=\"189.727392\"/>\n     <use style=\"fill:#1f77b4;stroke:#0000ff;\" x=\"121.420222\" xlink:href=\"#mf0e4e57b72\" y=\"202.658666\"/>\n     <use style=\"fill:#1f77b4;stroke:#0000ff;\" x=\"126.909795\" xlink:href=\"#mf0e4e57b72\" y=\"207.67031\"/>\n     <use style=\"fill:#1f77b4;stroke:#0000ff;\" x=\"140.780451\" xlink:href=\"#mf0e4e57b72\" y=\"230.419645\"/>\n     <use style=\"fill:#1f77b4;stroke:#0000ff;\" x=\"142.399511\" xlink:href=\"#mf0e4e57b72\" y=\"239.240387\"/>\n     <use style=\"fill:#1f77b4;stroke:#0000ff;\" x=\"146.073049\" xlink:href=\"#mf0e4e57b72\" y=\"231.083621\"/>\n     <use style=\"fill:#1f77b4;stroke:#0000ff;\" x=\"146.976098\" xlink:href=\"#mf0e4e57b72\" y=\"228.330594\"/>\n     <use style=\"fill:#1f77b4;stroke:#0000ff;\" x=\"151.394717\" xlink:href=\"#mf0e4e57b72\" y=\"224.038596\"/>\n     <use style=\"fill:#1f77b4;stroke:#0000ff;\" x=\"159.371875\" xlink:href=\"#mf0e4e57b72\" y=\"228.377566\"/>\n     <use style=\"fill:#1f77b4;stroke:#0000ff;\" x=\"167.90939\" xlink:href=\"#mf0e4e57b72\" y=\"241.698405\"/>\n     <use style=\"fill:#1f77b4;stroke:#0000ff;\" x=\"169.281796\" xlink:href=\"#mf0e4e57b72\" y=\"241.334354\"/>\n     <use style=\"fill:#1f77b4;stroke:#0000ff;\" x=\"185.203399\" xlink:href=\"#mf0e4e57b72\" y=\"244.961781\"/>\n     <use style=\"fill:#1f77b4;stroke:#0000ff;\" x=\"199.671082\" xlink:href=\"#mf0e4e57b72\" y=\"240.090179\"/>\n     <use style=\"fill:#1f77b4;stroke:#0000ff;\" x=\"200.216182\" xlink:href=\"#mf0e4e57b72\" y=\"241.65059\"/>\n     <use style=\"fill:#1f77b4;stroke:#0000ff;\" x=\"202.788596\" xlink:href=\"#mf0e4e57b72\" y=\"214.887955\"/>\n     <use style=\"fill:#1f77b4;stroke:#0000ff;\" x=\"204.496557\" xlink:href=\"#mf0e4e57b72\" y=\"230.249228\"/>\n     <use style=\"fill:#1f77b4;stroke:#0000ff;\" x=\"212.184779\" xlink:href=\"#mf0e4e57b72\" y=\"222.841397\"/>\n     <use style=\"fill:#1f77b4;stroke:#0000ff;\" x=\"220.77621\" xlink:href=\"#mf0e4e57b72\" y=\"219.236669\"/>\n     <use style=\"fill:#1f77b4;stroke:#0000ff;\" x=\"225.776086\" xlink:href=\"#mf0e4e57b72\" y=\"199.544555\"/>\n     <use style=\"fill:#1f77b4;stroke:#0000ff;\" x=\"233.547564\" xlink:href=\"#mf0e4e57b72\" y=\"205.961258\"/>\n     <use style=\"fill:#1f77b4;stroke:#0000ff;\" x=\"237.929701\" xlink:href=\"#mf0e4e57b72\" y=\"190.618386\"/>\n     <use style=\"fill:#1f77b4;stroke:#0000ff;\" x=\"242.293816\" xlink:href=\"#mf0e4e57b72\" y=\"189.31885\"/>\n     <use style=\"fill:#1f77b4;stroke:#0000ff;\" x=\"245.730081\" xlink:href=\"#mf0e4e57b72\" y=\"175.861472\"/>\n    </g>\n   </g>\n   <g id=\"matplotlib.axis_1\">\n    <g id=\"text_1\">\n     <!-- x -->\n     <g transform=\"translate(132.801103 319.153937)scale(0.1 -0.1)\">\n      <defs>\n       <path d=\"M 54.890625 54.6875 \nL 35.109375 28.078125 \nL 55.90625 0 \nL 45.3125 0 \nL 29.390625 21.484375 \nL 13.484375 0 \nL 2.875 0 \nL 24.125 28.609375 \nL 4.6875 54.6875 \nL 15.28125 54.6875 \nL 29.78125 35.203125 \nL 44.28125 54.6875 \nz\n\" id=\"DejaVuSans-120\"/>\n      </defs>\n      <use xlink:href=\"#DejaVuSans-120\"/>\n     </g>\n    </g>\n   </g>\n   <g id=\"matplotlib.axis_2\">\n    <g id=\"text_2\">\n     <!-- y -->\n     <g transform=\"translate(14.798438 174.614875)rotate(-90)scale(0.1 -0.1)\">\n      <defs>\n       <path d=\"M 32.171875 -5.078125 \nQ 28.375 -14.84375 24.75 -17.8125 \nQ 21.140625 -20.796875 15.09375 -20.796875 \nL 7.90625 -20.796875 \nL 7.90625 -13.28125 \nL 13.1875 -13.28125 \nQ 16.890625 -13.28125 18.9375 -11.515625 \nQ 21 -9.765625 23.484375 -3.21875 \nL 25.09375 0.875 \nL 2.984375 54.6875 \nL 12.5 54.6875 \nL 29.59375 11.921875 \nL 46.6875 54.6875 \nL 56.203125 54.6875 \nz\n\" id=\"DejaVuSans-121\"/>\n      </defs>\n      <use xlink:href=\"#DejaVuSans-121\"/>\n     </g>\n    </g>\n   </g>\n   <g id=\"line2d_1\">\n    <path clip-path=\"url(#p548717b778)\" d=\"M 20.878125 127.683648 \nL 23.198981 128.883144 \nL 25.519836 130.08264 \nL 27.840692 131.282135 \nL 30.161547 132.481631 \nL 32.482403 133.681127 \nL 34.803259 134.880622 \nL 37.124114 136.080118 \nL 39.44497 137.279614 \nL 41.765826 138.479109 \nL 44.086681 139.678605 \nL 46.407537 140.878101 \nL 48.728392 142.077596 \nL 51.049248 143.277092 \nL 53.370104 144.476588 \nL 55.690959 145.676083 \nL 58.011815 146.875579 \nL 60.33267 148.075075 \nL 62.653526 149.27457 \nL 64.974382 150.474066 \nL 67.295237 151.673562 \nL 69.616093 152.873057 \nL 71.936949 154.072553 \nL 74.257804 155.272049 \nL 76.57866 156.471544 \nL 78.899515 157.67104 \nL 81.220371 158.870536 \nL 83.541227 160.070031 \nL 85.862082 161.269527 \nL 88.182938 162.469023 \nL 90.503793 163.668518 \nL 92.824649 164.868014 \nL 95.145505 166.067509 \nL 97.46636 167.267005 \nL 99.787216 168.466501 \nL 102.108072 169.665996 \nL 104.428927 170.865492 \nL 106.749783 172.064988 \nL 109.070638 173.264483 \nL 111.391494 174.463979 \nL 113.71235 175.663475 \nL 116.033205 176.86297 \nL 118.354061 178.062466 \nL 120.674916 179.261962 \nL 122.995772 180.461457 \nL 125.316628 181.660953 \nL 127.637483 182.860449 \nL 129.958339 184.059944 \nL 132.279195 185.25944 \nL 134.60005 186.458936 \nL 136.920906 187.658431 \nL 139.241761 188.857927 \nL 141.562617 190.057423 \nL 143.883473 191.256918 \nL 146.204328 192.456414 \nL 148.525184 193.65591 \nL 150.846039 194.855405 \nL 153.166895 196.054901 \nL 155.487751 197.254397 \nL 157.808606 198.453892 \nL 160.129462 199.653388 \nL 162.450318 200.852884 \nL 164.771173 202.052379 \nL 167.092029 203.251875 \nL 169.412884 204.451371 \nL 171.73374 205.650866 \nL 174.054596 206.850362 \nL 176.375451 208.049858 \nL 178.696307 209.249353 \nL 181.017162 210.448849 \nL 183.338018 211.648345 \nL 185.658874 212.84784 \nL 187.979729 214.047336 \nL 190.300585 215.246831 \nL 192.621441 216.446327 \nL 194.942296 217.645823 \nL 197.263152 218.845318 \nL 199.584007 220.044814 \nL 201.904863 221.24431 \nL 204.225719 222.443805 \nL 206.546574 223.643301 \nL 208.86743 224.842797 \nL 211.188285 226.042292 \nL 213.509141 227.241788 \nL 215.829997 228.441284 \nL 218.150852 229.640779 \nL 220.471708 230.840275 \nL 222.792564 232.039771 \nL 225.113419 233.239266 \nL 227.434275 234.438762 \nL 229.75513 235.638258 \nL 232.075986 236.837753 \nL 234.396842 238.037249 \nL 236.717697 239.236745 \nL 239.038553 240.43624 \nL 241.359408 241.635736 \nL 243.680264 242.835232 \nL 246.00112 244.034727 \nL 248.321975 245.234223 \nL 250.642831 246.433719 \n\" style=\"fill:none;stroke:#1f77b4;stroke-linecap:square;stroke-width:1.5;\"/>\n   </g>\n   <g id=\"line2d_2\">\n    <path clip-path=\"url(#p548717b778)\" d=\"M 20.878125 103.7055 \nL 23.198981 103.782464 \nL 25.519836 104.013183 \nL 27.840692 104.397133 \nL 30.161547 104.933445 \nL 32.482403 105.620904 \nL 34.803259 106.457952 \nL 37.124114 107.442694 \nL 39.44497 108.572899 \nL 41.765826 109.846006 \nL 44.086681 111.259131 \nL 46.407537 112.809074 \nL 48.728392 114.492322 \nL 51.049248 116.305064 \nL 53.370104 118.243192 \nL 55.690959 120.302316 \nL 58.011815 122.477772 \nL 60.33267 124.764631 \nL 62.653526 127.157713 \nL 64.974382 129.651597 \nL 67.295237 132.240633 \nL 69.616093 134.918956 \nL 71.936949 137.6805 \nL 74.257804 140.519008 \nL 76.57866 143.42805 \nL 78.899515 146.401036 \nL 81.220371 149.431232 \nL 83.541227 152.511773 \nL 85.862082 155.63568 \nL 88.182938 158.795878 \nL 90.503793 161.985207 \nL 92.824649 165.196442 \nL 95.145505 168.422309 \nL 97.46636 171.6555 \nL 99.787216 174.888691 \nL 102.108072 178.114558 \nL 104.428927 181.325793 \nL 106.749783 184.515122 \nL 109.070638 187.67532 \nL 111.391494 190.799227 \nL 113.71235 193.879768 \nL 116.033205 196.909964 \nL 118.354061 199.88295 \nL 120.674916 202.791992 \nL 122.995772 205.6305 \nL 125.316628 208.392044 \nL 127.637483 211.070367 \nL 129.958339 213.659403 \nL 132.279195 216.153287 \nL 134.60005 218.546369 \nL 136.920906 220.833228 \nL 139.241761 223.008684 \nL 141.562617 225.067808 \nL 143.883473 227.005936 \nL 146.204328 228.818678 \nL 148.525184 230.501926 \nL 150.846039 232.051869 \nL 153.166895 233.464994 \nL 155.487751 234.738101 \nL 157.808606 235.868306 \nL 160.129462 236.853048 \nL 162.450318 237.690096 \nL 164.771173 238.377555 \nL 167.092029 238.913867 \nL 169.412884 239.297817 \nL 171.73374 239.528536 \nL 174.054596 239.6055 \nL 176.375451 239.528536 \nL 178.696307 239.297817 \nL 181.017162 238.913867 \nL 183.338018 238.377555 \nL 185.658874 237.690096 \nL 187.979729 236.853048 \nL 190.300585 235.868306 \nL 192.621441 234.738101 \nL 194.942296 233.464994 \nL 197.263152 232.051869 \nL 199.584007 230.501926 \nL 201.904863 228.818678 \nL 204.225719 227.005936 \nL 206.546574 225.067808 \nL 208.86743 223.008684 \nL 211.188285 220.833228 \nL 213.509141 218.546369 \nL 215.829997 216.153287 \nL 218.150852 213.659403 \nL 220.471708 211.070367 \nL 222.792564 208.392044 \nL 225.113419 205.6305 \nL 227.434275 202.791992 \nL 229.75513 199.88295 \nL 232.075986 196.909964 \nL 234.396842 193.879768 \nL 236.717697 190.799227 \nL 239.038553 187.67532 \nL 241.359408 184.515122 \nL 243.680264 181.325793 \nL 246.00112 178.114558 \nL 248.321975 174.888691 \nL 250.642831 171.6555 \n\" style=\"fill:none;stroke:#ff7f0e;stroke-linecap:square;stroke-width:1.5;\"/>\n   </g>\n   <g id=\"patch_3\">\n    <path d=\"M 20.878125 307.5555 \nL 20.878125 35.7555 \n\" style=\"fill:none;stroke:#000000;stroke-linecap:square;stroke-linejoin:miter;stroke-width:0.8;\"/>\n   </g>\n   <g id=\"patch_4\">\n    <path d=\"M 250.642831 307.5555 \nL 250.642831 35.7555 \n\" style=\"fill:none;stroke:#000000;stroke-linecap:square;stroke-linejoin:miter;stroke-width:0.8;\"/>\n   </g>\n   <g id=\"patch_5\">\n    <path d=\"M 20.878125 307.5555 \nL 250.642831 307.5555 \n\" style=\"fill:none;stroke:#000000;stroke-linecap:square;stroke-linejoin:miter;stroke-width:0.8;\"/>\n   </g>\n   <g id=\"patch_6\">\n    <path d=\"M 20.878125 35.7555 \nL 250.642831 35.7555 \n\" style=\"fill:none;stroke:#000000;stroke-linecap:square;stroke-linejoin:miter;stroke-width:0.8;\"/>\n   </g>\n   <g id=\"text_3\">\n    <!-- Degree 1 -->\n    <g transform=\"translate(108.199853 16.318125)scale(0.12 -0.12)\">\n     <defs>\n      <path d=\"M 19.671875 64.796875 \nL 19.671875 8.109375 \nL 31.59375 8.109375 \nQ 46.6875 8.109375 53.6875 14.9375 \nQ 60.6875 21.78125 60.6875 36.53125 \nQ 60.6875 51.171875 53.6875 57.984375 \nQ 46.6875 64.796875 31.59375 64.796875 \nz\nM 9.8125 72.90625 \nL 30.078125 72.90625 \nQ 51.265625 72.90625 61.171875 64.09375 \nQ 71.09375 55.28125 71.09375 36.53125 \nQ 71.09375 17.671875 61.125 8.828125 \nQ 51.171875 0 30.078125 0 \nL 9.8125 0 \nz\n\" id=\"DejaVuSans-68\"/>\n      <path d=\"M 56.203125 29.59375 \nL 56.203125 25.203125 \nL 14.890625 25.203125 \nQ 15.484375 15.921875 20.484375 11.0625 \nQ 25.484375 6.203125 34.421875 6.203125 \nQ 39.59375 6.203125 44.453125 7.46875 \nQ 49.3125 8.734375 54.109375 11.28125 \nL 54.109375 2.78125 \nQ 49.265625 0.734375 44.1875 -0.34375 \nQ 39.109375 -1.421875 33.890625 -1.421875 \nQ 20.796875 -1.421875 13.15625 6.1875 \nQ 5.515625 13.8125 5.515625 26.8125 \nQ 5.515625 40.234375 12.765625 48.109375 \nQ 20.015625 56 32.328125 56 \nQ 43.359375 56 49.78125 48.890625 \nQ 56.203125 41.796875 56.203125 29.59375 \nz\nM 47.21875 32.234375 \nQ 47.125 39.59375 43.09375 43.984375 \nQ 39.0625 48.390625 32.421875 48.390625 \nQ 24.90625 48.390625 20.390625 44.140625 \nQ 15.875 39.890625 15.1875 32.171875 \nz\n\" id=\"DejaVuSans-101\"/>\n      <path d=\"M 45.40625 27.984375 \nQ 45.40625 37.75 41.375 43.109375 \nQ 37.359375 48.484375 30.078125 48.484375 \nQ 22.859375 48.484375 18.828125 43.109375 \nQ 14.796875 37.75 14.796875 27.984375 \nQ 14.796875 18.265625 18.828125 12.890625 \nQ 22.859375 7.515625 30.078125 7.515625 \nQ 37.359375 7.515625 41.375 12.890625 \nQ 45.40625 18.265625 45.40625 27.984375 \nz\nM 54.390625 6.78125 \nQ 54.390625 -7.171875 48.1875 -13.984375 \nQ 42 -20.796875 29.203125 -20.796875 \nQ 24.46875 -20.796875 20.265625 -20.09375 \nQ 16.0625 -19.390625 12.109375 -17.921875 \nL 12.109375 -9.1875 \nQ 16.0625 -11.328125 19.921875 -12.34375 \nQ 23.78125 -13.375 27.78125 -13.375 \nQ 36.625 -13.375 41.015625 -8.765625 \nQ 45.40625 -4.15625 45.40625 5.171875 \nL 45.40625 9.625 \nQ 42.625 4.78125 38.28125 2.390625 \nQ 33.9375 0 27.875 0 \nQ 17.828125 0 11.671875 7.65625 \nQ 5.515625 15.328125 5.515625 27.984375 \nQ 5.515625 40.671875 11.671875 48.328125 \nQ 17.828125 56 27.875 56 \nQ 33.9375 56 38.28125 53.609375 \nQ 42.625 51.21875 45.40625 46.390625 \nL 45.40625 54.6875 \nL 54.390625 54.6875 \nz\n\" id=\"DejaVuSans-103\"/>\n      <path d=\"M 41.109375 46.296875 \nQ 39.59375 47.171875 37.8125 47.578125 \nQ 36.03125 48 33.890625 48 \nQ 26.265625 48 22.1875 43.046875 \nQ 18.109375 38.09375 18.109375 28.8125 \nL 18.109375 0 \nL 9.078125 0 \nL 9.078125 54.6875 \nL 18.109375 54.6875 \nL 18.109375 46.1875 \nQ 20.953125 51.171875 25.484375 53.578125 \nQ 30.03125 56 36.53125 56 \nQ 37.453125 56 38.578125 55.875 \nQ 39.703125 55.765625 41.0625 55.515625 \nz\n\" id=\"DejaVuSans-114\"/>\n      <path id=\"DejaVuSans-32\"/>\n      <path d=\"M 12.40625 8.296875 \nL 28.515625 8.296875 \nL 28.515625 63.921875 \nL 10.984375 60.40625 \nL 10.984375 69.390625 \nL 28.421875 72.90625 \nL 38.28125 72.90625 \nL 38.28125 8.296875 \nL 54.390625 8.296875 \nL 54.390625 0 \nL 12.40625 0 \nz\n\" id=\"DejaVuSans-49\"/>\n     </defs>\n     <use xlink:href=\"#DejaVuSans-68\"/>\n     <use x=\"77.001953\" xlink:href=\"#DejaVuSans-101\"/>\n     <use x=\"138.525391\" xlink:href=\"#DejaVuSans-103\"/>\n     <use x=\"202.001953\" xlink:href=\"#DejaVuSans-114\"/>\n     <use x=\"240.865234\" xlink:href=\"#DejaVuSans-101\"/>\n     <use x=\"302.388672\" xlink:href=\"#DejaVuSans-101\"/>\n     <use x=\"363.912109\" xlink:href=\"#DejaVuSans-32\"/>\n     <use x=\"395.699219\" xlink:href=\"#DejaVuSans-49\"/>\n    </g>\n    <!-- MSE = 2.10e-01) -->\n    <g transform=\"translate(84.949853 29.7555)scale(0.12 -0.12)\">\n     <defs>\n      <path d=\"M 9.8125 72.90625 \nL 24.515625 72.90625 \nL 43.109375 23.296875 \nL 61.8125 72.90625 \nL 76.515625 72.90625 \nL 76.515625 0 \nL 66.890625 0 \nL 66.890625 64.015625 \nL 48.09375 14.015625 \nL 38.1875 14.015625 \nL 19.390625 64.015625 \nL 19.390625 0 \nL 9.8125 0 \nz\n\" id=\"DejaVuSans-77\"/>\n      <path d=\"M 53.515625 70.515625 \nL 53.515625 60.890625 \nQ 47.90625 63.578125 42.921875 64.890625 \nQ 37.9375 66.21875 33.296875 66.21875 \nQ 25.25 66.21875 20.875 63.09375 \nQ 16.5 59.96875 16.5 54.203125 \nQ 16.5 49.359375 19.40625 46.890625 \nQ 22.3125 44.4375 30.421875 42.921875 \nL 36.375 41.703125 \nQ 47.40625 39.59375 52.65625 34.296875 \nQ 57.90625 29 57.90625 20.125 \nQ 57.90625 9.515625 50.796875 4.046875 \nQ 43.703125 -1.421875 29.984375 -1.421875 \nQ 24.8125 -1.421875 18.96875 -0.25 \nQ 13.140625 0.921875 6.890625 3.21875 \nL 6.890625 13.375 \nQ 12.890625 10.015625 18.65625 8.296875 \nQ 24.421875 6.59375 29.984375 6.59375 \nQ 38.421875 6.59375 43.015625 9.90625 \nQ 47.609375 13.234375 47.609375 19.390625 \nQ 47.609375 24.75 44.3125 27.78125 \nQ 41.015625 30.8125 33.5 32.328125 \nL 27.484375 33.5 \nQ 16.453125 35.6875 11.515625 40.375 \nQ 6.59375 45.0625 6.59375 53.421875 \nQ 6.59375 63.09375 13.40625 68.65625 \nQ 20.21875 74.21875 32.171875 74.21875 \nQ 37.3125 74.21875 42.625 73.28125 \nQ 47.953125 72.359375 53.515625 70.515625 \nz\n\" id=\"DejaVuSans-83\"/>\n      <path d=\"M 9.8125 72.90625 \nL 55.90625 72.90625 \nL 55.90625 64.59375 \nL 19.671875 64.59375 \nL 19.671875 43.015625 \nL 54.390625 43.015625 \nL 54.390625 34.71875 \nL 19.671875 34.71875 \nL 19.671875 8.296875 \nL 56.78125 8.296875 \nL 56.78125 0 \nL 9.8125 0 \nz\n\" id=\"DejaVuSans-69\"/>\n      <path d=\"M 10.59375 45.40625 \nL 73.1875 45.40625 \nL 73.1875 37.203125 \nL 10.59375 37.203125 \nz\nM 10.59375 25.484375 \nL 73.1875 25.484375 \nL 73.1875 17.1875 \nL 10.59375 17.1875 \nz\n\" id=\"DejaVuSans-61\"/>\n      <path d=\"M 19.1875 8.296875 \nL 53.609375 8.296875 \nL 53.609375 0 \nL 7.328125 0 \nL 7.328125 8.296875 \nQ 12.9375 14.109375 22.625 23.890625 \nQ 32.328125 33.6875 34.8125 36.53125 \nQ 39.546875 41.84375 41.421875 45.53125 \nQ 43.3125 49.21875 43.3125 52.78125 \nQ 43.3125 58.59375 39.234375 62.25 \nQ 35.15625 65.921875 28.609375 65.921875 \nQ 23.96875 65.921875 18.8125 64.3125 \nQ 13.671875 62.703125 7.8125 59.421875 \nL 7.8125 69.390625 \nQ 13.765625 71.78125 18.9375 73 \nQ 24.125 74.21875 28.421875 74.21875 \nQ 39.75 74.21875 46.484375 68.546875 \nQ 53.21875 62.890625 53.21875 53.421875 \nQ 53.21875 48.921875 51.53125 44.890625 \nQ 49.859375 40.875 45.40625 35.40625 \nQ 44.1875 33.984375 37.640625 27.21875 \nQ 31.109375 20.453125 19.1875 8.296875 \nz\n\" id=\"DejaVuSans-50\"/>\n      <path d=\"M 10.6875 12.40625 \nL 21 12.40625 \nL 21 0 \nL 10.6875 0 \nz\n\" id=\"DejaVuSans-46\"/>\n      <path d=\"M 31.78125 66.40625 \nQ 24.171875 66.40625 20.328125 58.90625 \nQ 16.5 51.421875 16.5 36.375 \nQ 16.5 21.390625 20.328125 13.890625 \nQ 24.171875 6.390625 31.78125 6.390625 \nQ 39.453125 6.390625 43.28125 13.890625 \nQ 47.125 21.390625 47.125 36.375 \nQ 47.125 51.421875 43.28125 58.90625 \nQ 39.453125 66.40625 31.78125 66.40625 \nz\nM 31.78125 74.21875 \nQ 44.046875 74.21875 50.515625 64.515625 \nQ 56.984375 54.828125 56.984375 36.375 \nQ 56.984375 17.96875 50.515625 8.265625 \nQ 44.046875 -1.421875 31.78125 -1.421875 \nQ 19.53125 -1.421875 13.0625 8.265625 \nQ 6.59375 17.96875 6.59375 36.375 \nQ 6.59375 54.828125 13.0625 64.515625 \nQ 19.53125 74.21875 31.78125 74.21875 \nz\n\" id=\"DejaVuSans-48\"/>\n      <path d=\"M 4.890625 31.390625 \nL 31.203125 31.390625 \nL 31.203125 23.390625 \nL 4.890625 23.390625 \nz\n\" id=\"DejaVuSans-45\"/>\n      <path d=\"M 8.015625 75.875 \nL 15.828125 75.875 \nQ 23.140625 64.359375 26.78125 53.3125 \nQ 30.421875 42.28125 30.421875 31.390625 \nQ 30.421875 20.453125 26.78125 9.375 \nQ 23.140625 -1.703125 15.828125 -13.1875 \nL 8.015625 -13.1875 \nQ 14.5 -2 17.703125 9.0625 \nQ 20.90625 20.125 20.90625 31.390625 \nQ 20.90625 42.671875 17.703125 53.65625 \nQ 14.5 64.65625 8.015625 75.875 \nz\n\" id=\"DejaVuSans-41\"/>\n     </defs>\n     <use xlink:href=\"#DejaVuSans-77\"/>\n     <use x=\"86.279297\" xlink:href=\"#DejaVuSans-83\"/>\n     <use x=\"149.755859\" xlink:href=\"#DejaVuSans-69\"/>\n     <use x=\"212.939453\" xlink:href=\"#DejaVuSans-32\"/>\n     <use x=\"244.726562\" xlink:href=\"#DejaVuSans-61\"/>\n     <use x=\"328.515625\" xlink:href=\"#DejaVuSans-32\"/>\n     <use x=\"360.302734\" xlink:href=\"#DejaVuSans-50\"/>\n     <use x=\"423.925781\" xlink:href=\"#DejaVuSans-46\"/>\n     <use x=\"455.712891\" xlink:href=\"#DejaVuSans-49\"/>\n     <use x=\"519.335938\" xlink:href=\"#DejaVuSans-48\"/>\n     <use x=\"582.958984\" xlink:href=\"#DejaVuSans-101\"/>\n     <use x=\"644.482422\" xlink:href=\"#DejaVuSans-45\"/>\n     <use x=\"680.566406\" xlink:href=\"#DejaVuSans-48\"/>\n     <use x=\"744.189453\" xlink:href=\"#DejaVuSans-49\"/>\n     <use x=\"807.8125\" xlink:href=\"#DejaVuSans-41\"/>\n    </g>\n   </g>\n   <g id=\"legend_1\">\n    <g id=\"patch_7\">\n     <path d=\"M 146.381893 87.789875 \nL 243.642831 87.789875 \nQ 245.642831 87.789875 245.642831 85.789875 \nL 245.642831 42.7555 \nQ 245.642831 40.7555 243.642831 40.7555 \nL 146.381893 40.7555 \nQ 144.381893 40.7555 144.381893 42.7555 \nL 144.381893 85.789875 \nQ 144.381893 87.789875 146.381893 87.789875 \nz\n\" style=\"fill:#ffffff;opacity:0.8;stroke:#cccccc;stroke-linejoin:miter;\"/>\n    </g>\n    <g id=\"line2d_3\">\n     <path d=\"M 148.381893 48.853937 \nL 168.381893 48.853937 \n\" style=\"fill:none;stroke:#1f77b4;stroke-linecap:square;stroke-width:1.5;\"/>\n    </g>\n    <g id=\"line2d_4\"/>\n    <g id=\"text_4\">\n     <!-- Model -->\n     <g transform=\"translate(176.381893 52.353937)scale(0.1 -0.1)\">\n      <defs>\n       <path d=\"M 30.609375 48.390625 \nQ 23.390625 48.390625 19.1875 42.75 \nQ 14.984375 37.109375 14.984375 27.296875 \nQ 14.984375 17.484375 19.15625 11.84375 \nQ 23.34375 6.203125 30.609375 6.203125 \nQ 37.796875 6.203125 41.984375 11.859375 \nQ 46.1875 17.53125 46.1875 27.296875 \nQ 46.1875 37.015625 41.984375 42.703125 \nQ 37.796875 48.390625 30.609375 48.390625 \nz\nM 30.609375 56 \nQ 42.328125 56 49.015625 48.375 \nQ 55.71875 40.765625 55.71875 27.296875 \nQ 55.71875 13.875 49.015625 6.21875 \nQ 42.328125 -1.421875 30.609375 -1.421875 \nQ 18.84375 -1.421875 12.171875 6.21875 \nQ 5.515625 13.875 5.515625 27.296875 \nQ 5.515625 40.765625 12.171875 48.375 \nQ 18.84375 56 30.609375 56 \nz\n\" id=\"DejaVuSans-111\"/>\n       <path d=\"M 45.40625 46.390625 \nL 45.40625 75.984375 \nL 54.390625 75.984375 \nL 54.390625 0 \nL 45.40625 0 \nL 45.40625 8.203125 \nQ 42.578125 3.328125 38.25 0.953125 \nQ 33.9375 -1.421875 27.875 -1.421875 \nQ 17.96875 -1.421875 11.734375 6.484375 \nQ 5.515625 14.40625 5.515625 27.296875 \nQ 5.515625 40.1875 11.734375 48.09375 \nQ 17.96875 56 27.875 56 \nQ 33.9375 56 38.25 53.625 \nQ 42.578125 51.265625 45.40625 46.390625 \nz\nM 14.796875 27.296875 \nQ 14.796875 17.390625 18.875 11.75 \nQ 22.953125 6.109375 30.078125 6.109375 \nQ 37.203125 6.109375 41.296875 11.75 \nQ 45.40625 17.390625 45.40625 27.296875 \nQ 45.40625 37.203125 41.296875 42.84375 \nQ 37.203125 48.484375 30.078125 48.484375 \nQ 22.953125 48.484375 18.875 42.84375 \nQ 14.796875 37.203125 14.796875 27.296875 \nz\n\" id=\"DejaVuSans-100\"/>\n       <path d=\"M 9.421875 75.984375 \nL 18.40625 75.984375 \nL 18.40625 0 \nL 9.421875 0 \nz\n\" id=\"DejaVuSans-108\"/>\n      </defs>\n      <use xlink:href=\"#DejaVuSans-77\"/>\n      <use x=\"86.279297\" xlink:href=\"#DejaVuSans-111\"/>\n      <use x=\"147.460938\" xlink:href=\"#DejaVuSans-100\"/>\n      <use x=\"210.9375\" xlink:href=\"#DejaVuSans-101\"/>\n      <use x=\"272.460938\" xlink:href=\"#DejaVuSans-108\"/>\n     </g>\n    </g>\n    <g id=\"line2d_5\">\n     <path d=\"M 148.381893 63.532062 \nL 168.381893 63.532062 \n\" style=\"fill:none;stroke:#ff7f0e;stroke-linecap:square;stroke-width:1.5;\"/>\n    </g>\n    <g id=\"line2d_6\"/>\n    <g id=\"text_5\">\n     <!-- True function -->\n     <g transform=\"translate(176.381893 67.032062)scale(0.1 -0.1)\">\n      <defs>\n       <path d=\"M -0.296875 72.90625 \nL 61.375 72.90625 \nL 61.375 64.59375 \nL 35.5 64.59375 \nL 35.5 0 \nL 25.59375 0 \nL 25.59375 64.59375 \nL -0.296875 64.59375 \nz\n\" id=\"DejaVuSans-84\"/>\n       <path d=\"M 8.5 21.578125 \nL 8.5 54.6875 \nL 17.484375 54.6875 \nL 17.484375 21.921875 \nQ 17.484375 14.15625 20.5 10.265625 \nQ 23.53125 6.390625 29.59375 6.390625 \nQ 36.859375 6.390625 41.078125 11.03125 \nQ 45.3125 15.671875 45.3125 23.6875 \nL 45.3125 54.6875 \nL 54.296875 54.6875 \nL 54.296875 0 \nL 45.3125 0 \nL 45.3125 8.40625 \nQ 42.046875 3.421875 37.71875 1 \nQ 33.40625 -1.421875 27.6875 -1.421875 \nQ 18.265625 -1.421875 13.375 4.4375 \nQ 8.5 10.296875 8.5 21.578125 \nz\nM 31.109375 56 \nz\n\" id=\"DejaVuSans-117\"/>\n       <path d=\"M 37.109375 75.984375 \nL 37.109375 68.5 \nL 28.515625 68.5 \nQ 23.6875 68.5 21.796875 66.546875 \nQ 19.921875 64.59375 19.921875 59.515625 \nL 19.921875 54.6875 \nL 34.71875 54.6875 \nL 34.71875 47.703125 \nL 19.921875 47.703125 \nL 19.921875 0 \nL 10.890625 0 \nL 10.890625 47.703125 \nL 2.296875 47.703125 \nL 2.296875 54.6875 \nL 10.890625 54.6875 \nL 10.890625 58.5 \nQ 10.890625 67.625 15.140625 71.796875 \nQ 19.390625 75.984375 28.609375 75.984375 \nz\n\" id=\"DejaVuSans-102\"/>\n       <path d=\"M 54.890625 33.015625 \nL 54.890625 0 \nL 45.90625 0 \nL 45.90625 32.71875 \nQ 45.90625 40.484375 42.875 44.328125 \nQ 39.84375 48.1875 33.796875 48.1875 \nQ 26.515625 48.1875 22.3125 43.546875 \nQ 18.109375 38.921875 18.109375 30.90625 \nL 18.109375 0 \nL 9.078125 0 \nL 9.078125 54.6875 \nL 18.109375 54.6875 \nL 18.109375 46.1875 \nQ 21.34375 51.125 25.703125 53.5625 \nQ 30.078125 56 35.796875 56 \nQ 45.21875 56 50.046875 50.171875 \nQ 54.890625 44.34375 54.890625 33.015625 \nz\n\" id=\"DejaVuSans-110\"/>\n       <path d=\"M 48.78125 52.59375 \nL 48.78125 44.1875 \nQ 44.96875 46.296875 41.140625 47.34375 \nQ 37.3125 48.390625 33.40625 48.390625 \nQ 24.65625 48.390625 19.8125 42.84375 \nQ 14.984375 37.3125 14.984375 27.296875 \nQ 14.984375 17.28125 19.8125 11.734375 \nQ 24.65625 6.203125 33.40625 6.203125 \nQ 37.3125 6.203125 41.140625 7.25 \nQ 44.96875 8.296875 48.78125 10.40625 \nL 48.78125 2.09375 \nQ 45.015625 0.34375 40.984375 -0.53125 \nQ 36.96875 -1.421875 32.421875 -1.421875 \nQ 20.0625 -1.421875 12.78125 6.34375 \nQ 5.515625 14.109375 5.515625 27.296875 \nQ 5.515625 40.671875 12.859375 48.328125 \nQ 20.21875 56 33.015625 56 \nQ 37.15625 56 41.109375 55.140625 \nQ 45.0625 54.296875 48.78125 52.59375 \nz\n\" id=\"DejaVuSans-99\"/>\n       <path d=\"M 18.3125 70.21875 \nL 18.3125 54.6875 \nL 36.8125 54.6875 \nL 36.8125 47.703125 \nL 18.3125 47.703125 \nL 18.3125 18.015625 \nQ 18.3125 11.328125 20.140625 9.421875 \nQ 21.96875 7.515625 27.59375 7.515625 \nL 36.8125 7.515625 \nL 36.8125 0 \nL 27.59375 0 \nQ 17.1875 0 13.234375 3.875 \nQ 9.28125 7.765625 9.28125 18.015625 \nL 9.28125 47.703125 \nL 2.6875 47.703125 \nL 2.6875 54.6875 \nL 9.28125 54.6875 \nL 9.28125 70.21875 \nz\n\" id=\"DejaVuSans-116\"/>\n       <path d=\"M 9.421875 54.6875 \nL 18.40625 54.6875 \nL 18.40625 0 \nL 9.421875 0 \nz\nM 9.421875 75.984375 \nL 18.40625 75.984375 \nL 18.40625 64.59375 \nL 9.421875 64.59375 \nz\n\" id=\"DejaVuSans-105\"/>\n      </defs>\n      <use xlink:href=\"#DejaVuSans-84\"/>\n      <use x=\"46.333984\" xlink:href=\"#DejaVuSans-114\"/>\n      <use x=\"87.447266\" xlink:href=\"#DejaVuSans-117\"/>\n      <use x=\"150.826172\" xlink:href=\"#DejaVuSans-101\"/>\n      <use x=\"212.349609\" xlink:href=\"#DejaVuSans-32\"/>\n      <use x=\"244.136719\" xlink:href=\"#DejaVuSans-102\"/>\n      <use x=\"279.341797\" xlink:href=\"#DejaVuSans-117\"/>\n      <use x=\"342.720703\" xlink:href=\"#DejaVuSans-110\"/>\n      <use x=\"406.099609\" xlink:href=\"#DejaVuSans-99\"/>\n      <use x=\"461.080078\" xlink:href=\"#DejaVuSans-116\"/>\n      <use x=\"500.289062\" xlink:href=\"#DejaVuSans-105\"/>\n      <use x=\"528.072266\" xlink:href=\"#DejaVuSans-111\"/>\n      <use x=\"589.253906\" xlink:href=\"#DejaVuSans-110\"/>\n     </g>\n    </g>\n    <g id=\"PathCollection_2\">\n     <g>\n      <use style=\"fill:#1f77b4;stroke:#0000ff;\" x=\"158.381893\" xlink:href=\"#mf0e4e57b72\" y=\"79.085187\"/>\n     </g>\n    </g>\n    <g id=\"text_6\">\n     <!-- Samples -->\n     <g transform=\"translate(176.381893 81.710187)scale(0.1 -0.1)\">\n      <defs>\n       <path d=\"M 34.28125 27.484375 \nQ 23.390625 27.484375 19.1875 25 \nQ 14.984375 22.515625 14.984375 16.5 \nQ 14.984375 11.71875 18.140625 8.90625 \nQ 21.296875 6.109375 26.703125 6.109375 \nQ 34.1875 6.109375 38.703125 11.40625 \nQ 43.21875 16.703125 43.21875 25.484375 \nL 43.21875 27.484375 \nz\nM 52.203125 31.203125 \nL 52.203125 0 \nL 43.21875 0 \nL 43.21875 8.296875 \nQ 40.140625 3.328125 35.546875 0.953125 \nQ 30.953125 -1.421875 24.3125 -1.421875 \nQ 15.921875 -1.421875 10.953125 3.296875 \nQ 6 8.015625 6 15.921875 \nQ 6 25.140625 12.171875 29.828125 \nQ 18.359375 34.515625 30.609375 34.515625 \nL 43.21875 34.515625 \nL 43.21875 35.40625 \nQ 43.21875 41.609375 39.140625 45 \nQ 35.0625 48.390625 27.6875 48.390625 \nQ 23 48.390625 18.546875 47.265625 \nQ 14.109375 46.140625 10.015625 43.890625 \nL 10.015625 52.203125 \nQ 14.9375 54.109375 19.578125 55.046875 \nQ 24.21875 56 28.609375 56 \nQ 40.484375 56 46.34375 49.84375 \nQ 52.203125 43.703125 52.203125 31.203125 \nz\n\" id=\"DejaVuSans-97\"/>\n       <path d=\"M 52 44.1875 \nQ 55.375 50.25 60.0625 53.125 \nQ 64.75 56 71.09375 56 \nQ 79.640625 56 84.28125 50.015625 \nQ 88.921875 44.046875 88.921875 33.015625 \nL 88.921875 0 \nL 79.890625 0 \nL 79.890625 32.71875 \nQ 79.890625 40.578125 77.09375 44.375 \nQ 74.3125 48.1875 68.609375 48.1875 \nQ 61.625 48.1875 57.5625 43.546875 \nQ 53.515625 38.921875 53.515625 30.90625 \nL 53.515625 0 \nL 44.484375 0 \nL 44.484375 32.71875 \nQ 44.484375 40.625 41.703125 44.40625 \nQ 38.921875 48.1875 33.109375 48.1875 \nQ 26.21875 48.1875 22.15625 43.53125 \nQ 18.109375 38.875 18.109375 30.90625 \nL 18.109375 0 \nL 9.078125 0 \nL 9.078125 54.6875 \nL 18.109375 54.6875 \nL 18.109375 46.1875 \nQ 21.1875 51.21875 25.484375 53.609375 \nQ 29.78125 56 35.6875 56 \nQ 41.65625 56 45.828125 52.96875 \nQ 50 49.953125 52 44.1875 \nz\n\" id=\"DejaVuSans-109\"/>\n       <path d=\"M 18.109375 8.203125 \nL 18.109375 -20.796875 \nL 9.078125 -20.796875 \nL 9.078125 54.6875 \nL 18.109375 54.6875 \nL 18.109375 46.390625 \nQ 20.953125 51.265625 25.265625 53.625 \nQ 29.59375 56 35.59375 56 \nQ 45.5625 56 51.78125 48.09375 \nQ 58.015625 40.1875 58.015625 27.296875 \nQ 58.015625 14.40625 51.78125 6.484375 \nQ 45.5625 -1.421875 35.59375 -1.421875 \nQ 29.59375 -1.421875 25.265625 0.953125 \nQ 20.953125 3.328125 18.109375 8.203125 \nz\nM 48.6875 27.296875 \nQ 48.6875 37.203125 44.609375 42.84375 \nQ 40.53125 48.484375 33.40625 48.484375 \nQ 26.265625 48.484375 22.1875 42.84375 \nQ 18.109375 37.203125 18.109375 27.296875 \nQ 18.109375 17.390625 22.1875 11.75 \nQ 26.265625 6.109375 33.40625 6.109375 \nQ 40.53125 6.109375 44.609375 11.75 \nQ 48.6875 17.390625 48.6875 27.296875 \nz\n\" id=\"DejaVuSans-112\"/>\n       <path d=\"M 44.28125 53.078125 \nL 44.28125 44.578125 \nQ 40.484375 46.53125 36.375 47.5 \nQ 32.28125 48.484375 27.875 48.484375 \nQ 21.1875 48.484375 17.84375 46.4375 \nQ 14.5 44.390625 14.5 40.28125 \nQ 14.5 37.15625 16.890625 35.375 \nQ 19.28125 33.59375 26.515625 31.984375 \nL 29.59375 31.296875 \nQ 39.15625 29.25 43.1875 25.515625 \nQ 47.21875 21.78125 47.21875 15.09375 \nQ 47.21875 7.46875 41.1875 3.015625 \nQ 35.15625 -1.421875 24.609375 -1.421875 \nQ 20.21875 -1.421875 15.453125 -0.5625 \nQ 10.6875 0.296875 5.421875 2 \nL 5.421875 11.28125 \nQ 10.40625 8.6875 15.234375 7.390625 \nQ 20.0625 6.109375 24.8125 6.109375 \nQ 31.15625 6.109375 34.5625 8.28125 \nQ 37.984375 10.453125 37.984375 14.40625 \nQ 37.984375 18.0625 35.515625 20.015625 \nQ 33.0625 21.96875 24.703125 23.78125 \nL 21.578125 24.515625 \nQ 13.234375 26.265625 9.515625 29.90625 \nQ 5.8125 33.546875 5.8125 39.890625 \nQ 5.8125 47.609375 11.28125 51.796875 \nQ 16.75 56 26.8125 56 \nQ 31.78125 56 36.171875 55.265625 \nQ 40.578125 54.546875 44.28125 53.078125 \nz\n\" id=\"DejaVuSans-115\"/>\n      </defs>\n      <use xlink:href=\"#DejaVuSans-83\"/>\n      <use x=\"63.476562\" xlink:href=\"#DejaVuSans-97\"/>\n      <use x=\"124.755859\" xlink:href=\"#DejaVuSans-109\"/>\n      <use x=\"222.167969\" xlink:href=\"#DejaVuSans-112\"/>\n      <use x=\"285.644531\" xlink:href=\"#DejaVuSans-108\"/>\n      <use x=\"313.427734\" xlink:href=\"#DejaVuSans-101\"/>\n      <use x=\"374.951172\" xlink:href=\"#DejaVuSans-115\"/>\n     </g>\n    </g>\n   </g>\n  </g>\n  <g id=\"axes_2\">\n   <g id=\"patch_8\">\n    <path d=\"M 296.595772 307.5555 \nL 526.360478 307.5555 \nL 526.360478 35.7555 \nL 296.595772 35.7555 \nz\n\" style=\"fill:#ffffff;\"/>\n   </g>\n   <g id=\"PathCollection_3\">\n    <g clip-path=\"url(#p6107610f48)\">\n     <use style=\"fill:#1f77b4;stroke:#0000ff;\" x=\"301.241246\" xlink:href=\"#mf0e4e57b72\" y=\"98.139838\"/>\n     <use style=\"fill:#1f77b4;stroke:#0000ff;\" x=\"312.917351\" xlink:href=\"#mf0e4e57b72\" y=\"112.520237\"/>\n     <use style=\"fill:#1f77b4;stroke:#0000ff;\" x=\"316.61501\" xlink:href=\"#mf0e4e57b72\" y=\"93.930071\"/>\n     <use style=\"fill:#1f77b4;stroke:#0000ff;\" x=\"323.771061\" xlink:href=\"#mf0e4e57b72\" y=\"123.871666\"/>\n     <use style=\"fill:#1f77b4;stroke:#0000ff;\" x=\"329.533298\" xlink:href=\"#mf0e4e57b72\" y=\"118.31832\"/>\n     <use style=\"fill:#1f77b4;stroke:#0000ff;\" x=\"384.6971\" xlink:href=\"#mf0e4e57b72\" y=\"188.823709\"/>\n     <use style=\"fill:#1f77b4;stroke:#0000ff;\" x=\"391.870451\" xlink:href=\"#mf0e4e57b72\" y=\"186.64939\"/>\n     <use style=\"fill:#1f77b4;stroke:#0000ff;\" x=\"393.936692\" xlink:href=\"#mf0e4e57b72\" y=\"189.727392\"/>\n     <use style=\"fill:#1f77b4;stroke:#0000ff;\" x=\"397.137869\" xlink:href=\"#mf0e4e57b72\" y=\"202.658666\"/>\n     <use style=\"fill:#1f77b4;stroke:#0000ff;\" x=\"402.627442\" xlink:href=\"#mf0e4e57b72\" y=\"207.67031\"/>\n     <use style=\"fill:#1f77b4;stroke:#0000ff;\" x=\"416.498098\" xlink:href=\"#mf0e4e57b72\" y=\"230.419645\"/>\n     <use style=\"fill:#1f77b4;stroke:#0000ff;\" x=\"418.117158\" xlink:href=\"#mf0e4e57b72\" y=\"239.240387\"/>\n     <use style=\"fill:#1f77b4;stroke:#0000ff;\" x=\"421.790696\" xlink:href=\"#mf0e4e57b72\" y=\"231.083621\"/>\n     <use style=\"fill:#1f77b4;stroke:#0000ff;\" x=\"422.693745\" xlink:href=\"#mf0e4e57b72\" y=\"228.330594\"/>\n     <use style=\"fill:#1f77b4;stroke:#0000ff;\" x=\"427.112364\" xlink:href=\"#mf0e4e57b72\" y=\"224.038596\"/>\n     <use style=\"fill:#1f77b4;stroke:#0000ff;\" x=\"435.089522\" xlink:href=\"#mf0e4e57b72\" y=\"228.377566\"/>\n     <use style=\"fill:#1f77b4;stroke:#0000ff;\" x=\"443.627037\" xlink:href=\"#mf0e4e57b72\" y=\"241.698405\"/>\n     <use style=\"fill:#1f77b4;stroke:#0000ff;\" x=\"444.999443\" xlink:href=\"#mf0e4e57b72\" y=\"241.334354\"/>\n     <use style=\"fill:#1f77b4;stroke:#0000ff;\" x=\"460.921046\" xlink:href=\"#mf0e4e57b72\" y=\"244.961781\"/>\n     <use style=\"fill:#1f77b4;stroke:#0000ff;\" x=\"475.388729\" xlink:href=\"#mf0e4e57b72\" y=\"240.090179\"/>\n     <use style=\"fill:#1f77b4;stroke:#0000ff;\" x=\"475.933829\" xlink:href=\"#mf0e4e57b72\" y=\"241.65059\"/>\n     <use style=\"fill:#1f77b4;stroke:#0000ff;\" x=\"478.506243\" xlink:href=\"#mf0e4e57b72\" y=\"214.887955\"/>\n     <use style=\"fill:#1f77b4;stroke:#0000ff;\" x=\"480.214205\" xlink:href=\"#mf0e4e57b72\" y=\"230.249228\"/>\n     <use style=\"fill:#1f77b4;stroke:#0000ff;\" x=\"487.902426\" xlink:href=\"#mf0e4e57b72\" y=\"222.841397\"/>\n     <use style=\"fill:#1f77b4;stroke:#0000ff;\" x=\"496.493857\" xlink:href=\"#mf0e4e57b72\" y=\"219.236669\"/>\n     <use style=\"fill:#1f77b4;stroke:#0000ff;\" x=\"501.493733\" xlink:href=\"#mf0e4e57b72\" y=\"199.544555\"/>\n     <use style=\"fill:#1f77b4;stroke:#0000ff;\" x=\"509.265211\" xlink:href=\"#mf0e4e57b72\" y=\"205.961258\"/>\n     <use style=\"fill:#1f77b4;stroke:#0000ff;\" x=\"513.647348\" xlink:href=\"#mf0e4e57b72\" y=\"190.618386\"/>\n     <use style=\"fill:#1f77b4;stroke:#0000ff;\" x=\"518.011463\" xlink:href=\"#mf0e4e57b72\" y=\"189.31885\"/>\n     <use style=\"fill:#1f77b4;stroke:#0000ff;\" x=\"521.447728\" xlink:href=\"#mf0e4e57b72\" y=\"175.861472\"/>\n    </g>\n   </g>\n   <g id=\"matplotlib.axis_3\">\n    <g id=\"text_7\">\n     <!-- x -->\n     <g transform=\"translate(408.51875 319.153937)scale(0.1 -0.1)\">\n      <use xlink:href=\"#DejaVuSans-120\"/>\n     </g>\n    </g>\n   </g>\n   <g id=\"matplotlib.axis_4\">\n    <g id=\"text_8\">\n     <!-- y -->\n     <g transform=\"translate(290.516085 174.614875)rotate(-90)scale(0.1 -0.1)\">\n      <use xlink:href=\"#DejaVuSans-121\"/>\n     </g>\n    </g>\n   </g>\n   <g id=\"line2d_7\">\n    <path clip-path=\"url(#p6107610f48)\" d=\"M 296.595772 102.003536 \nL 298.916628 101.713694 \nL 301.237483 101.669717 \nL 303.558339 101.861469 \nL 305.879195 102.278948 \nL 308.20005 102.91228 \nL 310.520906 103.751726 \nL 312.841761 104.787674 \nL 315.162617 106.010646 \nL 317.483473 107.411292 \nL 319.804328 108.980395 \nL 322.125184 110.708869 \nL 324.446039 112.587759 \nL 326.766895 114.608239 \nL 329.087751 116.761617 \nL 331.408606 119.039328 \nL 333.729462 121.432943 \nL 336.050318 123.934159 \nL 338.371173 126.534807 \nL 340.692029 129.226848 \nL 343.012884 132.002375 \nL 345.33374 134.853609 \nL 347.654596 137.772906 \nL 349.975451 140.752751 \nL 352.296307 143.785758 \nL 354.617162 146.864675 \nL 356.938018 149.98238 \nL 359.258874 153.131882 \nL 361.579729 156.306319 \nL 363.900585 159.498964 \nL 366.221441 162.703217 \nL 368.542296 165.912612 \nL 370.863152 169.120811 \nL 373.184007 172.321609 \nL 375.504863 175.508932 \nL 377.825719 178.676836 \nL 380.146574 181.819508 \nL 382.46743 184.931267 \nL 384.788285 188.006561 \nL 387.109141 191.039972 \nL 389.429997 194.02621 \nL 391.750852 196.960118 \nL 394.071708 199.836668 \nL 396.392564 202.650965 \nL 398.713419 205.398243 \nL 401.034275 208.073869 \nL 403.35513 210.673339 \nL 405.675986 213.192281 \nL 407.996842 215.626454 \nL 410.317697 217.971748 \nL 412.638553 220.224183 \nL 414.959408 222.379912 \nL 417.280264 224.435217 \nL 419.60112 226.38651 \nL 421.921975 228.230338 \nL 424.242831 229.963375 \nL 426.563686 231.582428 \nL 428.884542 233.084434 \nL 431.205398 234.466462 \nL 433.526253 235.72571 \nL 435.847109 236.85951 \nL 438.167965 237.865321 \nL 440.48882 238.740738 \nL 442.809676 239.483482 \nL 445.130531 240.091407 \nL 447.451387 240.5625 \nL 449.772243 240.894875 \nL 452.093098 241.08678 \nL 454.413954 241.136592 \nL 456.734809 241.04282 \nL 459.055665 240.804105 \nL 461.376521 240.419217 \nL 463.697376 239.887057 \nL 466.018232 239.206658 \nL 468.339088 238.377185 \nL 470.659943 237.397931 \nL 472.980799 236.268322 \nL 475.301654 234.987914 \nL 477.62251 233.556395 \nL 479.943366 231.973584 \nL 482.264221 230.239429 \nL 484.585077 228.354011 \nL 486.905932 226.317542 \nL 489.226788 224.130363 \nL 491.547644 221.792947 \nL 493.868499 219.305899 \nL 496.189355 216.669954 \nL 498.510211 213.885977 \nL 500.831066 210.954966 \nL 503.151922 207.878049 \nL 505.472777 204.656485 \nL 507.793633 201.291663 \nL 510.114489 197.785104 \nL 512.435344 194.13846 \nL 514.7562 190.353513 \nL 517.077055 186.432178 \nL 519.397911 182.376499 \nL 521.718767 178.188652 \nL 524.039622 173.870942 \nL 526.360478 169.425808 \n\" style=\"fill:none;stroke:#1f77b4;stroke-linecap:square;stroke-width:1.5;\"/>\n   </g>\n   <g id=\"line2d_8\">\n    <path clip-path=\"url(#p6107610f48)\" d=\"M 296.595772 103.7055 \nL 298.916628 103.782464 \nL 301.237483 104.013183 \nL 303.558339 104.397133 \nL 305.879195 104.933445 \nL 308.20005 105.620904 \nL 310.520906 106.457952 \nL 312.841761 107.442694 \nL 315.162617 108.572899 \nL 317.483473 109.846006 \nL 319.804328 111.259131 \nL 322.125184 112.809074 \nL 324.446039 114.492322 \nL 326.766895 116.305064 \nL 329.087751 118.243192 \nL 331.408606 120.302316 \nL 333.729462 122.477772 \nL 336.050318 124.764631 \nL 338.371173 127.157713 \nL 340.692029 129.651597 \nL 343.012884 132.240633 \nL 345.33374 134.918956 \nL 347.654596 137.6805 \nL 349.975451 140.519008 \nL 352.296307 143.42805 \nL 354.617162 146.401036 \nL 356.938018 149.431232 \nL 359.258874 152.511773 \nL 361.579729 155.63568 \nL 363.900585 158.795878 \nL 366.221441 161.985207 \nL 368.542296 165.196442 \nL 370.863152 168.422309 \nL 373.184007 171.6555 \nL 375.504863 174.888691 \nL 377.825719 178.114558 \nL 380.146574 181.325793 \nL 382.46743 184.515122 \nL 384.788285 187.67532 \nL 387.109141 190.799227 \nL 389.429997 193.879768 \nL 391.750852 196.909964 \nL 394.071708 199.88295 \nL 396.392564 202.791992 \nL 398.713419 205.6305 \nL 401.034275 208.392044 \nL 403.35513 211.070367 \nL 405.675986 213.659403 \nL 407.996842 216.153287 \nL 410.317697 218.546369 \nL 412.638553 220.833228 \nL 414.959408 223.008684 \nL 417.280264 225.067808 \nL 419.60112 227.005936 \nL 421.921975 228.818678 \nL 424.242831 230.501926 \nL 426.563686 232.051869 \nL 428.884542 233.464994 \nL 431.205398 234.738101 \nL 433.526253 235.868306 \nL 435.847109 236.853048 \nL 438.167965 237.690096 \nL 440.48882 238.377555 \nL 442.809676 238.913867 \nL 445.130531 239.297817 \nL 447.451387 239.528536 \nL 449.772243 239.6055 \nL 452.093098 239.528536 \nL 454.413954 239.297817 \nL 456.734809 238.913867 \nL 459.055665 238.377555 \nL 461.376521 237.690096 \nL 463.697376 236.853048 \nL 466.018232 235.868306 \nL 468.339088 234.738101 \nL 470.659943 233.464994 \nL 472.980799 232.051869 \nL 475.301654 230.501926 \nL 477.62251 228.818678 \nL 479.943366 227.005936 \nL 482.264221 225.067808 \nL 484.585077 223.008684 \nL 486.905932 220.833228 \nL 489.226788 218.546369 \nL 491.547644 216.153287 \nL 493.868499 213.659403 \nL 496.189355 211.070367 \nL 498.510211 208.392044 \nL 500.831066 205.6305 \nL 503.151922 202.791992 \nL 505.472777 199.88295 \nL 507.793633 196.909964 \nL 510.114489 193.879768 \nL 512.435344 190.799227 \nL 514.7562 187.67532 \nL 517.077055 184.515122 \nL 519.397911 181.325793 \nL 521.718767 178.114558 \nL 524.039622 174.888691 \nL 526.360478 171.6555 \n\" style=\"fill:none;stroke:#ff7f0e;stroke-linecap:square;stroke-width:1.5;\"/>\n   </g>\n   <g id=\"patch_9\">\n    <path d=\"M 296.595772 307.5555 \nL 296.595772 35.7555 \n\" style=\"fill:none;stroke:#000000;stroke-linecap:square;stroke-linejoin:miter;stroke-width:0.8;\"/>\n   </g>\n   <g id=\"patch_10\">\n    <path d=\"M 526.360478 307.5555 \nL 526.360478 35.7555 \n\" style=\"fill:none;stroke:#000000;stroke-linecap:square;stroke-linejoin:miter;stroke-width:0.8;\"/>\n   </g>\n   <g id=\"patch_11\">\n    <path d=\"M 296.595772 307.5555 \nL 526.360478 307.5555 \n\" style=\"fill:none;stroke:#000000;stroke-linecap:square;stroke-linejoin:miter;stroke-width:0.8;\"/>\n   </g>\n   <g id=\"patch_12\">\n    <path d=\"M 296.595772 35.7555 \nL 526.360478 35.7555 \n\" style=\"fill:none;stroke:#000000;stroke-linecap:square;stroke-linejoin:miter;stroke-width:0.8;\"/>\n   </g>\n   <g id=\"text_9\">\n    <!-- Degree 4 -->\n    <g transform=\"translate(383.9175 16.318125)scale(0.12 -0.12)\">\n     <defs>\n      <path d=\"M 37.796875 64.3125 \nL 12.890625 25.390625 \nL 37.796875 25.390625 \nz\nM 35.203125 72.90625 \nL 47.609375 72.90625 \nL 47.609375 25.390625 \nL 58.015625 25.390625 \nL 58.015625 17.1875 \nL 47.609375 17.1875 \nL 47.609375 0 \nL 37.796875 0 \nL 37.796875 17.1875 \nL 4.890625 17.1875 \nL 4.890625 26.703125 \nz\n\" id=\"DejaVuSans-52\"/>\n     </defs>\n     <use xlink:href=\"#DejaVuSans-68\"/>\n     <use x=\"77.001953\" xlink:href=\"#DejaVuSans-101\"/>\n     <use x=\"138.525391\" xlink:href=\"#DejaVuSans-103\"/>\n     <use x=\"202.001953\" xlink:href=\"#DejaVuSans-114\"/>\n     <use x=\"240.865234\" xlink:href=\"#DejaVuSans-101\"/>\n     <use x=\"302.388672\" xlink:href=\"#DejaVuSans-101\"/>\n     <use x=\"363.912109\" xlink:href=\"#DejaVuSans-32\"/>\n     <use x=\"395.699219\" xlink:href=\"#DejaVuSans-52\"/>\n    </g>\n    <!-- MSE = 2.97e-03) -->\n    <g transform=\"translate(360.6675 29.7555)scale(0.12 -0.12)\">\n     <defs>\n      <path d=\"M 10.984375 1.515625 \nL 10.984375 10.5 \nQ 14.703125 8.734375 18.5 7.8125 \nQ 22.3125 6.890625 25.984375 6.890625 \nQ 35.75 6.890625 40.890625 13.453125 \nQ 46.046875 20.015625 46.78125 33.40625 \nQ 43.953125 29.203125 39.59375 26.953125 \nQ 35.25 24.703125 29.984375 24.703125 \nQ 19.046875 24.703125 12.671875 31.3125 \nQ 6.296875 37.9375 6.296875 49.421875 \nQ 6.296875 60.640625 12.9375 67.421875 \nQ 19.578125 74.21875 30.609375 74.21875 \nQ 43.265625 74.21875 49.921875 64.515625 \nQ 56.59375 54.828125 56.59375 36.375 \nQ 56.59375 19.140625 48.40625 8.859375 \nQ 40.234375 -1.421875 26.421875 -1.421875 \nQ 22.703125 -1.421875 18.890625 -0.6875 \nQ 15.09375 0.046875 10.984375 1.515625 \nz\nM 30.609375 32.421875 \nQ 37.25 32.421875 41.125 36.953125 \nQ 45.015625 41.5 45.015625 49.421875 \nQ 45.015625 57.28125 41.125 61.84375 \nQ 37.25 66.40625 30.609375 66.40625 \nQ 23.96875 66.40625 20.09375 61.84375 \nQ 16.21875 57.28125 16.21875 49.421875 \nQ 16.21875 41.5 20.09375 36.953125 \nQ 23.96875 32.421875 30.609375 32.421875 \nz\n\" id=\"DejaVuSans-57\"/>\n      <path d=\"M 8.203125 72.90625 \nL 55.078125 72.90625 \nL 55.078125 68.703125 \nL 28.609375 0 \nL 18.3125 0 \nL 43.21875 64.59375 \nL 8.203125 64.59375 \nz\n\" id=\"DejaVuSans-55\"/>\n      <path d=\"M 40.578125 39.3125 \nQ 47.65625 37.796875 51.625 33 \nQ 55.609375 28.21875 55.609375 21.1875 \nQ 55.609375 10.40625 48.1875 4.484375 \nQ 40.765625 -1.421875 27.09375 -1.421875 \nQ 22.515625 -1.421875 17.65625 -0.515625 \nQ 12.796875 0.390625 7.625 2.203125 \nL 7.625 11.71875 \nQ 11.71875 9.328125 16.59375 8.109375 \nQ 21.484375 6.890625 26.8125 6.890625 \nQ 36.078125 6.890625 40.9375 10.546875 \nQ 45.796875 14.203125 45.796875 21.1875 \nQ 45.796875 27.640625 41.28125 31.265625 \nQ 36.765625 34.90625 28.71875 34.90625 \nL 20.21875 34.90625 \nL 20.21875 43.015625 \nL 29.109375 43.015625 \nQ 36.375 43.015625 40.234375 45.921875 \nQ 44.09375 48.828125 44.09375 54.296875 \nQ 44.09375 59.90625 40.109375 62.90625 \nQ 36.140625 65.921875 28.71875 65.921875 \nQ 24.65625 65.921875 20.015625 65.03125 \nQ 15.375 64.15625 9.8125 62.3125 \nL 9.8125 71.09375 \nQ 15.4375 72.65625 20.34375 73.4375 \nQ 25.25 74.21875 29.59375 74.21875 \nQ 40.828125 74.21875 47.359375 69.109375 \nQ 53.90625 64.015625 53.90625 55.328125 \nQ 53.90625 49.265625 50.4375 45.09375 \nQ 46.96875 40.921875 40.578125 39.3125 \nz\n\" id=\"DejaVuSans-51\"/>\n     </defs>\n     <use xlink:href=\"#DejaVuSans-77\"/>\n     <use x=\"86.279297\" xlink:href=\"#DejaVuSans-83\"/>\n     <use x=\"149.755859\" xlink:href=\"#DejaVuSans-69\"/>\n     <use x=\"212.939453\" xlink:href=\"#DejaVuSans-32\"/>\n     <use x=\"244.726562\" xlink:href=\"#DejaVuSans-61\"/>\n     <use x=\"328.515625\" xlink:href=\"#DejaVuSans-32\"/>\n     <use x=\"360.302734\" xlink:href=\"#DejaVuSans-50\"/>\n     <use x=\"423.925781\" xlink:href=\"#DejaVuSans-46\"/>\n     <use x=\"455.712891\" xlink:href=\"#DejaVuSans-57\"/>\n     <use x=\"519.335938\" xlink:href=\"#DejaVuSans-55\"/>\n     <use x=\"582.958984\" xlink:href=\"#DejaVuSans-101\"/>\n     <use x=\"644.482422\" xlink:href=\"#DejaVuSans-45\"/>\n     <use x=\"680.566406\" xlink:href=\"#DejaVuSans-48\"/>\n     <use x=\"744.189453\" xlink:href=\"#DejaVuSans-51\"/>\n     <use x=\"807.8125\" xlink:href=\"#DejaVuSans-41\"/>\n    </g>\n   </g>\n   <g id=\"legend_2\">\n    <g id=\"patch_13\">\n     <path d=\"M 422.09954 87.789875 \nL 519.360478 87.789875 \nQ 521.360478 87.789875 521.360478 85.789875 \nL 521.360478 42.7555 \nQ 521.360478 40.7555 519.360478 40.7555 \nL 422.09954 40.7555 \nQ 420.09954 40.7555 420.09954 42.7555 \nL 420.09954 85.789875 \nQ 420.09954 87.789875 422.09954 87.789875 \nz\n\" style=\"fill:#ffffff;opacity:0.8;stroke:#cccccc;stroke-linejoin:miter;\"/>\n    </g>\n    <g id=\"line2d_9\">\n     <path d=\"M 424.09954 48.853937 \nL 444.09954 48.853937 \n\" style=\"fill:none;stroke:#1f77b4;stroke-linecap:square;stroke-width:1.5;\"/>\n    </g>\n    <g id=\"line2d_10\"/>\n    <g id=\"text_10\">\n     <!-- Model -->\n     <g transform=\"translate(452.09954 52.353937)scale(0.1 -0.1)\">\n      <use xlink:href=\"#DejaVuSans-77\"/>\n      <use x=\"86.279297\" xlink:href=\"#DejaVuSans-111\"/>\n      <use x=\"147.460938\" xlink:href=\"#DejaVuSans-100\"/>\n      <use x=\"210.9375\" xlink:href=\"#DejaVuSans-101\"/>\n      <use x=\"272.460938\" xlink:href=\"#DejaVuSans-108\"/>\n     </g>\n    </g>\n    <g id=\"line2d_11\">\n     <path d=\"M 424.09954 63.532062 \nL 444.09954 63.532062 \n\" style=\"fill:none;stroke:#ff7f0e;stroke-linecap:square;stroke-width:1.5;\"/>\n    </g>\n    <g id=\"line2d_12\"/>\n    <g id=\"text_11\">\n     <!-- True function -->\n     <g transform=\"translate(452.09954 67.032062)scale(0.1 -0.1)\">\n      <use xlink:href=\"#DejaVuSans-84\"/>\n      <use x=\"46.333984\" xlink:href=\"#DejaVuSans-114\"/>\n      <use x=\"87.447266\" xlink:href=\"#DejaVuSans-117\"/>\n      <use x=\"150.826172\" xlink:href=\"#DejaVuSans-101\"/>\n      <use x=\"212.349609\" xlink:href=\"#DejaVuSans-32\"/>\n      <use x=\"244.136719\" xlink:href=\"#DejaVuSans-102\"/>\n      <use x=\"279.341797\" xlink:href=\"#DejaVuSans-117\"/>\n      <use x=\"342.720703\" xlink:href=\"#DejaVuSans-110\"/>\n      <use x=\"406.099609\" xlink:href=\"#DejaVuSans-99\"/>\n      <use x=\"461.080078\" xlink:href=\"#DejaVuSans-116\"/>\n      <use x=\"500.289062\" xlink:href=\"#DejaVuSans-105\"/>\n      <use x=\"528.072266\" xlink:href=\"#DejaVuSans-111\"/>\n      <use x=\"589.253906\" xlink:href=\"#DejaVuSans-110\"/>\n     </g>\n    </g>\n    <g id=\"PathCollection_4\">\n     <g>\n      <use style=\"fill:#1f77b4;stroke:#0000ff;\" x=\"434.09954\" xlink:href=\"#mf0e4e57b72\" y=\"79.085187\"/>\n     </g>\n    </g>\n    <g id=\"text_12\">\n     <!-- Samples -->\n     <g transform=\"translate(452.09954 81.710187)scale(0.1 -0.1)\">\n      <use xlink:href=\"#DejaVuSans-83\"/>\n      <use x=\"63.476562\" xlink:href=\"#DejaVuSans-97\"/>\n      <use x=\"124.755859\" xlink:href=\"#DejaVuSans-109\"/>\n      <use x=\"222.167969\" xlink:href=\"#DejaVuSans-112\"/>\n      <use x=\"285.644531\" xlink:href=\"#DejaVuSans-108\"/>\n      <use x=\"313.427734\" xlink:href=\"#DejaVuSans-101\"/>\n      <use x=\"374.951172\" xlink:href=\"#DejaVuSans-115\"/>\n     </g>\n    </g>\n   </g>\n  </g>\n  <g id=\"axes_3\">\n   <g id=\"patch_14\">\n    <path d=\"M 572.313419 307.5555 \nL 802.078125 307.5555 \nL 802.078125 35.7555 \nL 572.313419 35.7555 \nz\n\" style=\"fill:#ffffff;\"/>\n   </g>\n   <g id=\"PathCollection_5\">\n    <g clip-path=\"url(#p52f151fbf6)\">\n     <use style=\"fill:#1f77b4;stroke:#0000ff;\" x=\"576.958893\" xlink:href=\"#mf0e4e57b72\" y=\"98.139838\"/>\n     <use style=\"fill:#1f77b4;stroke:#0000ff;\" x=\"588.634998\" xlink:href=\"#mf0e4e57b72\" y=\"112.520237\"/>\n     <use style=\"fill:#1f77b4;stroke:#0000ff;\" x=\"592.332657\" xlink:href=\"#mf0e4e57b72\" y=\"93.930071\"/>\n     <use style=\"fill:#1f77b4;stroke:#0000ff;\" x=\"599.488708\" xlink:href=\"#mf0e4e57b72\" y=\"123.871666\"/>\n     <use style=\"fill:#1f77b4;stroke:#0000ff;\" x=\"605.250945\" xlink:href=\"#mf0e4e57b72\" y=\"118.31832\"/>\n     <use style=\"fill:#1f77b4;stroke:#0000ff;\" x=\"660.414747\" xlink:href=\"#mf0e4e57b72\" y=\"188.823709\"/>\n     <use style=\"fill:#1f77b4;stroke:#0000ff;\" x=\"667.588098\" xlink:href=\"#mf0e4e57b72\" y=\"186.64939\"/>\n     <use style=\"fill:#1f77b4;stroke:#0000ff;\" x=\"669.654339\" xlink:href=\"#mf0e4e57b72\" y=\"189.727392\"/>\n     <use style=\"fill:#1f77b4;stroke:#0000ff;\" x=\"672.855516\" xlink:href=\"#mf0e4e57b72\" y=\"202.658666\"/>\n     <use style=\"fill:#1f77b4;stroke:#0000ff;\" x=\"678.345089\" xlink:href=\"#mf0e4e57b72\" y=\"207.67031\"/>\n     <use style=\"fill:#1f77b4;stroke:#0000ff;\" x=\"692.215745\" xlink:href=\"#mf0e4e57b72\" y=\"230.419645\"/>\n     <use style=\"fill:#1f77b4;stroke:#0000ff;\" x=\"693.834805\" xlink:href=\"#mf0e4e57b72\" y=\"239.240387\"/>\n     <use style=\"fill:#1f77b4;stroke:#0000ff;\" x=\"697.508343\" xlink:href=\"#mf0e4e57b72\" y=\"231.083621\"/>\n     <use style=\"fill:#1f77b4;stroke:#0000ff;\" x=\"698.411392\" xlink:href=\"#mf0e4e57b72\" y=\"228.330594\"/>\n     <use style=\"fill:#1f77b4;stroke:#0000ff;\" x=\"702.830011\" xlink:href=\"#mf0e4e57b72\" y=\"224.038596\"/>\n     <use style=\"fill:#1f77b4;stroke:#0000ff;\" x=\"710.807169\" xlink:href=\"#mf0e4e57b72\" y=\"228.377566\"/>\n     <use style=\"fill:#1f77b4;stroke:#0000ff;\" x=\"719.344684\" xlink:href=\"#mf0e4e57b72\" y=\"241.698405\"/>\n     <use style=\"fill:#1f77b4;stroke:#0000ff;\" x=\"720.71709\" xlink:href=\"#mf0e4e57b72\" y=\"241.334354\"/>\n     <use style=\"fill:#1f77b4;stroke:#0000ff;\" x=\"736.638694\" xlink:href=\"#mf0e4e57b72\" y=\"244.961781\"/>\n     <use style=\"fill:#1f77b4;stroke:#0000ff;\" x=\"751.106376\" xlink:href=\"#mf0e4e57b72\" y=\"240.090179\"/>\n     <use style=\"fill:#1f77b4;stroke:#0000ff;\" x=\"751.651476\" xlink:href=\"#mf0e4e57b72\" y=\"241.65059\"/>\n     <use style=\"fill:#1f77b4;stroke:#0000ff;\" x=\"754.22389\" xlink:href=\"#mf0e4e57b72\" y=\"214.887955\"/>\n     <use style=\"fill:#1f77b4;stroke:#0000ff;\" x=\"755.931852\" xlink:href=\"#mf0e4e57b72\" y=\"230.249228\"/>\n     <use style=\"fill:#1f77b4;stroke:#0000ff;\" x=\"763.620073\" xlink:href=\"#mf0e4e57b72\" y=\"222.841397\"/>\n     <use style=\"fill:#1f77b4;stroke:#0000ff;\" x=\"772.211504\" xlink:href=\"#mf0e4e57b72\" y=\"219.236669\"/>\n     <use style=\"fill:#1f77b4;stroke:#0000ff;\" x=\"777.21138\" xlink:href=\"#mf0e4e57b72\" y=\"199.544555\"/>\n     <use style=\"fill:#1f77b4;stroke:#0000ff;\" x=\"784.982858\" xlink:href=\"#mf0e4e57b72\" y=\"205.961258\"/>\n     <use style=\"fill:#1f77b4;stroke:#0000ff;\" x=\"789.364995\" xlink:href=\"#mf0e4e57b72\" y=\"190.618386\"/>\n     <use style=\"fill:#1f77b4;stroke:#0000ff;\" x=\"793.72911\" xlink:href=\"#mf0e4e57b72\" y=\"189.31885\"/>\n     <use style=\"fill:#1f77b4;stroke:#0000ff;\" x=\"797.165375\" xlink:href=\"#mf0e4e57b72\" y=\"175.861472\"/>\n    </g>\n   </g>\n   <g id=\"matplotlib.axis_5\">\n    <g id=\"text_13\">\n     <!-- x -->\n     <g transform=\"translate(684.236397 319.153937)scale(0.1 -0.1)\">\n      <use xlink:href=\"#DejaVuSans-120\"/>\n     </g>\n    </g>\n   </g>\n   <g id=\"matplotlib.axis_6\">\n    <g id=\"text_14\">\n     <!-- y -->\n     <g transform=\"translate(566.233732 174.614875)rotate(-90)scale(0.1 -0.1)\">\n      <use xlink:href=\"#DejaVuSans-121\"/>\n     </g>\n    </g>\n   </g>\n   <g id=\"line2d_13\">\n    <path clip-path=\"url(#p52f151fbf6)\" d=\"M 576.623778 -1 \nL 576.95513 97.506439 \nL 579.275986 306.504571 \nL 581.596842 302.683939 \nL 583.917697 230.753354 \nL 586.238553 159.41168 \nL 588.559408 113.494986 \nL 590.880264 94.980123 \nL 593.20112 96.039747 \nL 595.521975 106.584043 \nL 597.842831 118.113866 \nL 600.163686 125.224957 \nL 602.484542 125.722108 \nL 604.805398 120.00784 \nL 607.126253 110.186346 \nL 609.447109 99.1571 \nL 611.767965 89.851877 \nL 614.08882 84.684642 \nL 616.409676 85.227487 \nL 618.730531 92.09103 \nL 621.051387 104.968714 \nL 623.372243 122.796959 \nL 625.693098 143.983338 \nL 628.013954 166.660235 \nL 630.334809 188.929466 \nL 632.655665 209.072598 \nL 634.976521 225.710915 \nL 637.297376 237.907428 \nL 639.618232 245.210489 \nL 641.939088 247.644156 \nL 644.259943 245.654419 \nL 646.580799 240.022827 \nL 648.901654 231.75999 \nL 651.22251 221.991239 \nL 653.543366 211.845534 \nL 655.864221 202.356842 \nL 658.185077 194.384907 \nL 660.505932 188.559819 \nL 662.826788 185.252316 \nL 665.147644 184.569427 \nL 667.468499 186.373106 \nL 669.789355 190.317897 \nL 672.110211 195.90263 \nL 674.431066 202.530482 \nL 676.751922 209.571674 \nL 679.072777 216.42333 \nL 681.393633 222.561776 \nL 683.714489 227.583487 \nL 686.035344 231.232116 \nL 688.3562 233.410313 \nL 690.677055 234.176362 \nL 692.997911 233.72688 \nL 695.318767 232.367871 \nL 697.639622 230.477331 \nL 699.960478 228.46304 \nL 702.281334 226.719585 \nL 704.602189 225.588433 \nL 706.923045 225.324661 \nL 709.2439 226.073163 \nL 711.564756 227.856395 \nL 713.885612 230.574601 \nL 716.206467 234.018401 \nL 718.527323 237.892455 \nL 720.848178 241.847874 \nL 723.169034 245.520253 \nL 725.48989 248.569491 \nL 727.810745 250.717233 \nL 730.131601 251.778021 \nL 732.452457 251.680388 \nL 734.773312 250.475311 \nL 737.094168 248.33014 \nL 739.415023 245.508168 \nL 741.735879 242.335113 \nL 744.056735 239.155692 \nL 746.37759 236.285102 \nL 748.698446 233.961474 \nL 751.019301 232.305617 \nL 753.340157 231.295561 \nL 755.661013 230.761348 \nL 757.981868 230.404515 \nL 760.302724 229.84375 \nL 762.62358 228.684374 \nL 764.944435 226.603317 \nL 767.265291 223.439124 \nL 769.586146 219.26755 \nL 771.907002 214.442186 \nL 774.227858 209.577033 \nL 776.548713 205.450885 \nL 778.869569 202.819852 \nL 781.190424 202.147594 \nL 783.51128 203.289732 \nL 785.832136 205.220837 \nL 788.152991 205.965673 \nL 790.473847 202.994234 \nL 792.794703 194.496596 \nL 795.115558 182.120678 \nL 797.436414 176.032384 \nL 799.757269 203.459773 \nL 802.078125 322.318617 \n\" style=\"fill:none;stroke:#1f77b4;stroke-linecap:square;stroke-width:1.5;\"/>\n   </g>\n   <g id=\"line2d_14\">\n    <path clip-path=\"url(#p52f151fbf6)\" d=\"M 572.313419 103.7055 \nL 574.634275 103.782464 \nL 576.95513 104.013183 \nL 579.275986 104.397133 \nL 581.596842 104.933445 \nL 583.917697 105.620904 \nL 586.238553 106.457952 \nL 588.559408 107.442694 \nL 590.880264 108.572899 \nL 593.20112 109.846006 \nL 595.521975 111.259131 \nL 597.842831 112.809074 \nL 600.163686 114.492322 \nL 602.484542 116.305064 \nL 604.805398 118.243192 \nL 607.126253 120.302316 \nL 609.447109 122.477772 \nL 611.767965 124.764631 \nL 614.08882 127.157713 \nL 616.409676 129.651597 \nL 618.730531 132.240633 \nL 621.051387 134.918956 \nL 623.372243 137.6805 \nL 625.693098 140.519008 \nL 628.013954 143.42805 \nL 630.334809 146.401036 \nL 632.655665 149.431232 \nL 634.976521 152.511773 \nL 637.297376 155.63568 \nL 639.618232 158.795878 \nL 641.939088 161.985207 \nL 644.259943 165.196442 \nL 646.580799 168.422309 \nL 648.901654 171.6555 \nL 651.22251 174.888691 \nL 653.543366 178.114558 \nL 655.864221 181.325793 \nL 658.185077 184.515122 \nL 660.505932 187.67532 \nL 662.826788 190.799227 \nL 665.147644 193.879768 \nL 667.468499 196.909964 \nL 669.789355 199.88295 \nL 672.110211 202.791992 \nL 674.431066 205.6305 \nL 676.751922 208.392044 \nL 679.072777 211.070367 \nL 681.393633 213.659403 \nL 683.714489 216.153287 \nL 686.035344 218.546369 \nL 688.3562 220.833228 \nL 690.677055 223.008684 \nL 692.997911 225.067808 \nL 695.318767 227.005936 \nL 697.639622 228.818678 \nL 699.960478 230.501926 \nL 702.281334 232.051869 \nL 704.602189 233.464994 \nL 706.923045 234.738101 \nL 709.2439 235.868306 \nL 711.564756 236.853048 \nL 713.885612 237.690096 \nL 716.206467 238.377555 \nL 718.527323 238.913867 \nL 720.848178 239.297817 \nL 723.169034 239.528536 \nL 725.48989 239.6055 \nL 727.810745 239.528536 \nL 730.131601 239.297817 \nL 732.452457 238.913867 \nL 734.773312 238.377555 \nL 737.094168 237.690096 \nL 739.415023 236.853048 \nL 741.735879 235.868306 \nL 744.056735 234.738101 \nL 746.37759 233.464994 \nL 748.698446 232.051869 \nL 751.019301 230.501926 \nL 753.340157 228.818678 \nL 755.661013 227.005936 \nL 757.981868 225.067808 \nL 760.302724 223.008684 \nL 762.62358 220.833228 \nL 764.944435 218.546369 \nL 767.265291 216.153287 \nL 769.586146 213.659403 \nL 771.907002 211.070367 \nL 774.227858 208.392044 \nL 776.548713 205.6305 \nL 778.869569 202.791992 \nL 781.190424 199.88295 \nL 783.51128 196.909964 \nL 785.832136 193.879768 \nL 788.152991 190.799227 \nL 790.473847 187.67532 \nL 792.794703 184.515122 \nL 795.115558 181.325793 \nL 797.436414 178.114558 \nL 799.757269 174.888691 \nL 802.078125 171.6555 \n\" style=\"fill:none;stroke:#ff7f0e;stroke-linecap:square;stroke-width:1.5;\"/>\n   </g>\n   <g id=\"patch_15\">\n    <path d=\"M 572.313419 307.5555 \nL 572.313419 35.7555 \n\" style=\"fill:none;stroke:#000000;stroke-linecap:square;stroke-linejoin:miter;stroke-width:0.8;\"/>\n   </g>\n   <g id=\"patch_16\">\n    <path d=\"M 802.078125 307.5555 \nL 802.078125 35.7555 \n\" style=\"fill:none;stroke:#000000;stroke-linecap:square;stroke-linejoin:miter;stroke-width:0.8;\"/>\n   </g>\n   <g id=\"patch_17\">\n    <path d=\"M 572.313419 307.5555 \nL 802.078125 307.5555 \n\" style=\"fill:none;stroke:#000000;stroke-linecap:square;stroke-linejoin:miter;stroke-width:0.8;\"/>\n   </g>\n   <g id=\"patch_18\">\n    <path d=\"M 572.313419 35.7555 \nL 802.078125 35.7555 \n\" style=\"fill:none;stroke:#000000;stroke-linecap:square;stroke-linejoin:miter;stroke-width:0.8;\"/>\n   </g>\n   <g id=\"text_15\">\n    <!-- Degree 15 -->\n    <g transform=\"translate(655.817647 16.318125)scale(0.12 -0.12)\">\n     <defs>\n      <path d=\"M 10.796875 72.90625 \nL 49.515625 72.90625 \nL 49.515625 64.59375 \nL 19.828125 64.59375 \nL 19.828125 46.734375 \nQ 21.96875 47.46875 24.109375 47.828125 \nQ 26.265625 48.1875 28.421875 48.1875 \nQ 40.625 48.1875 47.75 41.5 \nQ 54.890625 34.8125 54.890625 23.390625 \nQ 54.890625 11.625 47.5625 5.09375 \nQ 40.234375 -1.421875 26.90625 -1.421875 \nQ 22.3125 -1.421875 17.546875 -0.640625 \nQ 12.796875 0.140625 7.71875 1.703125 \nL 7.71875 11.625 \nQ 12.109375 9.234375 16.796875 8.0625 \nQ 21.484375 6.890625 26.703125 6.890625 \nQ 35.15625 6.890625 40.078125 11.328125 \nQ 45.015625 15.765625 45.015625 23.390625 \nQ 45.015625 31 40.078125 35.4375 \nQ 35.15625 39.890625 26.703125 39.890625 \nQ 22.75 39.890625 18.8125 39.015625 \nQ 14.890625 38.140625 10.796875 36.28125 \nz\n\" id=\"DejaVuSans-53\"/>\n     </defs>\n     <use xlink:href=\"#DejaVuSans-68\"/>\n     <use x=\"77.001953\" xlink:href=\"#DejaVuSans-101\"/>\n     <use x=\"138.525391\" xlink:href=\"#DejaVuSans-103\"/>\n     <use x=\"202.001953\" xlink:href=\"#DejaVuSans-114\"/>\n     <use x=\"240.865234\" xlink:href=\"#DejaVuSans-101\"/>\n     <use x=\"302.388672\" xlink:href=\"#DejaVuSans-101\"/>\n     <use x=\"363.912109\" xlink:href=\"#DejaVuSans-32\"/>\n     <use x=\"395.699219\" xlink:href=\"#DejaVuSans-49\"/>\n     <use x=\"459.322266\" xlink:href=\"#DejaVuSans-53\"/>\n    </g>\n    <!-- MSE = 1.09e-02) -->\n    <g transform=\"translate(636.385147 29.7555)scale(0.12 -0.12)\">\n     <use xlink:href=\"#DejaVuSans-77\"/>\n     <use x=\"86.279297\" xlink:href=\"#DejaVuSans-83\"/>\n     <use x=\"149.755859\" xlink:href=\"#DejaVuSans-69\"/>\n     <use x=\"212.939453\" xlink:href=\"#DejaVuSans-32\"/>\n     <use x=\"244.726562\" xlink:href=\"#DejaVuSans-61\"/>\n     <use x=\"328.515625\" xlink:href=\"#DejaVuSans-32\"/>\n     <use x=\"360.302734\" xlink:href=\"#DejaVuSans-49\"/>\n     <use x=\"423.925781\" xlink:href=\"#DejaVuSans-46\"/>\n     <use x=\"455.712891\" xlink:href=\"#DejaVuSans-48\"/>\n     <use x=\"519.335938\" xlink:href=\"#DejaVuSans-57\"/>\n     <use x=\"582.958984\" xlink:href=\"#DejaVuSans-101\"/>\n     <use x=\"644.482422\" xlink:href=\"#DejaVuSans-45\"/>\n     <use x=\"680.566406\" xlink:href=\"#DejaVuSans-48\"/>\n     <use x=\"744.189453\" xlink:href=\"#DejaVuSans-50\"/>\n     <use x=\"807.8125\" xlink:href=\"#DejaVuSans-41\"/>\n    </g>\n   </g>\n   <g id=\"legend_3\">\n    <g id=\"patch_19\">\n     <path d=\"M 697.817188 87.789875 \nL 795.078125 87.789875 \nQ 797.078125 87.789875 797.078125 85.789875 \nL 797.078125 42.7555 \nQ 797.078125 40.7555 795.078125 40.7555 \nL 697.817188 40.7555 \nQ 695.817188 40.7555 695.817188 42.7555 \nL 695.817188 85.789875 \nQ 695.817188 87.789875 697.817188 87.789875 \nz\n\" style=\"fill:#ffffff;opacity:0.8;stroke:#cccccc;stroke-linejoin:miter;\"/>\n    </g>\n    <g id=\"line2d_15\">\n     <path d=\"M 699.817188 48.853937 \nL 719.817188 48.853937 \n\" style=\"fill:none;stroke:#1f77b4;stroke-linecap:square;stroke-width:1.5;\"/>\n    </g>\n    <g id=\"line2d_16\"/>\n    <g id=\"text_16\">\n     <!-- Model -->\n     <g transform=\"translate(727.817188 52.353937)scale(0.1 -0.1)\">\n      <use xlink:href=\"#DejaVuSans-77\"/>\n      <use x=\"86.279297\" xlink:href=\"#DejaVuSans-111\"/>\n      <use x=\"147.460938\" xlink:href=\"#DejaVuSans-100\"/>\n      <use x=\"210.9375\" xlink:href=\"#DejaVuSans-101\"/>\n      <use x=\"272.460938\" xlink:href=\"#DejaVuSans-108\"/>\n     </g>\n    </g>\n    <g id=\"line2d_17\">\n     <path d=\"M 699.817188 63.532062 \nL 719.817188 63.532062 \n\" style=\"fill:none;stroke:#ff7f0e;stroke-linecap:square;stroke-width:1.5;\"/>\n    </g>\n    <g id=\"line2d_18\"/>\n    <g id=\"text_17\">\n     <!-- True function -->\n     <g transform=\"translate(727.817188 67.032062)scale(0.1 -0.1)\">\n      <use xlink:href=\"#DejaVuSans-84\"/>\n      <use x=\"46.333984\" xlink:href=\"#DejaVuSans-114\"/>\n      <use x=\"87.447266\" xlink:href=\"#DejaVuSans-117\"/>\n      <use x=\"150.826172\" xlink:href=\"#DejaVuSans-101\"/>\n      <use x=\"212.349609\" xlink:href=\"#DejaVuSans-32\"/>\n      <use x=\"244.136719\" xlink:href=\"#DejaVuSans-102\"/>\n      <use x=\"279.341797\" xlink:href=\"#DejaVuSans-117\"/>\n      <use x=\"342.720703\" xlink:href=\"#DejaVuSans-110\"/>\n      <use x=\"406.099609\" xlink:href=\"#DejaVuSans-99\"/>\n      <use x=\"461.080078\" xlink:href=\"#DejaVuSans-116\"/>\n      <use x=\"500.289062\" xlink:href=\"#DejaVuSans-105\"/>\n      <use x=\"528.072266\" xlink:href=\"#DejaVuSans-111\"/>\n      <use x=\"589.253906\" xlink:href=\"#DejaVuSans-110\"/>\n     </g>\n    </g>\n    <g id=\"PathCollection_6\">\n     <g>\n      <use style=\"fill:#1f77b4;stroke:#0000ff;\" x=\"709.817188\" xlink:href=\"#mf0e4e57b72\" y=\"79.085187\"/>\n     </g>\n    </g>\n    <g id=\"text_18\">\n     <!-- Samples -->\n     <g transform=\"translate(727.817188 81.710187)scale(0.1 -0.1)\">\n      <use xlink:href=\"#DejaVuSans-83\"/>\n      <use x=\"63.476562\" xlink:href=\"#DejaVuSans-97\"/>\n      <use x=\"124.755859\" xlink:href=\"#DejaVuSans-109\"/>\n      <use x=\"222.167969\" xlink:href=\"#DejaVuSans-112\"/>\n      <use x=\"285.644531\" xlink:href=\"#DejaVuSans-108\"/>\n      <use x=\"313.427734\" xlink:href=\"#DejaVuSans-101\"/>\n      <use x=\"374.951172\" xlink:href=\"#DejaVuSans-115\"/>\n     </g>\n    </g>\n   </g>\n  </g>\n </g>\n <defs>\n  <clipPath id=\"p548717b778\">\n   <rect height=\"271.8\" width=\"229.764706\" x=\"20.878125\" y=\"35.7555\"/>\n  </clipPath>\n  <clipPath id=\"p6107610f48\">\n   <rect height=\"271.8\" width=\"229.764706\" x=\"296.595772\" y=\"35.7555\"/>\n  </clipPath>\n  <clipPath id=\"p52f151fbf6\">\n   <rect height=\"271.8\" width=\"229.764706\" x=\"572.313419\" y=\"35.7555\"/>\n  </clipPath>\n </defs>\n</svg>\n",
      "image/png": "[encoded data removed]"
     },
     "metadata": {}
    }
   ],
   "source": [
    "\n",
    "plt.figure(figsize=(14, 5))\n",
    "for i in range(len(degrees)):\n",
    "    ax = plt.subplot(1, len(degrees), i + 1)\n",
    "    plt.setp(ax, xticks=(), yticks=())\n",
    "\n",
    "    # Define the following object appropriately\n",
    "    polynomial_features = PolynomialFeatures(degrees[i])\n",
    "    \n",
    "    linear_regression = LinearRegression() # we have the model\n",
    "    pipeline = Pipeline([('polynomial_features', polynomial_features), ('linear_regression', linear_regression)])\n",
    "    pipeline.fit(x_train[..., np.newaxis], y_train)\n",
    "\n",
    "    # Evaluate the models using crossvalidation set\n",
    "    # To evaluate the pipeline.\n",
    "    mse_score = metrics.mean_squared_error(y_val, pipeline.predict(x_val[:, np.newaxis]))\n",
    "\n",
    "    print(x_val[:, np.newaxis].shape)\n",
    "    X_test = np.linspace(0, 1, 100)\n",
    "    plt.plot(X_test, pipeline.predict(X_test[:, np.newaxis]), label=\"Model\")\n",
    "    plt.plot(X_test, true_fun(X_test), label=\"True function\")\n",
    "    plt.scatter(X, y, edgecolor='b', s=20, label=\"Samples\")\n",
    "    plt.xlabel(\"x\")\n",
    "    plt.ylabel(\"y\")\n",
    "    plt.xlim((0, 1))\n",
    "    plt.ylim((-2, 2))\n",
    "    plt.legend(loc=\"best\")\n",
    "    plt.title(\"Degree {}\\nMSE = {:.2e})\".format(\n",
    "        degrees[i], mse_score))\n",
    "plt.show()\n",
    "\n",
    "# first one the model is underfitting. last one the model is overfitting\n",
    "# there's noise and it is trying to pass through each node"
   ]
  },
  {
   "cell_type": "code",
   "execution_count": null,
   "metadata": {},
   "outputs": [],
   "source": []
  }
 ],
 "metadata": {
  "kernelspec": {
   "display_name": "Python 3",
   "language": "python",
   "name": "python3"
  },
  "language_info": {
   "codemirror_mode": {
    "name": "ipython",
    "version": 3
   },
   "file_extension": ".py",
   "mimetype": "text/x-python",
   "name": "python",
   "nbconvert_exporter": "python",
   "pygments_lexer": "ipython3",
   "version": "3.8.5-final"
  }
 },
 "nbformat": 4,
 "nbformat_minor": 1
}