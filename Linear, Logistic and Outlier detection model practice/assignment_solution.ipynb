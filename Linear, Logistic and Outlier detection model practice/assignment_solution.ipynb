{
 "cells": [
  {
   "cell_type": "markdown",
   "metadata": {},
   "source": [
    "# Temiloluwa Philip Ojo\n",
    "##  codekagei@gmail.com"
   ]
  },
  {
   "cell_type": "code",
   "execution_count": 1,
   "metadata": {},
   "outputs": [],
   "source": [
    "# Import the necessary package\n",
    "import pandas as pd\n",
    "import numpy as np\n",
    "import matplotlib.pyplot as plt\n",
    "%matplotlib inline\n"
   ]
  },
  {
   "cell_type": "code",
   "execution_count": 2,
   "metadata": {},
   "outputs": [
    {
     "data": {
      "text/html": [
       "<div>\n",
       "<style scoped>\n",
       "    .dataframe tbody tr th:only-of-type {\n",
       "        vertical-align: middle;\n",
       "    }\n",
       "\n",
       "    .dataframe tbody tr th {\n",
       "        vertical-align: top;\n",
       "    }\n",
       "\n",
       "    .dataframe thead th {\n",
       "        text-align: right;\n",
       "    }\n",
       "</style>\n",
       "<table border=\"1\" class=\"dataframe\">\n",
       "  <thead>\n",
       "    <tr style=\"text-align: right;\">\n",
       "      <th></th>\n",
       "      <th>PERCENT_PUB_DATA</th>\n",
       "      <th>ACCESS_TO_PUB_DATA</th>\n",
       "      <th>COUPLING_BETWEEN_OBJECTS</th>\n",
       "      <th>DEPTH</th>\n",
       "      <th>LACK_OF_COHESION_OF_METHODS</th>\n",
       "      <th>NUM_OF_CHILDREN</th>\n",
       "      <th>DEP_ON_CHILD</th>\n",
       "      <th>FAN_IN</th>\n",
       "      <th>RESPONSE_FOR_CLASS</th>\n",
       "      <th>WEIGHTED_METHODS_PER_CLASS</th>\n",
       "      <th>...</th>\n",
       "      <th>sumHALSTEAD_LENGTH</th>\n",
       "      <th>sumHALSTEAD_LEVEL</th>\n",
       "      <th>sumHALSTEAD_PROG_TIME</th>\n",
       "      <th>sumHALSTEAD_VOLUME</th>\n",
       "      <th>sumNUM_OPERANDS</th>\n",
       "      <th>sumNUM_OPERATORS</th>\n",
       "      <th>sumNUM_UNIQUE_OPERANDS</th>\n",
       "      <th>sumNUM_UNIQUE_OPERATORS</th>\n",
       "      <th>sumLOC_TOTAL</th>\n",
       "      <th>NUMDEFECTS</th>\n",
       "    </tr>\n",
       "  </thead>\n",
       "  <tbody>\n",
       "    <tr>\n",
       "      <th>0</th>\n",
       "      <td>NaN</td>\n",
       "      <td>0</td>\n",
       "      <td>24</td>\n",
       "      <td>4</td>\n",
       "      <td>100.0</td>\n",
       "      <td>0</td>\n",
       "      <td>0</td>\n",
       "      <td>2</td>\n",
       "      <td>110.0</td>\n",
       "      <td>73</td>\n",
       "      <td>...</td>\n",
       "      <td>7376</td>\n",
       "      <td>8.39</td>\n",
       "      <td>50969.11</td>\n",
       "      <td>38600.75</td>\n",
       "      <td>2575</td>\n",
       "      <td>4801</td>\n",
       "      <td>1066</td>\n",
       "      <td>832</td>\n",
       "      <td>2828</td>\n",
       "      <td>23</td>\n",
       "    </tr>\n",
       "    <tr>\n",
       "      <th>1</th>\n",
       "      <td>0.0</td>\n",
       "      <td>0</td>\n",
       "      <td>19</td>\n",
       "      <td>4</td>\n",
       "      <td>100.0</td>\n",
       "      <td>0</td>\n",
       "      <td>0</td>\n",
       "      <td>3</td>\n",
       "      <td>78.0</td>\n",
       "      <td>30</td>\n",
       "      <td>...</td>\n",
       "      <td>3350</td>\n",
       "      <td>4.40</td>\n",
       "      <td>22480.91</td>\n",
       "      <td>18081.27</td>\n",
       "      <td>1168</td>\n",
       "      <td>2182</td>\n",
       "      <td>483</td>\n",
       "      <td>336</td>\n",
       "      <td>1221</td>\n",
       "      <td>16</td>\n",
       "    </tr>\n",
       "    <tr>\n",
       "      <th>2</th>\n",
       "      <td>100.0</td>\n",
       "      <td>0</td>\n",
       "      <td>13</td>\n",
       "      <td>1</td>\n",
       "      <td>88.0</td>\n",
       "      <td>0</td>\n",
       "      <td>0</td>\n",
       "      <td>0</td>\n",
       "      <td>99.0</td>\n",
       "      <td>99</td>\n",
       "      <td>...</td>\n",
       "      <td>3377</td>\n",
       "      <td>32.51</td>\n",
       "      <td>7318.61</td>\n",
       "      <td>15736.22</td>\n",
       "      <td>1278</td>\n",
       "      <td>2099</td>\n",
       "      <td>813</td>\n",
       "      <td>608</td>\n",
       "      <td>1522</td>\n",
       "      <td>3</td>\n",
       "    </tr>\n",
       "    <tr>\n",
       "      <th>3</th>\n",
       "      <td>0.0</td>\n",
       "      <td>0</td>\n",
       "      <td>21</td>\n",
       "      <td>4</td>\n",
       "      <td>100.0</td>\n",
       "      <td>0</td>\n",
       "      <td>0</td>\n",
       "      <td>2</td>\n",
       "      <td>68.0</td>\n",
       "      <td>30</td>\n",
       "      <td>...</td>\n",
       "      <td>3745</td>\n",
       "      <td>3.95</td>\n",
       "      <td>22958.05</td>\n",
       "      <td>20114.74</td>\n",
       "      <td>1393</td>\n",
       "      <td>2352</td>\n",
       "      <td>551</td>\n",
       "      <td>333</td>\n",
       "      <td>1408</td>\n",
       "      <td>19</td>\n",
       "    </tr>\n",
       "    <tr>\n",
       "      <th>4</th>\n",
       "      <td>5.0</td>\n",
       "      <td>0</td>\n",
       "      <td>17</td>\n",
       "      <td>2</td>\n",
       "      <td>90.0</td>\n",
       "      <td>0</td>\n",
       "      <td>0</td>\n",
       "      <td>1</td>\n",
       "      <td>69.0</td>\n",
       "      <td>36</td>\n",
       "      <td>...</td>\n",
       "      <td>1412</td>\n",
       "      <td>15.06</td>\n",
       "      <td>5723.73</td>\n",
       "      <td>7030.53</td>\n",
       "      <td>509</td>\n",
       "      <td>903</td>\n",
       "      <td>290</td>\n",
       "      <td>229</td>\n",
       "      <td>504</td>\n",
       "      <td>6</td>\n",
       "    </tr>\n",
       "  </tbody>\n",
       "</table>\n",
       "<p>5 rows × 95 columns</p>\n",
       "</div>"
      ],
      "text/plain": [
       "   PERCENT_PUB_DATA  ACCESS_TO_PUB_DATA  COUPLING_BETWEEN_OBJECTS  DEPTH  \\\n",
       "0               NaN                   0                        24      4   \n",
       "1               0.0                   0                        19      4   \n",
       "2             100.0                   0                        13      1   \n",
       "3               0.0                   0                        21      4   \n",
       "4               5.0                   0                        17      2   \n",
       "\n",
       "   LACK_OF_COHESION_OF_METHODS  NUM_OF_CHILDREN  DEP_ON_CHILD  FAN_IN  \\\n",
       "0                        100.0                0             0       2   \n",
       "1                        100.0                0             0       3   \n",
       "2                         88.0                0             0       0   \n",
       "3                        100.0                0             0       2   \n",
       "4                         90.0                0             0       1   \n",
       "\n",
       "   RESPONSE_FOR_CLASS  WEIGHTED_METHODS_PER_CLASS  ...  sumHALSTEAD_LENGTH  \\\n",
       "0               110.0                          73  ...                7376   \n",
       "1                78.0                          30  ...                3350   \n",
       "2                99.0                          99  ...                3377   \n",
       "3                68.0                          30  ...                3745   \n",
       "4                69.0                          36  ...                1412   \n",
       "\n",
       "   sumHALSTEAD_LEVEL  sumHALSTEAD_PROG_TIME  sumHALSTEAD_VOLUME  \\\n",
       "0               8.39               50969.11            38600.75   \n",
       "1               4.40               22480.91            18081.27   \n",
       "2              32.51                7318.61            15736.22   \n",
       "3               3.95               22958.05            20114.74   \n",
       "4              15.06                5723.73             7030.53   \n",
       "\n",
       "   sumNUM_OPERANDS  sumNUM_OPERATORS  sumNUM_UNIQUE_OPERANDS  \\\n",
       "0             2575              4801                    1066   \n",
       "1             1168              2182                     483   \n",
       "2             1278              2099                     813   \n",
       "3             1393              2352                     551   \n",
       "4              509               903                     290   \n",
       "\n",
       "   sumNUM_UNIQUE_OPERATORS  sumLOC_TOTAL  NUMDEFECTS  \n",
       "0                      832          2828          23  \n",
       "1                      336          1221          16  \n",
       "2                      608          1522           3  \n",
       "3                      333          1408          19  \n",
       "4                      229           504           6  \n",
       "\n",
       "[5 rows x 95 columns]"
      ]
     },
     "execution_count": 2,
     "metadata": {},
     "output_type": "execute_result"
    }
   ],
   "source": [
    "# read the defects data\n",
    "defects_data = pd.read_csv('./defects.csv')\n",
    "defects_data.head()"
   ]
  },
  {
   "cell_type": "code",
   "execution_count": 3,
   "metadata": {},
   "outputs": [
    {
     "name": "stdout",
     "output_type": "stream",
     "text": [
      "This dataset has 145 rows and 95 columns\n",
      "PERCENT_PUB_DATA               float64\n",
      "ACCESS_TO_PUB_DATA               int64\n",
      "COUPLING_BETWEEN_OBJECTS         int64\n",
      "DEPTH                            int64\n",
      "LACK_OF_COHESION_OF_METHODS    float64\n",
      "                                ...   \n",
      "sumNUM_OPERATORS                 int64\n",
      "sumNUM_UNIQUE_OPERANDS           int64\n",
      "sumNUM_UNIQUE_OPERATORS          int64\n",
      "sumLOC_TOTAL                     int64\n",
      "NUMDEFECTS                       int64\n",
      "Length: 95, dtype: object\n"
     ]
    }
   ],
   "source": [
    "# discover the shape\n",
    "\n",
    "print(\"This dataset has {} rows and {} columns\".format(defects_data.shape[0],defects_data.shape[1]))\n",
    "\n",
    "# discover the datatypes\n",
    "print(defects_data.dtypes)"
   ]
  },
  {
   "cell_type": "code",
   "execution_count": 4,
   "metadata": {},
   "outputs": [
    {
     "name": "stdout",
     "output_type": "stream",
     "text": [
      "Number categorical featues: 0\n",
      "Number non-categorical featues: 95\n"
     ]
    }
   ],
   "source": [
    "types = defects_data.dtypes\n",
    "print(\"Number categorical featues:\", sum(types=='object'))\n",
    "print(\"Number non-categorical featues: {}\".format(defects_data.shape[1] - sum(types == 'object')))"
   ]
  },
  {
   "cell_type": "code",
   "execution_count": 5,
   "metadata": {},
   "outputs": [
    {
     "data": {
      "text/html": [
       "<div>\n",
       "<style scoped>\n",
       "    .dataframe tbody tr th:only-of-type {\n",
       "        vertical-align: middle;\n",
       "    }\n",
       "\n",
       "    .dataframe tbody tr th {\n",
       "        vertical-align: top;\n",
       "    }\n",
       "\n",
       "    .dataframe thead th {\n",
       "        text-align: right;\n",
       "    }\n",
       "</style>\n",
       "<table border=\"1\" class=\"dataframe\">\n",
       "  <thead>\n",
       "    <tr style=\"text-align: right;\">\n",
       "      <th></th>\n",
       "      <th>PERCENT_PUB_DATA</th>\n",
       "      <th>ACCESS_TO_PUB_DATA</th>\n",
       "      <th>COUPLING_BETWEEN_OBJECTS</th>\n",
       "      <th>DEPTH</th>\n",
       "      <th>LACK_OF_COHESION_OF_METHODS</th>\n",
       "      <th>NUM_OF_CHILDREN</th>\n",
       "      <th>DEP_ON_CHILD</th>\n",
       "      <th>FAN_IN</th>\n",
       "      <th>RESPONSE_FOR_CLASS</th>\n",
       "      <th>WEIGHTED_METHODS_PER_CLASS</th>\n",
       "      <th>...</th>\n",
       "      <th>sumHALSTEAD_LENGTH</th>\n",
       "      <th>sumHALSTEAD_LEVEL</th>\n",
       "      <th>sumHALSTEAD_PROG_TIME</th>\n",
       "      <th>sumHALSTEAD_VOLUME</th>\n",
       "      <th>sumNUM_OPERANDS</th>\n",
       "      <th>sumNUM_OPERATORS</th>\n",
       "      <th>sumNUM_UNIQUE_OPERANDS</th>\n",
       "      <th>sumNUM_UNIQUE_OPERATORS</th>\n",
       "      <th>sumLOC_TOTAL</th>\n",
       "      <th>NUMDEFECTS</th>\n",
       "    </tr>\n",
       "  </thead>\n",
       "  <tbody>\n",
       "    <tr>\n",
       "      <th>count</th>\n",
       "      <td>144.000000</td>\n",
       "      <td>145.0</td>\n",
       "      <td>145.000000</td>\n",
       "      <td>145.000000</td>\n",
       "      <td>144.000000</td>\n",
       "      <td>145.000000</td>\n",
       "      <td>145.000000</td>\n",
       "      <td>145.000000</td>\n",
       "      <td>144.000000</td>\n",
       "      <td>145.000000</td>\n",
       "      <td>...</td>\n",
       "      <td>145.000000</td>\n",
       "      <td>145.000000</td>\n",
       "      <td>145.000000</td>\n",
       "      <td>145.000000</td>\n",
       "      <td>145.000000</td>\n",
       "      <td>145.000000</td>\n",
       "      <td>145.000000</td>\n",
       "      <td>145.000000</td>\n",
       "      <td>145.000000</td>\n",
       "      <td>145.000000</td>\n",
       "    </tr>\n",
       "    <tr>\n",
       "      <th>mean</th>\n",
       "      <td>14.500000</td>\n",
       "      <td>0.0</td>\n",
       "      <td>8.317241</td>\n",
       "      <td>2.000000</td>\n",
       "      <td>68.506944</td>\n",
       "      <td>0.213793</td>\n",
       "      <td>0.013793</td>\n",
       "      <td>0.634483</td>\n",
       "      <td>34.354167</td>\n",
       "      <td>17.420690</td>\n",
       "      <td>...</td>\n",
       "      <td>724.744828</td>\n",
       "      <td>4.632414</td>\n",
       "      <td>4236.093034</td>\n",
       "      <td>3762.683310</td>\n",
       "      <td>273.234483</td>\n",
       "      <td>451.510345</td>\n",
       "      <td>138.703448</td>\n",
       "      <td>110.986207</td>\n",
       "      <td>296.296552</td>\n",
       "      <td>4.613793</td>\n",
       "    </tr>\n",
       "    <tr>\n",
       "      <th>std</th>\n",
       "      <td>32.624158</td>\n",
       "      <td>0.0</td>\n",
       "      <td>6.376719</td>\n",
       "      <td>1.258306</td>\n",
       "      <td>36.924227</td>\n",
       "      <td>0.699069</td>\n",
       "      <td>0.117036</td>\n",
       "      <td>0.695360</td>\n",
       "      <td>36.328045</td>\n",
       "      <td>17.449001</td>\n",
       "      <td>...</td>\n",
       "      <td>1312.710500</td>\n",
       "      <td>4.678093</td>\n",
       "      <td>11137.125253</td>\n",
       "      <td>7276.130736</td>\n",
       "      <td>504.084429</td>\n",
       "      <td>810.343687</td>\n",
       "      <td>218.425430</td>\n",
       "      <td>161.695959</td>\n",
       "      <td>448.015766</td>\n",
       "      <td>10.858424</td>\n",
       "    </tr>\n",
       "    <tr>\n",
       "      <th>min</th>\n",
       "      <td>0.000000</td>\n",
       "      <td>0.0</td>\n",
       "      <td>0.000000</td>\n",
       "      <td>1.000000</td>\n",
       "      <td>0.000000</td>\n",
       "      <td>0.000000</td>\n",
       "      <td>0.000000</td>\n",
       "      <td>0.000000</td>\n",
       "      <td>0.000000</td>\n",
       "      <td>0.000000</td>\n",
       "      <td>...</td>\n",
       "      <td>0.000000</td>\n",
       "      <td>0.000000</td>\n",
       "      <td>0.000000</td>\n",
       "      <td>0.000000</td>\n",
       "      <td>0.000000</td>\n",
       "      <td>0.000000</td>\n",
       "      <td>0.000000</td>\n",
       "      <td>0.000000</td>\n",
       "      <td>1.000000</td>\n",
       "      <td>0.000000</td>\n",
       "    </tr>\n",
       "    <tr>\n",
       "      <th>25%</th>\n",
       "      <td>0.000000</td>\n",
       "      <td>0.0</td>\n",
       "      <td>3.000000</td>\n",
       "      <td>1.000000</td>\n",
       "      <td>57.250000</td>\n",
       "      <td>0.000000</td>\n",
       "      <td>0.000000</td>\n",
       "      <td>0.000000</td>\n",
       "      <td>10.000000</td>\n",
       "      <td>8.000000</td>\n",
       "      <td>...</td>\n",
       "      <td>48.000000</td>\n",
       "      <td>1.670000</td>\n",
       "      <td>20.620000</td>\n",
       "      <td>139.380000</td>\n",
       "      <td>18.000000</td>\n",
       "      <td>30.000000</td>\n",
       "      <td>18.000000</td>\n",
       "      <td>21.000000</td>\n",
       "      <td>44.000000</td>\n",
       "      <td>0.000000</td>\n",
       "    </tr>\n",
       "    <tr>\n",
       "      <th>50%</th>\n",
       "      <td>0.000000</td>\n",
       "      <td>0.0</td>\n",
       "      <td>8.000000</td>\n",
       "      <td>2.000000</td>\n",
       "      <td>84.000000</td>\n",
       "      <td>0.000000</td>\n",
       "      <td>0.000000</td>\n",
       "      <td>1.000000</td>\n",
       "      <td>27.500000</td>\n",
       "      <td>12.000000</td>\n",
       "      <td>...</td>\n",
       "      <td>372.000000</td>\n",
       "      <td>3.430000</td>\n",
       "      <td>1134.250000</td>\n",
       "      <td>1811.140000</td>\n",
       "      <td>141.000000</td>\n",
       "      <td>235.000000</td>\n",
       "      <td>79.000000</td>\n",
       "      <td>67.000000</td>\n",
       "      <td>162.000000</td>\n",
       "      <td>0.000000</td>\n",
       "    </tr>\n",
       "    <tr>\n",
       "      <th>75%</th>\n",
       "      <td>0.000000</td>\n",
       "      <td>0.0</td>\n",
       "      <td>14.000000</td>\n",
       "      <td>2.000000</td>\n",
       "      <td>96.000000</td>\n",
       "      <td>0.000000</td>\n",
       "      <td>0.000000</td>\n",
       "      <td>1.000000</td>\n",
       "      <td>44.250000</td>\n",
       "      <td>22.000000</td>\n",
       "      <td>...</td>\n",
       "      <td>713.000000</td>\n",
       "      <td>5.600000</td>\n",
       "      <td>3026.060000</td>\n",
       "      <td>3615.790000</td>\n",
       "      <td>261.000000</td>\n",
       "      <td>452.000000</td>\n",
       "      <td>141.000000</td>\n",
       "      <td>123.000000</td>\n",
       "      <td>315.000000</td>\n",
       "      <td>4.000000</td>\n",
       "    </tr>\n",
       "    <tr>\n",
       "      <th>max</th>\n",
       "      <td>100.000000</td>\n",
       "      <td>0.0</td>\n",
       "      <td>24.000000</td>\n",
       "      <td>7.000000</td>\n",
       "      <td>100.000000</td>\n",
       "      <td>5.000000</td>\n",
       "      <td>1.000000</td>\n",
       "      <td>3.000000</td>\n",
       "      <td>222.000000</td>\n",
       "      <td>100.000000</td>\n",
       "      <td>...</td>\n",
       "      <td>11172.000000</td>\n",
       "      <td>32.510000</td>\n",
       "      <td>109659.300000</td>\n",
       "      <td>63240.960000</td>\n",
       "      <td>4439.000000</td>\n",
       "      <td>6733.000000</td>\n",
       "      <td>1820.000000</td>\n",
       "      <td>1383.000000</td>\n",
       "      <td>2883.000000</td>\n",
       "      <td>101.000000</td>\n",
       "    </tr>\n",
       "  </tbody>\n",
       "</table>\n",
       "<p>8 rows × 95 columns</p>\n",
       "</div>"
      ],
      "text/plain": [
       "       PERCENT_PUB_DATA  ACCESS_TO_PUB_DATA  COUPLING_BETWEEN_OBJECTS  \\\n",
       "count        144.000000               145.0                145.000000   \n",
       "mean          14.500000                 0.0                  8.317241   \n",
       "std           32.624158                 0.0                  6.376719   \n",
       "min            0.000000                 0.0                  0.000000   \n",
       "25%            0.000000                 0.0                  3.000000   \n",
       "50%            0.000000                 0.0                  8.000000   \n",
       "75%            0.000000                 0.0                 14.000000   \n",
       "max          100.000000                 0.0                 24.000000   \n",
       "\n",
       "            DEPTH  LACK_OF_COHESION_OF_METHODS  NUM_OF_CHILDREN  DEP_ON_CHILD  \\\n",
       "count  145.000000                   144.000000       145.000000    145.000000   \n",
       "mean     2.000000                    68.506944         0.213793      0.013793   \n",
       "std      1.258306                    36.924227         0.699069      0.117036   \n",
       "min      1.000000                     0.000000         0.000000      0.000000   \n",
       "25%      1.000000                    57.250000         0.000000      0.000000   \n",
       "50%      2.000000                    84.000000         0.000000      0.000000   \n",
       "75%      2.000000                    96.000000         0.000000      0.000000   \n",
       "max      7.000000                   100.000000         5.000000      1.000000   \n",
       "\n",
       "           FAN_IN  RESPONSE_FOR_CLASS  WEIGHTED_METHODS_PER_CLASS  ...  \\\n",
       "count  145.000000          144.000000                  145.000000  ...   \n",
       "mean     0.634483           34.354167                   17.420690  ...   \n",
       "std      0.695360           36.328045                   17.449001  ...   \n",
       "min      0.000000            0.000000                    0.000000  ...   \n",
       "25%      0.000000           10.000000                    8.000000  ...   \n",
       "50%      1.000000           27.500000                   12.000000  ...   \n",
       "75%      1.000000           44.250000                   22.000000  ...   \n",
       "max      3.000000          222.000000                  100.000000  ...   \n",
       "\n",
       "       sumHALSTEAD_LENGTH  sumHALSTEAD_LEVEL  sumHALSTEAD_PROG_TIME  \\\n",
       "count          145.000000         145.000000             145.000000   \n",
       "mean           724.744828           4.632414            4236.093034   \n",
       "std           1312.710500           4.678093           11137.125253   \n",
       "min              0.000000           0.000000               0.000000   \n",
       "25%             48.000000           1.670000              20.620000   \n",
       "50%            372.000000           3.430000            1134.250000   \n",
       "75%            713.000000           5.600000            3026.060000   \n",
       "max          11172.000000          32.510000          109659.300000   \n",
       "\n",
       "       sumHALSTEAD_VOLUME  sumNUM_OPERANDS  sumNUM_OPERATORS  \\\n",
       "count          145.000000       145.000000        145.000000   \n",
       "mean          3762.683310       273.234483        451.510345   \n",
       "std           7276.130736       504.084429        810.343687   \n",
       "min              0.000000         0.000000          0.000000   \n",
       "25%            139.380000        18.000000         30.000000   \n",
       "50%           1811.140000       141.000000        235.000000   \n",
       "75%           3615.790000       261.000000        452.000000   \n",
       "max          63240.960000      4439.000000       6733.000000   \n",
       "\n",
       "       sumNUM_UNIQUE_OPERANDS  sumNUM_UNIQUE_OPERATORS  sumLOC_TOTAL  \\\n",
       "count              145.000000               145.000000    145.000000   \n",
       "mean               138.703448               110.986207    296.296552   \n",
       "std                218.425430               161.695959    448.015766   \n",
       "min                  0.000000                 0.000000      1.000000   \n",
       "25%                 18.000000                21.000000     44.000000   \n",
       "50%                 79.000000                67.000000    162.000000   \n",
       "75%                141.000000               123.000000    315.000000   \n",
       "max               1820.000000              1383.000000   2883.000000   \n",
       "\n",
       "       NUMDEFECTS  \n",
       "count  145.000000  \n",
       "mean     4.613793  \n",
       "std     10.858424  \n",
       "min      0.000000  \n",
       "25%      0.000000  \n",
       "50%      0.000000  \n",
       "75%      4.000000  \n",
       "max    101.000000  \n",
       "\n",
       "[8 rows x 95 columns]"
      ]
     },
     "execution_count": 5,
     "metadata": {},
     "output_type": "execute_result"
    }
   ],
   "source": [
    "# description of the data\n",
    "defects_data.describe()"
   ]
  },
  {
   "cell_type": "code",
   "execution_count": 6,
   "metadata": {},
   "outputs": [
    {
     "name": "stdout",
     "output_type": "stream",
     "text": [
      "True\n",
      "15\n"
     ]
    }
   ],
   "source": [
    "# find missing values\n",
    "print(defects_data.isna().any().any())\n",
    "\n",
    "# find count of missing values\n",
    "print(defects_data.isna().sum().sum())"
   ]
  },
  {
   "cell_type": "code",
   "execution_count": 7,
   "metadata": {},
   "outputs": [
    {
     "data": {
      "text/html": [
       "<div>\n",
       "<style scoped>\n",
       "    .dataframe tbody tr th:only-of-type {\n",
       "        vertical-align: middle;\n",
       "    }\n",
       "\n",
       "    .dataframe tbody tr th {\n",
       "        vertical-align: top;\n",
       "    }\n",
       "\n",
       "    .dataframe thead th {\n",
       "        text-align: right;\n",
       "    }\n",
       "</style>\n",
       "<table border=\"1\" class=\"dataframe\">\n",
       "  <thead>\n",
       "    <tr style=\"text-align: right;\">\n",
       "      <th></th>\n",
       "      <th>PERCENT_PUB_DATA</th>\n",
       "      <th>ACCESS_TO_PUB_DATA</th>\n",
       "      <th>COUPLING_BETWEEN_OBJECTS</th>\n",
       "      <th>DEPTH</th>\n",
       "      <th>LACK_OF_COHESION_OF_METHODS</th>\n",
       "      <th>NUM_OF_CHILDREN</th>\n",
       "      <th>DEP_ON_CHILD</th>\n",
       "      <th>FAN_IN</th>\n",
       "      <th>RESPONSE_FOR_CLASS</th>\n",
       "      <th>WEIGHTED_METHODS_PER_CLASS</th>\n",
       "      <th>...</th>\n",
       "      <th>sumHALSTEAD_ERROR_EST</th>\n",
       "      <th>sumHALSTEAD_LENGTH</th>\n",
       "      <th>sumHALSTEAD_LEVEL</th>\n",
       "      <th>sumHALSTEAD_PROG_TIME</th>\n",
       "      <th>sumHALSTEAD_VOLUME</th>\n",
       "      <th>sumNUM_OPERANDS</th>\n",
       "      <th>sumNUM_OPERATORS</th>\n",
       "      <th>sumNUM_UNIQUE_OPERANDS</th>\n",
       "      <th>sumNUM_UNIQUE_OPERATORS</th>\n",
       "      <th>sumLOC_TOTAL</th>\n",
       "    </tr>\n",
       "  </thead>\n",
       "  <tbody>\n",
       "    <tr>\n",
       "      <th>0</th>\n",
       "      <td>NaN</td>\n",
       "      <td>0</td>\n",
       "      <td>24</td>\n",
       "      <td>4</td>\n",
       "      <td>100.0</td>\n",
       "      <td>0</td>\n",
       "      <td>0</td>\n",
       "      <td>2</td>\n",
       "      <td>110.0</td>\n",
       "      <td>73</td>\n",
       "      <td>...</td>\n",
       "      <td>12.88</td>\n",
       "      <td>7376</td>\n",
       "      <td>8.39</td>\n",
       "      <td>50969.11</td>\n",
       "      <td>38600.75</td>\n",
       "      <td>2575</td>\n",
       "      <td>4801</td>\n",
       "      <td>1066</td>\n",
       "      <td>832</td>\n",
       "      <td>2828</td>\n",
       "    </tr>\n",
       "    <tr>\n",
       "      <th>1</th>\n",
       "      <td>0.0</td>\n",
       "      <td>0</td>\n",
       "      <td>19</td>\n",
       "      <td>4</td>\n",
       "      <td>100.0</td>\n",
       "      <td>0</td>\n",
       "      <td>0</td>\n",
       "      <td>3</td>\n",
       "      <td>78.0</td>\n",
       "      <td>30</td>\n",
       "      <td>...</td>\n",
       "      <td>6.04</td>\n",
       "      <td>3350</td>\n",
       "      <td>4.40</td>\n",
       "      <td>22480.91</td>\n",
       "      <td>18081.27</td>\n",
       "      <td>1168</td>\n",
       "      <td>2182</td>\n",
       "      <td>483</td>\n",
       "      <td>336</td>\n",
       "      <td>1221</td>\n",
       "    </tr>\n",
       "    <tr>\n",
       "      <th>2</th>\n",
       "      <td>100.0</td>\n",
       "      <td>0</td>\n",
       "      <td>13</td>\n",
       "      <td>1</td>\n",
       "      <td>88.0</td>\n",
       "      <td>0</td>\n",
       "      <td>0</td>\n",
       "      <td>0</td>\n",
       "      <td>99.0</td>\n",
       "      <td>99</td>\n",
       "      <td>...</td>\n",
       "      <td>5.14</td>\n",
       "      <td>3377</td>\n",
       "      <td>32.51</td>\n",
       "      <td>7318.61</td>\n",
       "      <td>15736.22</td>\n",
       "      <td>1278</td>\n",
       "      <td>2099</td>\n",
       "      <td>813</td>\n",
       "      <td>608</td>\n",
       "      <td>1522</td>\n",
       "    </tr>\n",
       "    <tr>\n",
       "      <th>3</th>\n",
       "      <td>0.0</td>\n",
       "      <td>0</td>\n",
       "      <td>21</td>\n",
       "      <td>4</td>\n",
       "      <td>100.0</td>\n",
       "      <td>0</td>\n",
       "      <td>0</td>\n",
       "      <td>2</td>\n",
       "      <td>68.0</td>\n",
       "      <td>30</td>\n",
       "      <td>...</td>\n",
       "      <td>6.73</td>\n",
       "      <td>3745</td>\n",
       "      <td>3.95</td>\n",
       "      <td>22958.05</td>\n",
       "      <td>20114.74</td>\n",
       "      <td>1393</td>\n",
       "      <td>2352</td>\n",
       "      <td>551</td>\n",
       "      <td>333</td>\n",
       "      <td>1408</td>\n",
       "    </tr>\n",
       "    <tr>\n",
       "      <th>4</th>\n",
       "      <td>5.0</td>\n",
       "      <td>0</td>\n",
       "      <td>17</td>\n",
       "      <td>2</td>\n",
       "      <td>90.0</td>\n",
       "      <td>0</td>\n",
       "      <td>0</td>\n",
       "      <td>1</td>\n",
       "      <td>69.0</td>\n",
       "      <td>36</td>\n",
       "      <td>...</td>\n",
       "      <td>2.30</td>\n",
       "      <td>1412</td>\n",
       "      <td>15.06</td>\n",
       "      <td>5723.73</td>\n",
       "      <td>7030.53</td>\n",
       "      <td>509</td>\n",
       "      <td>903</td>\n",
       "      <td>290</td>\n",
       "      <td>229</td>\n",
       "      <td>504</td>\n",
       "    </tr>\n",
       "  </tbody>\n",
       "</table>\n",
       "<p>5 rows × 94 columns</p>\n",
       "</div>"
      ],
      "text/plain": [
       "   PERCENT_PUB_DATA  ACCESS_TO_PUB_DATA  COUPLING_BETWEEN_OBJECTS  DEPTH  \\\n",
       "0               NaN                   0                        24      4   \n",
       "1               0.0                   0                        19      4   \n",
       "2             100.0                   0                        13      1   \n",
       "3               0.0                   0                        21      4   \n",
       "4               5.0                   0                        17      2   \n",
       "\n",
       "   LACK_OF_COHESION_OF_METHODS  NUM_OF_CHILDREN  DEP_ON_CHILD  FAN_IN  \\\n",
       "0                        100.0                0             0       2   \n",
       "1                        100.0                0             0       3   \n",
       "2                         88.0                0             0       0   \n",
       "3                        100.0                0             0       2   \n",
       "4                         90.0                0             0       1   \n",
       "\n",
       "   RESPONSE_FOR_CLASS  WEIGHTED_METHODS_PER_CLASS  ...  sumHALSTEAD_ERROR_EST  \\\n",
       "0               110.0                          73  ...                  12.88   \n",
       "1                78.0                          30  ...                   6.04   \n",
       "2                99.0                          99  ...                   5.14   \n",
       "3                68.0                          30  ...                   6.73   \n",
       "4                69.0                          36  ...                   2.30   \n",
       "\n",
       "   sumHALSTEAD_LENGTH  sumHALSTEAD_LEVEL  sumHALSTEAD_PROG_TIME  \\\n",
       "0                7376               8.39               50969.11   \n",
       "1                3350               4.40               22480.91   \n",
       "2                3377              32.51                7318.61   \n",
       "3                3745               3.95               22958.05   \n",
       "4                1412              15.06                5723.73   \n",
       "\n",
       "   sumHALSTEAD_VOLUME  sumNUM_OPERANDS  sumNUM_OPERATORS  \\\n",
       "0            38600.75             2575              4801   \n",
       "1            18081.27             1168              2182   \n",
       "2            15736.22             1278              2099   \n",
       "3            20114.74             1393              2352   \n",
       "4             7030.53              509               903   \n",
       "\n",
       "   sumNUM_UNIQUE_OPERANDS  sumNUM_UNIQUE_OPERATORS  sumLOC_TOTAL  \n",
       "0                    1066                      832          2828  \n",
       "1                     483                      336          1221  \n",
       "2                     813                      608          1522  \n",
       "3                     551                      333          1408  \n",
       "4                     290                      229           504  \n",
       "\n",
       "[5 rows x 94 columns]"
      ]
     },
     "execution_count": 7,
     "metadata": {},
     "output_type": "execute_result"
    }
   ],
   "source": [
    "# store predictors in X variable\n",
    "X = defects_data.loc[:,:'sumLOC_TOTAL']\n",
    "\n",
    "X.head(5)"
   ]
  },
  {
   "cell_type": "code",
   "execution_count": 8,
   "metadata": {},
   "outputs": [],
   "source": [
    "# store outcome/target in y variable\n",
    "y = defects_data['NUMDEFECTS']"
   ]
  },
  {
   "cell_type": "code",
   "execution_count": 9,
   "metadata": {},
   "outputs": [
    {
     "name": "stdout",
     "output_type": "stream",
     "text": [
      "Missing value count before imputation for X 15\n",
      "After Imputing:\n",
      "Missing value count after imputation for X 0\n"
     ]
    }
   ],
   "source": [
    "# imputation of the data\n",
    "from sklearn.impute import SimpleImputer\n",
    "print(\"Missing value count before imputation for X {}\".format(pd.isna(X).sum().sum()))\n",
    "imputer = SimpleImputer(strategy='mean')\n",
    "imputer.fit(X)\n",
    "X = imputer.transform(X)\n",
    "\n",
    "print(\"After Imputing:\")\n",
    "print(\"Missing value count after imputation for X {}\".format(pd.isna(X).sum().sum()))"
   ]
  },
  {
   "cell_type": "code",
   "execution_count": 10,
   "metadata": {},
   "outputs": [],
   "source": [
    "# feature scaling of the data\n",
    "from sklearn.preprocessing import RobustScaler,StandardScaler\n",
    "\n",
    "scaler = RobustScaler()\n",
    "scaler.fit(X)\n",
    "X = scaler.transform(X)"
   ]
  },
  {
   "cell_type": "code",
   "execution_count": 11,
   "metadata": {},
   "outputs": [],
   "source": [
    "# data splitting into train and test set\n",
    "from sklearn.model_selection import train_test_split\n",
    "x_train, x_test, y_train, y_test = train_test_split(X, y, test_size=0.2,random_state=3)"
   ]
  },
  {
   "cell_type": "code",
   "execution_count": 12,
   "metadata": {},
   "outputs": [
    {
     "name": "stdout",
     "output_type": "stream",
     "text": [
      "[-8.92691355e-04  4.31503005e+00 -5.65539776e-01  2.00633786e+00\n",
      " -2.42763341e+00 -6.99902400e-01  4.95756854e+00 -2.97294197e+00\n",
      " -1.63101294e+00  8.84784946e-02  7.01698727e+00  4.36585675e+00\n",
      "  6.46806826e+00 -1.38145254e+00  5.33072115e-01 -5.29985455e+00\n",
      "  4.49867902e+00 -1.12824508e+00 -7.31153853e+00  1.56571370e+01\n",
      " -2.28153879e+02  5.06334859e+02  2.21998646e+01 -3.91991437e-01\n",
      "  2.24951432e+02 -1.50897393e+01 -5.52629643e+00 -6.53188224e+00\n",
      "  1.04393516e+01 -3.05279273e+00  4.60096899e-01 -1.44817831e+01\n",
      " -1.00607442e+02  3.54152534e-01 -5.13753178e+00  1.05061137e+02\n",
      "  7.19191141e+00 -3.23497788e+00 -4.32252966e+01  9.82055854e-02\n",
      "  3.35885475e+01  4.23474204e+00  6.96433310e+01 -3.86143956e+02\n",
      "  1.19449970e+00  6.34633124e+00 -2.39581199e+01  8.26239149e+01\n",
      "  1.79825953e+02  5.92374754e+01 -2.58539843e+01  6.90479080e+01\n",
      "  9.87816123e+00  9.17540892e+01 -1.37849959e-01  7.33542761e-01\n",
      " -6.23101469e+01 -4.82362024e+01 -9.20068840e+00  5.48533146e+01\n",
      " -1.27670749e+01  2.95433117e+01  2.66478027e+05 -4.28544726e+02\n",
      "  5.06724487e+07  5.81533433e-01 -2.66484730e+05  4.92811321e+02\n",
      " -1.92709258e+07 -3.07945183e+07  4.86767584e+01 -2.23305612e+01\n",
      " -2.43533678e+01 -2.40688922e+00  6.85475662e+01 -1.71761689e-01\n",
      "  3.83005584e+00 -1.17229740e+02  6.53452633e+01  2.23570578e+01\n",
      " -3.86994892e+01 -1.59644289e+01 -7.49083441e+01 -8.29072381e+05\n",
      "  4.10587448e+02  7.05854520e+01 -4.48276514e+00  8.29063865e+05\n",
      " -5.46535260e+02  2.14441894e+02 -2.03240784e+01 -5.62670732e+01\n",
      "  5.10932547e+01 -1.33879640e+01]\n",
      "-218153.1062396636\n"
     ]
    }
   ],
   "source": [
    "# model training using linear regression\n",
    "from sklearn.linear_model import LinearRegression\n",
    "defect_model = LinearRegression()\n",
    "\n",
    "defect_model.fit(x_train, y_train)\n",
    "print(defect_model.coef_)\n",
    "print(defect_model.intercept_)"
   ]
  },
  {
   "cell_type": "code",
   "execution_count": 13,
   "metadata": {},
   "outputs": [
    {
     "name": "stdout",
     "output_type": "stream",
     "text": [
      "MAE of the defect model is 19.965639548777634\n",
      "RMSE of the defect model is 62.22970901311948\n",
      "r2_score of the defect model is -90.46268678735615\n"
     ]
    }
   ],
   "source": [
    "# model prediction and evaluating performance using metrics\n",
    "from sklearn.metrics import mean_absolute_error, mean_squared_error, r2_score\n",
    "\n",
    "y_pred = defect_model.predict(x_test)\n",
    "\n",
    "print('MAE of the defect model is', mean_absolute_error(y_test, y_pred))\n",
    "print('RMSE of the defect model is', np.sqrt(mean_squared_error(y_test, y_pred))) \n",
    "print('r2_score of the defect model is', r2_score(y_test, y_pred))"
   ]
  },
  {
   "cell_type": "markdown",
   "metadata": {},
   "source": [
    "### Discussion on model performace\n",
    "\n",
    "A negative r2_score indicates that the trained model is not fitting the data properly. \n",
    "\n",
    "The next step would be to find a way to improve this model using various methods e.g dropping some features, choosing a different model. "
   ]
  },
  {
   "cell_type": "markdown",
   "metadata": {},
   "source": [
    "## An attempt to improve  the model's performance\n",
    "\n",
    "Based on the description of the data, the *ACCESS_TO_PUB_DATA* feature has **std**,**mean**, **min** and **max** valuess of **0**. \n",
    "\n",
    "From the explanation of the feature\n",
    "\n",
    "> ACCESS_TO_PUB_DATA: The amount of times that a class's public and protected data is accessed. In general, lower values indicate greater encapsulation.  It is a measure of encapsulation.\n",
    "\n",
    "This feature can be eliminated as it can be classified as a zero variance predictor. Zero variance predictors could impact the models by\n",
    "\n",
    "1 - causing the model to crash\n",
    "2 - they are guaranteed to have no effect on the model\n",
    "3 - their p-values are usually low in linear regression\n",
    "\n",
    "Lastly, since the feaure description tells us that the class's public and protected data were accessed 0 times, the feature may be dropped to assess if the model prediction improves. "
   ]
  },
  {
   "cell_type": "code",
   "execution_count": 14,
   "metadata": {},
   "outputs": [],
   "source": [
    "X = defects_data.loc[:,:'sumLOC_TOTAL']"
   ]
  },
  {
   "cell_type": "code",
   "execution_count": 15,
   "metadata": {},
   "outputs": [],
   "source": [
    "y = defects_data['NUMDEFECTS']"
   ]
  },
  {
   "cell_type": "code",
   "execution_count": 16,
   "metadata": {
    "scrolled": true
   },
   "outputs": [
    {
     "data": {
      "text/html": [
       "<div>\n",
       "<style scoped>\n",
       "    .dataframe tbody tr th:only-of-type {\n",
       "        vertical-align: middle;\n",
       "    }\n",
       "\n",
       "    .dataframe tbody tr th {\n",
       "        vertical-align: top;\n",
       "    }\n",
       "\n",
       "    .dataframe thead th {\n",
       "        text-align: right;\n",
       "    }\n",
       "</style>\n",
       "<table border=\"1\" class=\"dataframe\">\n",
       "  <thead>\n",
       "    <tr style=\"text-align: right;\">\n",
       "      <th></th>\n",
       "      <th>PERCENT_PUB_DATA</th>\n",
       "      <th>ACCESS_TO_PUB_DATA</th>\n",
       "      <th>COUPLING_BETWEEN_OBJECTS</th>\n",
       "      <th>DEPTH</th>\n",
       "      <th>LACK_OF_COHESION_OF_METHODS</th>\n",
       "      <th>NUM_OF_CHILDREN</th>\n",
       "      <th>DEP_ON_CHILD</th>\n",
       "      <th>FAN_IN</th>\n",
       "      <th>RESPONSE_FOR_CLASS</th>\n",
       "      <th>WEIGHTED_METHODS_PER_CLASS</th>\n",
       "      <th>...</th>\n",
       "      <th>sumHALSTEAD_ERROR_EST</th>\n",
       "      <th>sumHALSTEAD_LENGTH</th>\n",
       "      <th>sumHALSTEAD_LEVEL</th>\n",
       "      <th>sumHALSTEAD_PROG_TIME</th>\n",
       "      <th>sumHALSTEAD_VOLUME</th>\n",
       "      <th>sumNUM_OPERANDS</th>\n",
       "      <th>sumNUM_OPERATORS</th>\n",
       "      <th>sumNUM_UNIQUE_OPERANDS</th>\n",
       "      <th>sumNUM_UNIQUE_OPERATORS</th>\n",
       "      <th>sumLOC_TOTAL</th>\n",
       "    </tr>\n",
       "  </thead>\n",
       "  <tbody>\n",
       "    <tr>\n",
       "      <th>count</th>\n",
       "      <td>144.000000</td>\n",
       "      <td>145.0</td>\n",
       "      <td>145.000000</td>\n",
       "      <td>145.000000</td>\n",
       "      <td>144.000000</td>\n",
       "      <td>145.000000</td>\n",
       "      <td>145.000000</td>\n",
       "      <td>145.000000</td>\n",
       "      <td>144.000000</td>\n",
       "      <td>145.000000</td>\n",
       "      <td>...</td>\n",
       "      <td>145.000000</td>\n",
       "      <td>145.000000</td>\n",
       "      <td>145.000000</td>\n",
       "      <td>145.000000</td>\n",
       "      <td>145.000000</td>\n",
       "      <td>145.000000</td>\n",
       "      <td>145.000000</td>\n",
       "      <td>145.000000</td>\n",
       "      <td>145.000000</td>\n",
       "      <td>145.000000</td>\n",
       "    </tr>\n",
       "    <tr>\n",
       "      <th>mean</th>\n",
       "      <td>14.500000</td>\n",
       "      <td>0.0</td>\n",
       "      <td>8.317241</td>\n",
       "      <td>2.000000</td>\n",
       "      <td>68.506944</td>\n",
       "      <td>0.213793</td>\n",
       "      <td>0.013793</td>\n",
       "      <td>0.634483</td>\n",
       "      <td>34.354167</td>\n",
       "      <td>17.420690</td>\n",
       "      <td>...</td>\n",
       "      <td>1.245724</td>\n",
       "      <td>724.744828</td>\n",
       "      <td>4.632414</td>\n",
       "      <td>4236.093034</td>\n",
       "      <td>3762.683310</td>\n",
       "      <td>273.234483</td>\n",
       "      <td>451.510345</td>\n",
       "      <td>138.703448</td>\n",
       "      <td>110.986207</td>\n",
       "      <td>296.296552</td>\n",
       "    </tr>\n",
       "    <tr>\n",
       "      <th>std</th>\n",
       "      <td>32.624158</td>\n",
       "      <td>0.0</td>\n",
       "      <td>6.376719</td>\n",
       "      <td>1.258306</td>\n",
       "      <td>36.924227</td>\n",
       "      <td>0.699069</td>\n",
       "      <td>0.117036</td>\n",
       "      <td>0.695360</td>\n",
       "      <td>36.328045</td>\n",
       "      <td>17.449001</td>\n",
       "      <td>...</td>\n",
       "      <td>2.421996</td>\n",
       "      <td>1312.710500</td>\n",
       "      <td>4.678093</td>\n",
       "      <td>11137.125253</td>\n",
       "      <td>7276.130736</td>\n",
       "      <td>504.084429</td>\n",
       "      <td>810.343687</td>\n",
       "      <td>218.425430</td>\n",
       "      <td>161.695959</td>\n",
       "      <td>448.015766</td>\n",
       "    </tr>\n",
       "    <tr>\n",
       "      <th>min</th>\n",
       "      <td>0.000000</td>\n",
       "      <td>0.0</td>\n",
       "      <td>0.000000</td>\n",
       "      <td>1.000000</td>\n",
       "      <td>0.000000</td>\n",
       "      <td>0.000000</td>\n",
       "      <td>0.000000</td>\n",
       "      <td>0.000000</td>\n",
       "      <td>0.000000</td>\n",
       "      <td>0.000000</td>\n",
       "      <td>...</td>\n",
       "      <td>0.000000</td>\n",
       "      <td>0.000000</td>\n",
       "      <td>0.000000</td>\n",
       "      <td>0.000000</td>\n",
       "      <td>0.000000</td>\n",
       "      <td>0.000000</td>\n",
       "      <td>0.000000</td>\n",
       "      <td>0.000000</td>\n",
       "      <td>0.000000</td>\n",
       "      <td>1.000000</td>\n",
       "    </tr>\n",
       "    <tr>\n",
       "      <th>25%</th>\n",
       "      <td>0.000000</td>\n",
       "      <td>0.0</td>\n",
       "      <td>3.000000</td>\n",
       "      <td>1.000000</td>\n",
       "      <td>57.250000</td>\n",
       "      <td>0.000000</td>\n",
       "      <td>0.000000</td>\n",
       "      <td>0.000000</td>\n",
       "      <td>10.000000</td>\n",
       "      <td>8.000000</td>\n",
       "      <td>...</td>\n",
       "      <td>0.030000</td>\n",
       "      <td>48.000000</td>\n",
       "      <td>1.670000</td>\n",
       "      <td>20.620000</td>\n",
       "      <td>139.380000</td>\n",
       "      <td>18.000000</td>\n",
       "      <td>30.000000</td>\n",
       "      <td>18.000000</td>\n",
       "      <td>21.000000</td>\n",
       "      <td>44.000000</td>\n",
       "    </tr>\n",
       "    <tr>\n",
       "      <th>50%</th>\n",
       "      <td>0.000000</td>\n",
       "      <td>0.0</td>\n",
       "      <td>8.000000</td>\n",
       "      <td>2.000000</td>\n",
       "      <td>84.000000</td>\n",
       "      <td>0.000000</td>\n",
       "      <td>0.000000</td>\n",
       "      <td>1.000000</td>\n",
       "      <td>27.500000</td>\n",
       "      <td>12.000000</td>\n",
       "      <td>...</td>\n",
       "      <td>0.620000</td>\n",
       "      <td>372.000000</td>\n",
       "      <td>3.430000</td>\n",
       "      <td>1134.250000</td>\n",
       "      <td>1811.140000</td>\n",
       "      <td>141.000000</td>\n",
       "      <td>235.000000</td>\n",
       "      <td>79.000000</td>\n",
       "      <td>67.000000</td>\n",
       "      <td>162.000000</td>\n",
       "    </tr>\n",
       "    <tr>\n",
       "      <th>75%</th>\n",
       "      <td>0.000000</td>\n",
       "      <td>0.0</td>\n",
       "      <td>14.000000</td>\n",
       "      <td>2.000000</td>\n",
       "      <td>96.000000</td>\n",
       "      <td>0.000000</td>\n",
       "      <td>0.000000</td>\n",
       "      <td>1.000000</td>\n",
       "      <td>44.250000</td>\n",
       "      <td>22.000000</td>\n",
       "      <td>...</td>\n",
       "      <td>1.200000</td>\n",
       "      <td>713.000000</td>\n",
       "      <td>5.600000</td>\n",
       "      <td>3026.060000</td>\n",
       "      <td>3615.790000</td>\n",
       "      <td>261.000000</td>\n",
       "      <td>452.000000</td>\n",
       "      <td>141.000000</td>\n",
       "      <td>123.000000</td>\n",
       "      <td>315.000000</td>\n",
       "    </tr>\n",
       "    <tr>\n",
       "      <th>max</th>\n",
       "      <td>100.000000</td>\n",
       "      <td>0.0</td>\n",
       "      <td>24.000000</td>\n",
       "      <td>7.000000</td>\n",
       "      <td>100.000000</td>\n",
       "      <td>5.000000</td>\n",
       "      <td>1.000000</td>\n",
       "      <td>3.000000</td>\n",
       "      <td>222.000000</td>\n",
       "      <td>100.000000</td>\n",
       "      <td>...</td>\n",
       "      <td>21.020000</td>\n",
       "      <td>11172.000000</td>\n",
       "      <td>32.510000</td>\n",
       "      <td>109659.300000</td>\n",
       "      <td>63240.960000</td>\n",
       "      <td>4439.000000</td>\n",
       "      <td>6733.000000</td>\n",
       "      <td>1820.000000</td>\n",
       "      <td>1383.000000</td>\n",
       "      <td>2883.000000</td>\n",
       "    </tr>\n",
       "  </tbody>\n",
       "</table>\n",
       "<p>8 rows × 94 columns</p>\n",
       "</div>"
      ],
      "text/plain": [
       "       PERCENT_PUB_DATA  ACCESS_TO_PUB_DATA  COUPLING_BETWEEN_OBJECTS  \\\n",
       "count        144.000000               145.0                145.000000   \n",
       "mean          14.500000                 0.0                  8.317241   \n",
       "std           32.624158                 0.0                  6.376719   \n",
       "min            0.000000                 0.0                  0.000000   \n",
       "25%            0.000000                 0.0                  3.000000   \n",
       "50%            0.000000                 0.0                  8.000000   \n",
       "75%            0.000000                 0.0                 14.000000   \n",
       "max          100.000000                 0.0                 24.000000   \n",
       "\n",
       "            DEPTH  LACK_OF_COHESION_OF_METHODS  NUM_OF_CHILDREN  DEP_ON_CHILD  \\\n",
       "count  145.000000                   144.000000       145.000000    145.000000   \n",
       "mean     2.000000                    68.506944         0.213793      0.013793   \n",
       "std      1.258306                    36.924227         0.699069      0.117036   \n",
       "min      1.000000                     0.000000         0.000000      0.000000   \n",
       "25%      1.000000                    57.250000         0.000000      0.000000   \n",
       "50%      2.000000                    84.000000         0.000000      0.000000   \n",
       "75%      2.000000                    96.000000         0.000000      0.000000   \n",
       "max      7.000000                   100.000000         5.000000      1.000000   \n",
       "\n",
       "           FAN_IN  RESPONSE_FOR_CLASS  WEIGHTED_METHODS_PER_CLASS  ...  \\\n",
       "count  145.000000          144.000000                  145.000000  ...   \n",
       "mean     0.634483           34.354167                   17.420690  ...   \n",
       "std      0.695360           36.328045                   17.449001  ...   \n",
       "min      0.000000            0.000000                    0.000000  ...   \n",
       "25%      0.000000           10.000000                    8.000000  ...   \n",
       "50%      1.000000           27.500000                   12.000000  ...   \n",
       "75%      1.000000           44.250000                   22.000000  ...   \n",
       "max      3.000000          222.000000                  100.000000  ...   \n",
       "\n",
       "       sumHALSTEAD_ERROR_EST  sumHALSTEAD_LENGTH  sumHALSTEAD_LEVEL  \\\n",
       "count             145.000000          145.000000         145.000000   \n",
       "mean                1.245724          724.744828           4.632414   \n",
       "std                 2.421996         1312.710500           4.678093   \n",
       "min                 0.000000            0.000000           0.000000   \n",
       "25%                 0.030000           48.000000           1.670000   \n",
       "50%                 0.620000          372.000000           3.430000   \n",
       "75%                 1.200000          713.000000           5.600000   \n",
       "max                21.020000        11172.000000          32.510000   \n",
       "\n",
       "       sumHALSTEAD_PROG_TIME  sumHALSTEAD_VOLUME  sumNUM_OPERANDS  \\\n",
       "count             145.000000          145.000000       145.000000   \n",
       "mean             4236.093034         3762.683310       273.234483   \n",
       "std             11137.125253         7276.130736       504.084429   \n",
       "min                 0.000000            0.000000         0.000000   \n",
       "25%                20.620000          139.380000        18.000000   \n",
       "50%              1134.250000         1811.140000       141.000000   \n",
       "75%              3026.060000         3615.790000       261.000000   \n",
       "max            109659.300000        63240.960000      4439.000000   \n",
       "\n",
       "       sumNUM_OPERATORS  sumNUM_UNIQUE_OPERANDS  sumNUM_UNIQUE_OPERATORS  \\\n",
       "count        145.000000              145.000000               145.000000   \n",
       "mean         451.510345              138.703448               110.986207   \n",
       "std          810.343687              218.425430               161.695959   \n",
       "min            0.000000                0.000000                 0.000000   \n",
       "25%           30.000000               18.000000                21.000000   \n",
       "50%          235.000000               79.000000                67.000000   \n",
       "75%          452.000000              141.000000               123.000000   \n",
       "max         6733.000000             1820.000000              1383.000000   \n",
       "\n",
       "       sumLOC_TOTAL  \n",
       "count    145.000000  \n",
       "mean     296.296552  \n",
       "std      448.015766  \n",
       "min        1.000000  \n",
       "25%       44.000000  \n",
       "50%      162.000000  \n",
       "75%      315.000000  \n",
       "max     2883.000000  \n",
       "\n",
       "[8 rows x 94 columns]"
      ]
     },
     "execution_count": 16,
     "metadata": {},
     "output_type": "execute_result"
    }
   ],
   "source": [
    "X.describe()"
   ]
  },
  {
   "cell_type": "code",
   "execution_count": 17,
   "metadata": {},
   "outputs": [
    {
     "data": {
      "text/plain": [
       "0      0\n",
       "1      0\n",
       "2      0\n",
       "3      0\n",
       "4      0\n",
       "      ..\n",
       "140    0\n",
       "141    0\n",
       "142    0\n",
       "143    0\n",
       "144    0\n",
       "Name: ACCESS_TO_PUB_DATA, Length: 145, dtype: int64"
      ]
     },
     "execution_count": 17,
     "metadata": {},
     "output_type": "execute_result"
    }
   ],
   "source": [
    "# dropping of feature\n",
    "dropped_feature =  X.pop('ACCESS_TO_PUB_DATA')\n",
    "\n",
    "dropped_feature"
   ]
  },
  {
   "cell_type": "code",
   "execution_count": 18,
   "metadata": {},
   "outputs": [],
   "source": [
    "# data imputation\n",
    "imputer = SimpleImputer(strategy='mean')\n",
    "imputer.fit(X)\n",
    "X = imputer.transform(X)"
   ]
  },
  {
   "cell_type": "code",
   "execution_count": 19,
   "metadata": {},
   "outputs": [],
   "source": [
    "# feature scaling\n",
    "scaler = RobustScaler()\n",
    "scaler.fit(X)\n",
    "X = scaler.transform(X)"
   ]
  },
  {
   "cell_type": "code",
   "execution_count": 20,
   "metadata": {},
   "outputs": [],
   "source": [
    "# data splitting into train and test set\n",
    "x_train, x_test, y_train, y_test = train_test_split(X, y, test_size=0.2,random_state=3)"
   ]
  },
  {
   "cell_type": "code",
   "execution_count": 21,
   "metadata": {},
   "outputs": [
    {
     "name": "stdout",
     "output_type": "stream",
     "text": [
      "[-8.92691317e-04 -5.65539779e-01  2.00633785e+00 -2.42763340e+00\n",
      " -6.99902397e-01  4.95756858e+00 -2.97294195e+00 -1.63101293e+00\n",
      "  8.84784877e-02 -3.04506935e+00  7.14691602e+00 -3.33123261e+00\n",
      " -2.45936945e+00  4.48795233e+00 -3.10360226e+00 -6.63653954e+00\n",
      " -1.12824506e+00 -7.31153853e+00  1.56571371e+01 -2.28153877e+02\n",
      "  5.06334842e+02  2.21998647e+01 -3.91991438e-01  2.24951431e+02\n",
      " -1.50897395e+01 -5.52629634e+00 -6.53188220e+00  1.04393514e+01\n",
      " -3.05279279e+00  4.60096915e-01 -1.44817832e+01 -1.00607443e+02\n",
      "  3.54152542e-01 -5.13753178e+00  1.05061137e+02  7.19191143e+00\n",
      " -3.23497786e+00 -4.32252969e+01  9.82056018e-02  3.35885476e+01\n",
      "  4.23474198e+00  6.96433299e+01 -3.86143957e+02  1.19449970e+00\n",
      "  6.34633125e+00 -2.39581186e+01  8.26239153e+01  1.79825953e+02\n",
      "  5.92374754e+01 -2.58539843e+01  6.90479083e+01  9.87816130e+00\n",
      "  9.17540894e+01 -1.37849963e-01  7.33542767e-01 -6.23101470e+01\n",
      " -4.82362023e+01 -9.20068844e+00  5.48533144e+01 -1.27670750e+01\n",
      "  2.95433118e+01  2.66478028e+05 -4.28544727e+02  5.06724515e+07\n",
      "  5.81533443e-01 -2.66484731e+05  4.92811322e+02 -1.92709269e+07\n",
      " -3.07945200e+07  4.86767588e+01 -2.23305613e+01 -2.43533679e+01\n",
      " -2.40688921e+00  6.85475661e+01 -1.71761690e-01  3.83005585e+00\n",
      " -1.17229740e+02  6.53452634e+01  2.23570578e+01 -3.86994892e+01\n",
      " -1.59644289e+01 -7.49083441e+01 -8.29072383e+05  4.10587450e+02\n",
      "  6.57951073e+01 -4.48276515e+00  8.29063867e+05 -5.46535262e+02\n",
      "  2.16192352e+02 -1.72841903e+01 -5.62670732e+01  5.10932547e+01\n",
      " -1.33879641e+01]\n",
      "-218153.08942440047\n"
     ]
    }
   ],
   "source": [
    "# model training\n",
    "defect_model = LinearRegression()\n",
    "defect_model.fit(x_train, y_train)\n",
    "print(defect_model.coef_)\n",
    "print(defect_model.intercept_)"
   ]
  },
  {
   "cell_type": "code",
   "execution_count": 22,
   "metadata": {},
   "outputs": [],
   "source": [
    "# model prediction\n",
    "y_pred = defect_model.predict(x_test)"
   ]
  },
  {
   "cell_type": "code",
   "execution_count": 23,
   "metadata": {},
   "outputs": [
    {
     "name": "stdout",
     "output_type": "stream",
     "text": [
      "MAE of the defect model is 19.965639595110932\n",
      "RMSE of the defect model is 62.22970911779472\n",
      "r2_score of the defect model is -90.46268709505095\n"
     ]
    }
   ],
   "source": [
    "print('MAE of the defect model is', mean_absolute_error(y_test, y_pred))\n",
    "print('RMSE of the defect model is', np.sqrt(mean_squared_error(y_test, y_pred)))\n",
    "print('r2_score of the defect model is', r2_score(y_test, y_pred))"
   ]
  },
  {
   "cell_type": "markdown",
   "metadata": {},
   "source": [
    "## Further attempt to improve model's performance by dropping additional features\n",
    "\n",
    "I am dropping features whose standard deviation is == 0 because standard deviation gives\n",
    "a measure of how far each observed value is from the mean. A standard deviation of 0 indicates\n",
    "that the values observed is not far from the mean."
   ]
  },
  {
   "cell_type": "code",
   "execution_count": 24,
   "metadata": {},
   "outputs": [
    {
     "data": {
      "text/plain": [
       "(145, 86)"
      ]
     },
     "execution_count": 24,
     "metadata": {},
     "output_type": "execute_result"
    }
   ],
   "source": [
    "# extracting X features/predictors\n",
    "X = defects_data.loc[:,:'sumLOC_TOTAL']\n",
    "\n",
    "X = X.drop(X.std()[X.std() == 0].index.values,axis=1)\n",
    "\n",
    "X.shape\n"
   ]
  },
  {
   "cell_type": "markdown",
   "metadata": {},
   "source": [
    "**From the printed shape of the data, we have 8 features that have been dropped from the data.**"
   ]
  },
  {
   "cell_type": "code",
   "execution_count": 25,
   "metadata": {},
   "outputs": [],
   "source": [
    "# extracting y outcome/target\n",
    "y = defects_data['NUMDEFECTS']"
   ]
  },
  {
   "cell_type": "code",
   "execution_count": 26,
   "metadata": {},
   "outputs": [],
   "source": [
    "# data imputation\n",
    "imputer.fit(X)\n",
    "X = imputer.transform(X)"
   ]
  },
  {
   "cell_type": "code",
   "execution_count": 27,
   "metadata": {},
   "outputs": [],
   "source": [
    "# feature scaling\n",
    "\n",
    "scaler.fit(X)\n",
    "X = scaler.transform(X)"
   ]
  },
  {
   "cell_type": "code",
   "execution_count": 28,
   "metadata": {},
   "outputs": [],
   "source": [
    "# data splitting into train and test set\n",
    "x_train, x_test, y_train, y_test = train_test_split(X, y, test_size=0.2,random_state=3)"
   ]
  },
  {
   "cell_type": "code",
   "execution_count": 29,
   "metadata": {},
   "outputs": [
    {
     "name": "stdout",
     "output_type": "stream",
     "text": [
      "[-8.92691251e-04 -5.65539787e-01  2.00633785e+00 -2.42763340e+00\n",
      " -6.99902397e-01  4.95756855e+00 -2.97294196e+00 -1.63101294e+00\n",
      "  8.84784939e-02 -1.12824506e+00 -7.31153851e+00  1.56571371e+01\n",
      " -2.28153878e+02  5.06334845e+02  2.21998647e+01 -3.91991439e-01\n",
      "  2.24951432e+02 -1.50897395e+01 -5.52629635e+00 -6.53188220e+00\n",
      "  1.04393514e+01 -3.05279279e+00  4.60096921e-01 -1.44817832e+01\n",
      " -1.00607443e+02  3.54152543e-01 -5.13753179e+00  1.05061137e+02\n",
      "  7.19191144e+00 -3.23497787e+00 -4.32252969e+01  9.82056096e-02\n",
      "  3.35885476e+01  4.23474204e+00  6.96433293e+01 -3.86143957e+02\n",
      "  1.19449970e+00  6.34633123e+00 -2.39581179e+01  8.26239153e+01\n",
      "  1.79825953e+02  5.92374754e+01 -2.58539844e+01  6.90479083e+01\n",
      "  9.87816127e+00  9.17540894e+01 -1.37849963e-01  7.33542771e-01\n",
      " -6.23101471e+01 -4.82362023e+01 -9.20068844e+00  5.48533144e+01\n",
      " -1.27670750e+01  2.95433117e+01  2.66478028e+05 -4.28544726e+02\n",
      "  5.06724516e+07  5.81533440e-01 -2.66484731e+05  4.92811322e+02\n",
      " -1.92709269e+07 -3.07945201e+07  4.86767588e+01 -2.23305612e+01\n",
      " -2.43533679e+01 -2.40688920e+00  6.85475661e+01 -1.71761690e-01\n",
      "  3.83005586e+00 -1.17229740e+02  6.53452634e+01  2.23570578e+01\n",
      " -3.86994892e+01 -1.59644289e+01 -7.49083441e+01 -8.29072383e+05\n",
      "  4.10587450e+02  6.72458181e+01 -4.48276515e+00  8.29063867e+05\n",
      " -5.46535263e+02  2.15662242e+02 -1.82047916e+01 -5.62670732e+01\n",
      "  5.10932547e+01 -1.33879641e+01]\n",
      "-218153.09856969322\n"
     ]
    }
   ],
   "source": [
    "# model training \n",
    "\n",
    "defect_model = LinearRegression()\n",
    "defect_model.fit(x_train, y_train)\n",
    "print(defect_model.coef_)\n",
    "print(defect_model.intercept_)"
   ]
  },
  {
   "cell_type": "code",
   "execution_count": 30,
   "metadata": {},
   "outputs": [
    {
     "name": "stdout",
     "output_type": "stream",
     "text": [
      "MAE of the defect model is 19.96563960168037\n",
      "RMSE of the defect model is 62.22970910348778\n",
      "r2_score of the defect model is -90.46268705299542\n"
     ]
    }
   ],
   "source": [
    "# model prediction and performance evaluation\n",
    "y_pred = defect_model.predict(x_test)\n",
    "print('MAE of the defect model is', mean_absolute_error(y_test, y_pred))\n",
    "print('RMSE of the defect model is', np.sqrt(mean_squared_error(y_test, y_pred)))\n",
    "print('r2_score of the defect model is', r2_score(y_test, y_pred))"
   ]
  },
  {
   "cell_type": "markdown",
   "metadata": {},
   "source": [
    "### Quick Note\n",
    "\n",
    "With no noticeable change in the performance evaluation metrics of the linear regression model after dropping some features, it can be concluded that a linear regression model is not the best fit for the dataset.  "
   ]
  },
  {
   "cell_type": "markdown",
   "metadata": {},
   "source": [
    "## Polynomial regression"
   ]
  },
  {
   "cell_type": "code",
   "execution_count": 31,
   "metadata": {},
   "outputs": [
    {
     "name": "stdout",
     "output_type": "stream",
     "text": [
      "Automatically created module for IPython interactive environment\n"
     ]
    }
   ],
   "source": [
    "# Package importation\n",
    "print(__doc__)\n",
    "from sklearn.pipeline import Pipeline \n",
    "from sklearn.preprocessing import PolynomialFeatures\n",
    "from sklearn.linear_model import LinearRegression"
   ]
  },
  {
   "cell_type": "code",
   "execution_count": 32,
   "metadata": {},
   "outputs": [],
   "source": [
    "# extract X and y \n",
    "X = defects_data.loc[:,:'sumLOC_TOTAL']\n",
    "y = defects_data['NUMDEFECTS']"
   ]
  },
  {
   "cell_type": "code",
   "execution_count": 33,
   "metadata": {},
   "outputs": [],
   "source": [
    "# dropping of some features\n",
    "X = X.drop(X.std()[X.std() == 0].index.values,axis=1)"
   ]
  },
  {
   "cell_type": "code",
   "execution_count": 34,
   "metadata": {},
   "outputs": [],
   "source": [
    "# data imputation\n",
    "imputer.fit(X)\n",
    "X = imputer.transform(X)"
   ]
  },
  {
   "cell_type": "code",
   "execution_count": 35,
   "metadata": {},
   "outputs": [],
   "source": [
    "# feature scaling\n",
    "scaler.fit(X)\n",
    "X = scaler.transform(X)"
   ]
  },
  {
   "cell_type": "code",
   "execution_count": 36,
   "metadata": {},
   "outputs": [],
   "source": [
    "# data splitting into train and test set\n",
    "x_train, x_test, y_train, y_test = train_test_split(X, y, test_size=0.2,random_state=3)"
   ]
  },
  {
   "cell_type": "code",
   "execution_count": 37,
   "metadata": {},
   "outputs": [],
   "source": [
    "# order of polynomials \n",
    "degrees = [2,3,4]"
   ]
  },
  {
   "cell_type": "code",
   "execution_count": 38,
   "metadata": {
    "scrolled": true
   },
   "outputs": [
    {
     "data": {
      "image/png": "[encoded data removed]",
      "text/plain": [
       "<Figure size 1008x360 with 3 Axes>"
      ]
     },
     "metadata": {
      "needs_background": "light"
     },
     "output_type": "display_data"
    }
   ],
   "source": [
    "plt.figure(figsize=(14, 5))\n",
    "\n",
    "x_axis = np.arange(len(y_test))\n",
    "metrics = []\n",
    "test_loss = []\n",
    "train_loss = []\n",
    "\n",
    "for i in range(len(degrees)):\n",
    "    ax = plt.subplot(1, len(degrees), i + 1)\n",
    "\n",
    "#     define a polynomial feature function that takes in the order\n",
    "    polynomial_features = PolynomialFeatures(degrees[i])\n",
    "#     define a linear regression model\n",
    "    linear_regression = LinearRegression()\n",
    "#     pass them both to pipeline\n",
    "    pipeline = Pipeline([('polynomial_features', polynomial_features), ('linear_regression', linear_regression)])\n",
    "#     fit the training set\n",
    "    pipeline.fit(x_train, y_train)\n",
    "#     make prediction\n",
    "    y_test_pred = pipeline.predict(x_test)\n",
    "    y_train_pred = pipeline.predict(x_train)\n",
    "#     calculate metrics for train and test \n",
    "    metrics.append({\"order\": degrees[i],\n",
    "                    \"MAE for test\":mean_absolute_error(y_test_pred, y_test),\n",
    "                   \"r2_score\":r2_score(y_test_pred, y_test),\n",
    "                   \"RMSE\":np.sqrt(mean_squared_error(y_test_pred, y_test)),\n",
    "                   \"MAE for train\":mean_absolute_error(y_train_pred, y_train),\n",
    "                   })\n",
    "#     calculate loss function for train and test\n",
    "    test_loss.append([np.sqrt(mean_squared_error(y_test_pred, y_test))])\n",
    "    train_loss.append([np.sqrt(mean_squared_error(y_train_pred, y_train))])\n",
    "#     plot the models\n",
    "    plt.plot(x_axis, y_test_pred, label=\"Model\")\n",
    "#     plot the predicted and actual values\n",
    "    plt.scatter(x_axis, y_test, edgecolor='b',  label=\"Actual values\")\n",
    "    plt.scatter(x_axis, y_test_pred, edgecolor='r',  label=\"Predicted values\")\n",
    "    plt.xlabel(\"x\")\n",
    "    plt.ylabel(\"y\")\n",
    "    plt.legend(loc=\"best\")\n",
    "    plt.title(\"Degree {}\\nRMSE = {:.2e})\".format(\n",
    "        degrees[i], metrics[i]['RMSE']))\n",
    "    \n",
    "plt.show()"
   ]
  },
  {
   "cell_type": "code",
   "execution_count": 39,
   "metadata": {},
   "outputs": [
    {
     "name": "stdout",
     "output_type": "stream",
     "text": [
      "{'order': 2, 'MAE for test': 12.808596130647837, 'r2_score': -0.20373644386701706, 'RMSE': 32.183038850308705, 'MAE for train': 4.687220439367297e-13}\n",
      "{'order': 3, 'MAE for test': 45.24279939480706, 'r2_score': -0.05354318330684715, 'RMSE': 131.0190270568824, 'MAE for train': 7.74319952026879e-12}\n",
      "{'order': 4, 'MAE for test': 377.9119275163606, 'r2_score': -0.01447530303452993, 'RMSE': 1166.944981088095, 'MAE for train': 5.425860026780628e-10}\n"
     ]
    }
   ],
   "source": [
    "# printing metrics values\n",
    "\n",
    "for metric in metrics:\n",
    "  print(metric)\n"
   ]
  },
  {
   "cell_type": "code",
   "execution_count": 41,
   "metadata": {},
   "outputs": [
    {
     "data": {
      "image/png": "[encoded data removed]",
      "text/plain": [
       "<Figure size 432x288 with 1 Axes>"
      ]
     },
     "metadata": {
      "needs_background": "light"
     },
     "output_type": "display_data"
    }
   ],
   "source": [
    "\n",
    "plt.plot(degrees,test_loss, label=\"test_loss\")\n",
    "plt.plot(degrees,train_loss, label=\"train_loss\")\n",
    "plt.xlabel(\"Degree\")\n",
    "plt.ylabel(\"RMSE Values\")\n",
    "plt.legend()\n",
    "plt.title('Degree vs RMSE')\n",
    "plt.show()"
   ]
  },
  {
   "cell_type": "markdown",
   "metadata": {},
   "source": [
    "## Question 8\n",
    "\n",
    "- Q8:1 - I would choose degree of 2 because it has the minimum RMSE value. \n",
    "- Q8:2 - No I don't belive it's better to choose a higher degree. Choosing an higher degree may result in the model overfitting the data. "
   ]
  },
  {
   "cell_type": "markdown",
   "metadata": {},
   "source": [
    "## Question 9"
   ]
  },
  {
   "cell_type": "code",
   "execution_count": 42,
   "metadata": {},
   "outputs": [],
   "source": [
    "x_train_a, x_test_a, y_train_a, y_test_a = train_test_split(X, y, test_size=0.2, random_state=20)\n",
    "x_train_b, x_test_b, y_train_b, y_test_b = train_test_split(X, y, test_size=0.2, random_state=30)\n",
    "x_train_c, x_test_c, y_train_c, y_test_c = train_test_split(X, y, test_size=0.2, random_state=40)\n",
    "\n",
    "# three models\n",
    "model_a = LinearRegression()\n",
    "model_b = LinearRegression()\n",
    "model_c = LinearRegression()\n",
    "\n",
    "# model A\n",
    "model_a.fit(x_train_a, y_train_a)\n",
    "y_pred_a = model_a.predict(x_test_a)\n",
    "\n",
    "# model B\n",
    "model_b.fit(x_train_b, y_train_b)\n",
    "y_pred_b = model_b.predict(x_test_b)\n",
    "\n",
    "# model C\n",
    "model_c.fit(x_train_c, y_train_c)\n",
    "y_pred_c = model_c.predict(x_test_c)"
   ]
  },
  {
   "cell_type": "code",
   "execution_count": 43,
   "metadata": {},
   "outputs": [
    {
     "name": "stdout",
     "output_type": "stream",
     "text": [
      "MSE:  253.71845004449153\n",
      "MAE:  11.473691997472308\n",
      "R2 Score:  -3.389755112068329\n"
     ]
    }
   ],
   "source": [
    "# model A prediction metrics/performance\n",
    "print(\"MSE: \", mean_squared_error(y_test_a, y_pred_a))\n",
    "print(\"MAE: \", mean_absolute_error(y_test_a, y_pred_a))\n",
    "print(\"R2 Score: \", r2_score(y_test_a, y_pred_a))"
   ]
  },
  {
   "cell_type": "code",
   "execution_count": 44,
   "metadata": {},
   "outputs": [
    {
     "name": "stdout",
     "output_type": "stream",
     "text": [
      "MSE:  595.214511403251\n",
      "MAE:  14.184481338709231\n",
      "R2 Score:  -11.501883219034317\n"
     ]
    }
   ],
   "source": [
    "# model B prediction metrics/performance\n",
    "print(\"MSE: \", mean_squared_error(y_test_b, y_pred_b))\n",
    "print(\"MAE: \", mean_absolute_error(y_test_b, y_pred_b))\n",
    "print(\"R2 Score: \", r2_score(y_test_b, y_pred_b))"
   ]
  },
  {
   "cell_type": "code",
   "execution_count": 45,
   "metadata": {},
   "outputs": [
    {
     "name": "stdout",
     "output_type": "stream",
     "text": [
      "MSE:  131.65661435253563\n",
      "MAE:  8.27898713923762\n",
      "R2 Score:  -19.96236514018979\n"
     ]
    }
   ],
   "source": [
    "# model C prediction metrics/performance\n",
    "print(\"MSE: \", mean_squared_error(y_test_c, y_pred_c))\n",
    "print(\"MAE: \", mean_absolute_error(y_test_c, y_pred_c))\n",
    "print(\"R2 Score: \", r2_score(y_test_c, y_pred_c))"
   ]
  },
  {
   "cell_type": "markdown",
   "metadata": {},
   "source": [
    "## The models did not turn out the same\n",
    "\n",
    "Even if the models were split using the same data and using the same test size quantity, the seed value used or random state is different which would result in the 3 models following a different training pattern so the models will be different"
   ]
  },
  {
   "cell_type": "markdown",
   "metadata": {},
   "source": [
    "## Question 10"
   ]
  },
  {
   "cell_type": "code",
   "execution_count": 46,
   "metadata": {},
   "outputs": [],
   "source": [
    "# Dropping columns to find most and least important feature of data used in training\n",
    "\n",
    "df = defects_data.drop(defects_data.std()[defects_data.std() == 0].index.values, axis=1)"
   ]
  },
  {
   "cell_type": "code",
   "execution_count": 47,
   "metadata": {},
   "outputs": [
    {
     "name": "stdout",
     "output_type": "stream",
     "text": [
      "Model A max coefficient = 8427248.350163877\n",
      "Model B max coefficient = 51204170.647614166\n",
      "Model C max coefficient = 8857093.188769674\n",
      "\n",
      "Model A min coefficient = 0.003857393155951032\n",
      "Model B min coefficient = 0.003360637080669673\n",
      "Model C min coefficient = 0.0005611559457878723\n"
     ]
    }
   ],
   "source": [
    "max_coeff_model_a = max(abs(model_a.coef_))\n",
    "max_coeff_model_b = max(abs(model_b.coef_))\n",
    "max_coeff_model_c = max(abs(model_c.coef_))\n",
    "\n",
    "print('Model A max coefficient = {}'.format(max_coeff_model_a))\n",
    "print('Model B max coefficient = {}'.format(max_coeff_model_b))\n",
    "print('Model C max coefficient = {}'.format(max_coeff_model_c))\n",
    "\n",
    "print()\n",
    "min_coeff_model_a = min(abs(model_a.coef_))\n",
    "min_coeff_model_b = min(abs(model_b.coef_))\n",
    "min_coeff_model_c = min(abs(model_c.coef_))\n",
    "\n",
    "print('Model A min coefficient = {}'.format(min_coeff_model_a))\n",
    "print('Model B min coefficient = {}'.format(min_coeff_model_b))\n",
    "print('Model C min coefficient = {}'.format(min_coeff_model_c))"
   ]
  },
  {
   "cell_type": "markdown",
   "metadata": {},
   "source": [
    "## Most important feature\n",
    "\n",
    "Using the index of the max coefficient of the 3 models, we can get the most important feature"
   ]
  },
  {
   "cell_type": "code",
   "execution_count": 48,
   "metadata": {},
   "outputs": [
    {
     "name": "stdout",
     "output_type": "stream",
     "text": [
      "The most important feature of model A with index 56 is avgHALSTEAD_LENGTH\n",
      "The most important feature of model B with index 56 is avgHALSTEAD_LENGTH\n",
      "The most important feature of model C with index 56 is avgHALSTEAD_LENGTH\n"
     ]
    }
   ],
   "source": [
    "# Index of the max coefficient in model A,B,C\n",
    "\n",
    "index_of_model_a_feat = abs(model_a.coef_).tolist().index(max_coeff_model_a)\n",
    "index_of_model_b_feat = abs(model_b.coef_).tolist().index(max_coeff_model_b)\n",
    "index_of_model_c_feat = abs(model_c.coef_).tolist().index(max_coeff_model_c)\n",
    "\n",
    "\n",
    "print(\"The most important feature of model A with index {} is {}\".format(index_of_model_a_feat, df.columns[index_of_model_a_feat]))\n",
    "print(\"The most important feature of model B with index {} is {}\".format(index_of_model_b_feat, df.columns[index_of_model_b_feat]))\n",
    "print(\"The most important feature of model C with index {} is {}\".format(index_of_model_c_feat, df.columns[index_of_model_c_feat]))"
   ]
  },
  {
   "cell_type": "markdown",
   "metadata": {},
   "source": [
    "## Least important feature\n",
    "\n",
    "Using the index of the min coefficient of the 3 models, we can get the most important feature"
   ]
  },
  {
   "cell_type": "code",
   "execution_count": 49,
   "metadata": {},
   "outputs": [
    {
     "name": "stdout",
     "output_type": "stream",
     "text": [
      "The least important feature of model A with index 0 is PERCENT_PUB_DATA\n",
      "The least important feature of model B with index 0 is PERCENT_PUB_DATA\n",
      "The least important feature of model C with index 8 is WEIGHTED_METHODS_PER_CLASS\n"
     ]
    }
   ],
   "source": [
    "# Index of the max coefficient in model A,B,C\n",
    "\n",
    "index_of_model_a_feat = abs(model_a.coef_).tolist().index(min_coeff_model_a)\n",
    "index_of_model_b_feat = abs(model_b.coef_).tolist().index(min_coeff_model_b)\n",
    "index_of_model_c_feat = abs(model_c.coef_).tolist().index(min_coeff_model_c)\n",
    "\n",
    "print(\"The least important feature of model A with index {} is {}\".format(index_of_model_a_feat, df.columns[index_of_model_a_feat]))\n",
    "print(\"The least important feature of model B with index {} is {}\".format(index_of_model_b_feat, df.columns[index_of_model_b_feat]))\n",
    "print(\"The least important feature of model C with index {} is {}\".format(index_of_model_c_feat, df.columns[index_of_model_c_feat]))"
   ]
  },
  {
   "cell_type": "markdown",
   "metadata": {},
   "source": [
    "## Part 2"
   ]
  },
  {
   "cell_type": "code",
   "execution_count": 50,
   "metadata": {},
   "outputs": [
    {
     "data": {
      "text/html": [
       "<div>\n",
       "<style scoped>\n",
       "    .dataframe tbody tr th:only-of-type {\n",
       "        vertical-align: middle;\n",
       "    }\n",
       "\n",
       "    .dataframe tbody tr th {\n",
       "        vertical-align: top;\n",
       "    }\n",
       "\n",
       "    .dataframe thead th {\n",
       "        text-align: right;\n",
       "    }\n",
       "</style>\n",
       "<table border=\"1\" class=\"dataframe\">\n",
       "  <thead>\n",
       "    <tr style=\"text-align: right;\">\n",
       "      <th></th>\n",
       "      <th>tcp_packets</th>\n",
       "      <th>dist_port_tcp</th>\n",
       "      <th>external_ips</th>\n",
       "      <th>vulume_bytes</th>\n",
       "      <th>udp_packets</th>\n",
       "      <th>source_app_packets</th>\n",
       "      <th>remote_app_packets</th>\n",
       "      <th>source_app_bytes</th>\n",
       "      <th>remote_app_bytes</th>\n",
       "      <th>source_app_packets.1</th>\n",
       "      <th>dns_query_times</th>\n",
       "      <th>type</th>\n",
       "    </tr>\n",
       "  </thead>\n",
       "  <tbody>\n",
       "    <tr>\n",
       "      <th>0</th>\n",
       "      <td>36</td>\n",
       "      <td>6</td>\n",
       "      <td>3</td>\n",
       "      <td>3911</td>\n",
       "      <td>0</td>\n",
       "      <td>39</td>\n",
       "      <td>33</td>\n",
       "      <td>5100</td>\n",
       "      <td>4140</td>\n",
       "      <td>39</td>\n",
       "      <td>3</td>\n",
       "      <td>benign</td>\n",
       "    </tr>\n",
       "    <tr>\n",
       "      <th>1</th>\n",
       "      <td>117</td>\n",
       "      <td>0</td>\n",
       "      <td>9</td>\n",
       "      <td>23514</td>\n",
       "      <td>0</td>\n",
       "      <td>128</td>\n",
       "      <td>107</td>\n",
       "      <td>26248</td>\n",
       "      <td>24358</td>\n",
       "      <td>128</td>\n",
       "      <td>11</td>\n",
       "      <td>benign</td>\n",
       "    </tr>\n",
       "    <tr>\n",
       "      <th>2</th>\n",
       "      <td>196</td>\n",
       "      <td>0</td>\n",
       "      <td>6</td>\n",
       "      <td>24151</td>\n",
       "      <td>0</td>\n",
       "      <td>205</td>\n",
       "      <td>214</td>\n",
       "      <td>163887</td>\n",
       "      <td>24867</td>\n",
       "      <td>205</td>\n",
       "      <td>9</td>\n",
       "      <td>benign</td>\n",
       "    </tr>\n",
       "    <tr>\n",
       "      <th>3</th>\n",
       "      <td>6</td>\n",
       "      <td>0</td>\n",
       "      <td>1</td>\n",
       "      <td>889</td>\n",
       "      <td>0</td>\n",
       "      <td>7</td>\n",
       "      <td>6</td>\n",
       "      <td>819</td>\n",
       "      <td>975</td>\n",
       "      <td>7</td>\n",
       "      <td>1</td>\n",
       "      <td>benign</td>\n",
       "    </tr>\n",
       "    <tr>\n",
       "      <th>4</th>\n",
       "      <td>6</td>\n",
       "      <td>0</td>\n",
       "      <td>1</td>\n",
       "      <td>882</td>\n",
       "      <td>0</td>\n",
       "      <td>7</td>\n",
       "      <td>6</td>\n",
       "      <td>819</td>\n",
       "      <td>968</td>\n",
       "      <td>7</td>\n",
       "      <td>1</td>\n",
       "      <td>benign</td>\n",
       "    </tr>\n",
       "  </tbody>\n",
       "</table>\n",
       "</div>"
      ],
      "text/plain": [
       "   tcp_packets  dist_port_tcp  external_ips  vulume_bytes  udp_packets  \\\n",
       "0           36              6             3          3911            0   \n",
       "1          117              0             9         23514            0   \n",
       "2          196              0             6         24151            0   \n",
       "3            6              0             1           889            0   \n",
       "4            6              0             1           882            0   \n",
       "\n",
       "   source_app_packets  remote_app_packets  source_app_bytes  remote_app_bytes  \\\n",
       "0                  39                  33              5100              4140   \n",
       "1                 128                 107             26248             24358   \n",
       "2                 205                 214            163887             24867   \n",
       "3                   7                   6               819               975   \n",
       "4                   7                   6               819               968   \n",
       "\n",
       "   source_app_packets.1  dns_query_times    type  \n",
       "0                    39                3  benign  \n",
       "1                   128               11  benign  \n",
       "2                   205                9  benign  \n",
       "3                     7                1  benign  \n",
       "4                     7                1  benign  "
      ]
     },
     "execution_count": 50,
     "metadata": {},
     "output_type": "execute_result"
    }
   ],
   "source": [
    "# Loading the Androind data\n",
    "android_data = pd.read_csv('./android_traffic.csv')\n",
    "#display the data\n",
    "android_data.head()"
   ]
  },
  {
   "cell_type": "code",
   "execution_count": 51,
   "metadata": {},
   "outputs": [
    {
     "name": "stdout",
     "output_type": "stream",
     "text": [
      "(7845, 12)\n",
      "        tcp_packets  dist_port_tcp  external_ips  vulume_bytes  udp_packets  \\\n",
      "count   7845.000000    7845.000000   7845.000000  7.845000e+03  7845.000000   \n",
      "mean     147.578713       7.738177      2.748502  1.654375e+04     0.056724   \n",
      "std      777.920084      51.654222      2.923005  8.225650e+04     1.394046   \n",
      "min        0.000000       0.000000      0.000000  0.000000e+00     0.000000   \n",
      "25%        6.000000       0.000000      1.000000  8.880000e+02     0.000000   \n",
      "50%       25.000000       0.000000      2.000000  3.509000e+03     0.000000   \n",
      "75%       93.000000       0.000000      4.000000  1.218900e+04     0.000000   \n",
      "max    37143.000000    2167.000000     43.000000  4.226790e+06    65.000000   \n",
      "\n",
      "       source_app_packets  remote_app_packets  source_app_bytes  \\\n",
      "count         7845.000000         7845.000000      7.845000e+03   \n",
      "mean           152.911918          194.706310      2.024967e+05   \n",
      "std            779.034618         1068.112696      1.401076e+06   \n",
      "min              1.000000            0.000000      0.000000e+00   \n",
      "25%              7.000000            7.000000      9.340000e+02   \n",
      "50%             30.000000           24.000000      4.090000e+03   \n",
      "75%             98.000000           92.000000      2.624400e+04   \n",
      "max          37150.000000        45928.000000      6.823516e+07   \n",
      "\n",
      "       remote_app_bytes  source_app_packets.1  dns_query_times  \n",
      "count      7.845000e+03           7845.000000      7845.000000  \n",
      "mean       1.692260e+04            152.911918         4.898917  \n",
      "std        8.238182e+04            779.034618        18.900478  \n",
      "min        6.900000e+01              1.000000         0.000000  \n",
      "25%        1.046000e+03              7.000000         1.000000  \n",
      "50%        3.803000e+03             30.000000         3.000000  \n",
      "75%        1.261000e+04             98.000000         5.000000  \n",
      "max        4.227323e+06          37150.000000       913.000000  \n"
     ]
    }
   ],
   "source": [
    "# shape and description of the data\n",
    "print(android_data.shape)\n",
    "\n",
    "print(android_data.describe())"
   ]
  },
  {
   "cell_type": "code",
   "execution_count": 52,
   "metadata": {},
   "outputs": [
    {
     "name": "stdout",
     "output_type": "stream",
     "text": [
      "Number categorical featues: 1\n",
      "Number non-categorical featues: 11\n"
     ]
    }
   ],
   "source": [
    "types = android_data.dtypes\n",
    "print(\"Number categorical featues:\", sum(types=='object'))\n",
    "print(\"Number non-categorical featues: {}\".format(android_data.shape[1] - sum(types == 'object')))"
   ]
  },
  {
   "cell_type": "code",
   "execution_count": 53,
   "metadata": {},
   "outputs": [
    {
     "name": "stdout",
     "output_type": "stream",
     "text": [
      "tcp_packets             False\n",
      "dist_port_tcp           False\n",
      "external_ips            False\n",
      "vulume_bytes            False\n",
      "udp_packets             False\n",
      "source_app_packets      False\n",
      "remote_app_packets      False\n",
      "source_app_bytes        False\n",
      "remote_app_bytes        False\n",
      "source_app_packets.1    False\n",
      "dns_query_times         False\n",
      "type                     True\n",
      "dtype: bool\n"
     ]
    }
   ],
   "source": [
    "print(types == 'object')"
   ]
  },
  {
   "cell_type": "code",
   "execution_count": 54,
   "metadata": {},
   "outputs": [
    {
     "name": "stdout",
     "output_type": "stream",
     "text": [
      "False\n",
      "0\n"
     ]
    }
   ],
   "source": [
    "# find missing values\n",
    "print(android_data.isna().any().any())\n",
    "\n",
    "# find count of missing values\n",
    "print(android_data.isna().sum().sum())"
   ]
  },
  {
   "cell_type": "code",
   "execution_count": 55,
   "metadata": {},
   "outputs": [],
   "source": [
    "# Transformation of categorical features to integers\n",
    "\n",
    "from sklearn.preprocessing import OneHotEncoder\n",
    "\n",
    "encoder = OneHotEncoder(sparse=False, drop='first')\n",
    "cat_feats = ['type']\n",
    "encoder.fit(android_data[cat_feats])\n",
    "\n",
    "def ohe_new_features(df, features_name, encoder):\n",
    "    new_feats = encoder.transform(df[features_name])\n",
    "    new_cols = pd.DataFrame(new_feats, dtype=int, columns=encoder.get_feature_names(features_name))\n",
    "    new_df = pd.concat([df, new_cols], axis=1)\n",
    "    new_df.drop(features_name, axis=1, inplace=True)\n",
    "    return new_df\n",
    "\n",
    "android_data = ohe_new_features(android_data,cat_feats,encoder )"
   ]
  },
  {
   "cell_type": "code",
   "execution_count": 56,
   "metadata": {},
   "outputs": [
    {
     "data": {
      "text/html": [
       "<div>\n",
       "<style scoped>\n",
       "    .dataframe tbody tr th:only-of-type {\n",
       "        vertical-align: middle;\n",
       "    }\n",
       "\n",
       "    .dataframe tbody tr th {\n",
       "        vertical-align: top;\n",
       "    }\n",
       "\n",
       "    .dataframe thead th {\n",
       "        text-align: right;\n",
       "    }\n",
       "</style>\n",
       "<table border=\"1\" class=\"dataframe\">\n",
       "  <thead>\n",
       "    <tr style=\"text-align: right;\">\n",
       "      <th></th>\n",
       "      <th>tcp_packets</th>\n",
       "      <th>dist_port_tcp</th>\n",
       "      <th>external_ips</th>\n",
       "      <th>vulume_bytes</th>\n",
       "      <th>udp_packets</th>\n",
       "      <th>source_app_packets</th>\n",
       "      <th>remote_app_packets</th>\n",
       "      <th>source_app_bytes</th>\n",
       "      <th>remote_app_bytes</th>\n",
       "      <th>source_app_packets.1</th>\n",
       "      <th>dns_query_times</th>\n",
       "      <th>type_malicious</th>\n",
       "    </tr>\n",
       "  </thead>\n",
       "  <tbody>\n",
       "    <tr>\n",
       "      <th>0</th>\n",
       "      <td>36</td>\n",
       "      <td>6</td>\n",
       "      <td>3</td>\n",
       "      <td>3911</td>\n",
       "      <td>0</td>\n",
       "      <td>39</td>\n",
       "      <td>33</td>\n",
       "      <td>5100</td>\n",
       "      <td>4140</td>\n",
       "      <td>39</td>\n",
       "      <td>3</td>\n",
       "      <td>0</td>\n",
       "    </tr>\n",
       "    <tr>\n",
       "      <th>1</th>\n",
       "      <td>117</td>\n",
       "      <td>0</td>\n",
       "      <td>9</td>\n",
       "      <td>23514</td>\n",
       "      <td>0</td>\n",
       "      <td>128</td>\n",
       "      <td>107</td>\n",
       "      <td>26248</td>\n",
       "      <td>24358</td>\n",
       "      <td>128</td>\n",
       "      <td>11</td>\n",
       "      <td>0</td>\n",
       "    </tr>\n",
       "    <tr>\n",
       "      <th>2</th>\n",
       "      <td>196</td>\n",
       "      <td>0</td>\n",
       "      <td>6</td>\n",
       "      <td>24151</td>\n",
       "      <td>0</td>\n",
       "      <td>205</td>\n",
       "      <td>214</td>\n",
       "      <td>163887</td>\n",
       "      <td>24867</td>\n",
       "      <td>205</td>\n",
       "      <td>9</td>\n",
       "      <td>0</td>\n",
       "    </tr>\n",
       "    <tr>\n",
       "      <th>3</th>\n",
       "      <td>6</td>\n",
       "      <td>0</td>\n",
       "      <td>1</td>\n",
       "      <td>889</td>\n",
       "      <td>0</td>\n",
       "      <td>7</td>\n",
       "      <td>6</td>\n",
       "      <td>819</td>\n",
       "      <td>975</td>\n",
       "      <td>7</td>\n",
       "      <td>1</td>\n",
       "      <td>0</td>\n",
       "    </tr>\n",
       "    <tr>\n",
       "      <th>4</th>\n",
       "      <td>6</td>\n",
       "      <td>0</td>\n",
       "      <td>1</td>\n",
       "      <td>882</td>\n",
       "      <td>0</td>\n",
       "      <td>7</td>\n",
       "      <td>6</td>\n",
       "      <td>819</td>\n",
       "      <td>968</td>\n",
       "      <td>7</td>\n",
       "      <td>1</td>\n",
       "      <td>0</td>\n",
       "    </tr>\n",
       "    <tr>\n",
       "      <th>5</th>\n",
       "      <td>54</td>\n",
       "      <td>54</td>\n",
       "      <td>3</td>\n",
       "      <td>5062</td>\n",
       "      <td>0</td>\n",
       "      <td>63</td>\n",
       "      <td>54</td>\n",
       "      <td>5457</td>\n",
       "      <td>5719</td>\n",
       "      <td>63</td>\n",
       "      <td>9</td>\n",
       "      <td>0</td>\n",
       "    </tr>\n",
       "    <tr>\n",
       "      <th>6</th>\n",
       "      <td>6</td>\n",
       "      <td>0</td>\n",
       "      <td>1</td>\n",
       "      <td>889</td>\n",
       "      <td>0</td>\n",
       "      <td>7</td>\n",
       "      <td>6</td>\n",
       "      <td>819</td>\n",
       "      <td>975</td>\n",
       "      <td>7</td>\n",
       "      <td>1</td>\n",
       "      <td>0</td>\n",
       "    </tr>\n",
       "    <tr>\n",
       "      <th>7</th>\n",
       "      <td>6</td>\n",
       "      <td>0</td>\n",
       "      <td>1</td>\n",
       "      <td>1154</td>\n",
       "      <td>0</td>\n",
       "      <td>7</td>\n",
       "      <td>6</td>\n",
       "      <td>593</td>\n",
       "      <td>1228</td>\n",
       "      <td>7</td>\n",
       "      <td>1</td>\n",
       "      <td>0</td>\n",
       "    </tr>\n",
       "    <tr>\n",
       "      <th>8</th>\n",
       "      <td>6</td>\n",
       "      <td>0</td>\n",
       "      <td>1</td>\n",
       "      <td>888</td>\n",
       "      <td>0</td>\n",
       "      <td>7</td>\n",
       "      <td>6</td>\n",
       "      <td>819</td>\n",
       "      <td>974</td>\n",
       "      <td>7</td>\n",
       "      <td>1</td>\n",
       "      <td>0</td>\n",
       "    </tr>\n",
       "    <tr>\n",
       "      <th>9</th>\n",
       "      <td>196</td>\n",
       "      <td>0</td>\n",
       "      <td>3</td>\n",
       "      <td>16110</td>\n",
       "      <td>0</td>\n",
       "      <td>200</td>\n",
       "      <td>264</td>\n",
       "      <td>300472</td>\n",
       "      <td>16410</td>\n",
       "      <td>200</td>\n",
       "      <td>4</td>\n",
       "      <td>0</td>\n",
       "    </tr>\n",
       "  </tbody>\n",
       "</table>\n",
       "</div>"
      ],
      "text/plain": [
       "   tcp_packets  dist_port_tcp  external_ips  vulume_bytes  udp_packets  \\\n",
       "0           36              6             3          3911            0   \n",
       "1          117              0             9         23514            0   \n",
       "2          196              0             6         24151            0   \n",
       "3            6              0             1           889            0   \n",
       "4            6              0             1           882            0   \n",
       "5           54             54             3          5062            0   \n",
       "6            6              0             1           889            0   \n",
       "7            6              0             1          1154            0   \n",
       "8            6              0             1           888            0   \n",
       "9          196              0             3         16110            0   \n",
       "\n",
       "   source_app_packets  remote_app_packets  source_app_bytes  remote_app_bytes  \\\n",
       "0                  39                  33              5100              4140   \n",
       "1                 128                 107             26248             24358   \n",
       "2                 205                 214            163887             24867   \n",
       "3                   7                   6               819               975   \n",
       "4                   7                   6               819               968   \n",
       "5                  63                  54              5457              5719   \n",
       "6                   7                   6               819               975   \n",
       "7                   7                   6               593              1228   \n",
       "8                   7                   6               819               974   \n",
       "9                 200                 264            300472             16410   \n",
       "\n",
       "   source_app_packets.1  dns_query_times  type_malicious  \n",
       "0                    39                3               0  \n",
       "1                   128               11               0  \n",
       "2                   205                9               0  \n",
       "3                     7                1               0  \n",
       "4                     7                1               0  \n",
       "5                    63                9               0  \n",
       "6                     7                1               0  \n",
       "7                     7                1               0  \n",
       "8                     7                1               0  \n",
       "9                   200                4               0  "
      ]
     },
     "execution_count": 56,
     "metadata": {},
     "output_type": "execute_result"
    }
   ],
   "source": [
    "android_data.head(10)"
   ]
  },
  {
   "cell_type": "code",
   "execution_count": 57,
   "metadata": {},
   "outputs": [],
   "source": [
    "# seperate features from target\n",
    "X = android_data.drop(['type_malicious'], axis=1)\n",
    "y = android_data['type_malicious']"
   ]
  },
  {
   "cell_type": "code",
   "execution_count": 58,
   "metadata": {},
   "outputs": [],
   "source": [
    "# feature scaling\n",
    "scaler = StandardScaler()\n",
    "X = scaler.fit_transform(X)"
   ]
  },
  {
   "cell_type": "code",
   "execution_count": 59,
   "metadata": {},
   "outputs": [],
   "source": [
    "# split data into train and test sets\n",
    "x_train, x_test, y_train, y_test = train_test_split(X, y, test_size=0.2, random_state=50)"
   ]
  },
  {
   "cell_type": "code",
   "execution_count": 60,
   "metadata": {
    "scrolled": true
   },
   "outputs": [],
   "source": [
    "# train a model and make prediction\n",
    "from sklearn.linear_model import LogisticRegression\n",
    "from sklearn import metrics\n",
    "\n",
    "clf = LogisticRegression()\n",
    "clf.fit(x_train, y_train)\n",
    "y_pred = clf.predict(x_test)\n",
    "\n"
   ]
  },
  {
   "cell_type": "code",
   "execution_count": 61,
   "metadata": {},
   "outputs": [
    {
     "name": "stdout",
     "output_type": "stream",
     "text": [
      "Accuracy of the logistic regression model = 0.7010834926704907\n",
      "Precision of the logistic regression model = 0.7770897832817337\n",
      "Recall of the logistic regression model = 0.3873456790123457\n",
      "F1-score of score of the logistic regression model = 0.5169927909371782\n"
     ]
    }
   ],
   "source": [
    "accuracy = metrics.accuracy_score(y_test, y_pred)\n",
    "precision = metrics.precision_score(y_test, y_pred)\n",
    "recall = metrics.recall_score(y_test, y_pred)\n",
    "f1_score = metrics.f1_score(y_test,y_pred)\n",
    "\n",
    "print('Accuracy of the logistic regression model = {}'.format(accuracy))\n",
    "print('Precision of the logistic regression model = {}'.format(precision))\n",
    "print('Recall of the logistic regression model = {}'.format(recall))\n",
    "print('F1-score of score of the logistic regression model = {}'.format(f1_score))"
   ]
  },
  {
   "cell_type": "markdown",
   "metadata": {},
   "source": [
    "## Part 2 Question 5\n",
    "\n",
    "The best metric out of the four for the model on the proble domain is **recall**.\n",
    "\n",
    "This is because the problem we're trying to solve is classifying applications as having malware or not. Because we don't want to miss-classify a software that is malware as not malware, (false negative), a lesser threshold value should be considered. \n",
    "\n",
    "#### Recall takes in the weight of the false negatives into it's evaluation which makes it the best metric for this particular model. "
   ]
  },
  {
   "cell_type": "code",
   "execution_count": 62,
   "metadata": {
    "scrolled": true
   },
   "outputs": [
    {
     "name": "stdout",
     "output_type": "stream",
     "text": [
      "Confusion Matrix for Android traffic:\n",
      " [[849  72]\n",
      " [397 251]] \n",
      "\n"
     ]
    }
   ],
   "source": [
    "def calc_confusion_matrix(true_labels, pred_labels):\n",
    "    # Calculate a confusion matrix: \n",
    "    # True labels along Y axis, Predicted ones along X axis      \n",
    "    num_labels = np.unique(true_labels).size      \n",
    "    cm = np.zeros((num_labels, num_labels), dtype=int)\n",
    "    for u, v in zip(true_labels, pred_labels):\n",
    "        cm[u][v] += 1\n",
    "    return cm\n",
    "\n",
    "test_cm = calc_confusion_matrix(np.array(y_test), y_pred)\n",
    "print('Confusion Matrix for Android traffic:\\n', test_cm, '\\n')\n"
   ]
  },
  {
   "cell_type": "code",
   "execution_count": 63,
   "metadata": {},
   "outputs": [
    {
     "name": "stdout",
     "output_type": "stream",
     "text": [
      "TRUE Confusion Matrix for Titanic:\n",
      " [[849  72]\n",
      " [397 251]] \n",
      "\n"
     ]
    }
   ],
   "source": [
    "from sklearn.metrics import confusion_matrix\n",
    "\n",
    "print('TRUE Confusion Matrix for Titanic:\\n', confusion_matrix(y_test, y_pred), '\\n')"
   ]
  },
  {
   "cell_type": "markdown",
   "metadata": {},
   "source": [
    "## Part 3"
   ]
  },
  {
   "cell_type": "markdown",
   "metadata": {},
   "source": [
    "## Question 1"
   ]
  },
  {
   "cell_type": "code",
   "execution_count": 64,
   "metadata": {},
   "outputs": [
    {
     "data": {
      "text/plain": [
       "(145, 2)"
      ]
     },
     "execution_count": 64,
     "metadata": {},
     "output_type": "execute_result"
    }
   ],
   "source": [
    "defects_small = pd.read_csv('./defects_small.csv')\n",
    "#display the data\n",
    "defects_small.head()\n",
    "defects_small.shape"
   ]
  },
  {
   "cell_type": "code",
   "execution_count": 65,
   "metadata": {},
   "outputs": [],
   "source": [
    "y = defects_small['NUMDEFECTS']\n",
    "X = defects_small.drop(['NUMDEFECTS'], axis=1)"
   ]
  },
  {
   "cell_type": "code",
   "execution_count": 66,
   "metadata": {},
   "outputs": [
    {
     "name": "stdout",
     "output_type": "stream",
     "text": [
      "Number of Empty cells in X = 0\n",
      "Number of Empty cells in y = 0\n"
     ]
    }
   ],
   "source": [
    "# check \n",
    "# Missing values check\n",
    "print(\"Number of Empty cells in X =\", pd.isna(X).sum().sum())\n",
    "print(\"Number of Empty cells in y =\", pd.isna(y).sum().sum())"
   ]
  },
  {
   "cell_type": "code",
   "execution_count": 67,
   "metadata": {},
   "outputs": [
    {
     "name": "stdout",
     "output_type": "stream",
     "text": [
      "The MSE of the model is :  58.71252453855316\n"
     ]
    }
   ],
   "source": [
    "x_train, x_test, y_train, y_test = train_test_split(X, y, test_size=0.2, random_state=22)\n",
    "model = LinearRegression()\n",
    "model.fit(x_train, y_train)\n",
    "y_pred = model.predict(x_test)\n",
    "\n",
    "print(\"The MSE of the model is : \", mean_squared_error(y_test, y_pred))"
   ]
  },
  {
   "cell_type": "markdown",
   "metadata": {},
   "source": [
    "## Question 2"
   ]
  },
  {
   "cell_type": "markdown",
   "metadata": {},
   "source": [
    "## Plot of the feature vs # of defects on a 2D graph"
   ]
  },
  {
   "cell_type": "code",
   "execution_count": 68,
   "metadata": {},
   "outputs": [
    {
     "data": {
      "image/png": "[encoded data removed]",
      "text/plain": [
       "<Figure size 432x288 with 1 Axes>"
      ]
     },
     "metadata": {
      "needs_background": "light"
     },
     "output_type": "display_data"
    }
   ],
   "source": [
    "plt.scatter(X, y,c='r')\n",
    "plt.title('NUMDEFECTS vs Feature')\n",
    "plt.ylabel('Number of Defects')\n",
    "plt.xlabel('Feature')\n",
    "plt.show()"
   ]
  },
  {
   "cell_type": "code",
   "execution_count": 69,
   "metadata": {},
   "outputs": [
    {
     "data": {
      "text/plain": [
       "(142, 2)"
      ]
     },
     "execution_count": 69,
     "metadata": {},
     "output_type": "execute_result"
    }
   ],
   "source": [
    "# Removing outliers based on the scatter plot \n",
    "# with feature values that exceed 95 and target values that exceed 80\n",
    "\n",
    "new_defects_small = defects_small[defects_small['avgNUM_OPERATORS']<95]\n",
    "new_defects_small = new_defects_small[new_defects_small['NUMDEFECTS']<80]\n",
    "new_defects_small.shape"
   ]
  },
  {
   "cell_type": "code",
   "execution_count": 70,
   "metadata": {},
   "outputs": [],
   "source": [
    "y_new = new_defects_small['NUMDEFECTS']\n",
    "X_new = new_defects_small.drop(['NUMDEFECTS'], axis=1)"
   ]
  },
  {
   "cell_type": "code",
   "execution_count": 71,
   "metadata": {},
   "outputs": [
    {
     "name": "stdout",
     "output_type": "stream",
     "text": [
      "The MSE of the model is :  42.041004150228275\n"
     ]
    }
   ],
   "source": [
    "# Retraining the model with manually removed outliers\n",
    "\n",
    "x_train, x_test, y_train, y_test = train_test_split(X_new, y_new, test_size=0.2, random_state=22)\n",
    "model = LinearRegression()\n",
    "model.fit(x_train, y_train)\n",
    "y_pred = model.predict(x_test)\n",
    "\n",
    "print(\"The MSE of the model is : \", mean_squared_error(y_test, y_pred))"
   ]
  },
  {
   "cell_type": "code",
   "execution_count": 72,
   "metadata": {},
   "outputs": [
    {
     "data": {
      "image/png": "[encoded data removed]",
      "text/plain": [
       "<Figure size 432x288 with 1 Axes>"
      ]
     },
     "metadata": {
      "needs_background": "light"
     },
     "output_type": "display_data"
    }
   ],
   "source": [
    "plt.scatter(X_new, y_new,c='r')\n",
    "plt.title('NUMDEFECTS vs Feature')\n",
    "plt.ylabel('Number of Defects')\n",
    "plt.xlabel('Feature')\n",
    "plt.show()"
   ]
  },
  {
   "cell_type": "markdown",
   "metadata": {},
   "source": [
    "## Question 3"
   ]
  },
  {
   "cell_type": "markdown",
   "metadata": {},
   "source": [
    "## Techniques for automatic detection of outliers and removal/mitigation.\n",
    "\n",
    "Based on my research, we have mathematical and visual techniques for detecting outliers in a dataset. The methods used then gives us the ability to remove these outliers from the datasets.\n",
    "\n",
    "### Visual detection\n",
    "\n",
    "- using scatter plot:\n",
    "    scatter plots can help us visually see the outliers in a dataset, but this may be problematic in the sense of the     judgement of the viewer could be biased. \n",
    "- using boxploy:\n",
    "    boxplot can also help us visuall see the outliers in a dataset by grouping data points that fall within the upper     and lower quartiles and plotting outliers outside these quartiles. An example of bloxplot is given below using the     defects _small data.\n",
    "    \n",
    "### Mathematical detection\n",
    "\n",
    "- Z-score: a signed (+/-):\n",
    "    measure of value of standard deviation used to assess a datapoint's deviation above the mean   value of the datapoints being observed. \n",
    "\n",
    "- Interquartile range (IQR):\n",
    "    this is the difference between the 1st quartile (25%) and the 3rd quartile (75%). It is very robust against outliers and it's also called H-spread. It is a measure of the spread of the data. \n",
    "    \n",
    "**Other automatica outlier detection algorithms are**\n",
    "- Isolation forest : models the data in a way to seperate the data that are sparse in quantity and also different in the feature space.\n",
    "\n",
    "- Minimum convariance determinant: an ellipsoid that covers the entire data is chosen and outliers are detected by obsserving datapoints that do not fall into the shape.  \n",
    "    \n",
    "    \n",
    "### Resources\n",
    "- [Natasha Sharma- Ways to detect and remove outliers](https://towardsdatascience.com/ways-to-detect-and-remove-the-outliers-404d16608dba)\n",
    "- [Jason Brownlee- 4 Automatic Outlier Detection Algorithms in Python](https://machinelearningmastery.com/model-based-outlier-detection-and-removal-in-python/)"
   ]
  },
  {
   "cell_type": "code",
   "execution_count": 73,
   "metadata": {},
   "outputs": [],
   "source": [
    "import seaborn as sns"
   ]
  },
  {
   "cell_type": "code",
   "execution_count": 74,
   "metadata": {},
   "outputs": [
    {
     "data": {
      "text/plain": [
       "<AxesSubplot:xlabel='avgNUM_OPERATORS'>"
      ]
     },
     "execution_count": 74,
     "metadata": {},
     "output_type": "execute_result"
    },
    {
     "data": {
      "image/png": "[encoded data removed]",
      "text/plain": [
       "<Figure size 432x288 with 1 Axes>"
      ]
     },
     "metadata": {
      "needs_background": "light"
     },
     "output_type": "display_data"
    }
   ],
   "source": [
    "sns.boxplot(x='avgNUM_OPERATORS',data=defects_small)"
   ]
  },
  {
   "cell_type": "markdown",
   "metadata": {},
   "source": [
    "## Thank you!!"
   ]
  },
  {
   "cell_type": "code",
   "execution_count": null,
   "metadata": {},
   "outputs": [],
   "source": []
  }
 ],
 "metadata": {
  "kernelspec": {
   "display_name": "Python 3",
   "language": "python",
   "name": "python3"
  },
  "language_info": {
   "codemirror_mode": {
    "name": "ipython",
    "version": 3
   },
   "file_extension": ".py",
   "mimetype": "text/x-python",
   "name": "python",
   "nbconvert_exporter": "python",
   "pygments_lexer": "ipython3",
   "version": "3.8.5"
  }
 },
 "nbformat": 4,
 "nbformat_minor": 2
}
